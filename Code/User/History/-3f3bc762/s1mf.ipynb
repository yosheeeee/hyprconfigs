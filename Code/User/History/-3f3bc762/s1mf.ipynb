{
  "cells": [
    {
      "cell_type": "markdown",
      "metadata": {
        "id": "SYYUnaHihirI"
      },
      "source": [
        "# Сравнение временных рядов\n",
        "\n",
        "Задание: Сравнить временные ряды (варианты по методам и наборам данных) с эталонным сигналом и идентифицировать состояние.\n",
        "\n",
        "Может быть применено на данных: ЭКГ, ЭЭГ, работа мотора автомобиля, идентификация состояния оборудования и др.\n",
        "\n",
        "Загрузим данные. Будем анализировать данные о работе подшипников:"
      ]
    },
    {
      "cell_type": "code",
      "execution_count": 13,
      "metadata": {
        "id": "XPHSOfuYhirJ"
      },
      "outputs": [
        {
          "data": {
            "text/plain": [
              "Ellipsis"
            ]
          },
          "execution_count": 13,
          "metadata": {},
          "output_type": "execute_result"
        }
      ],
      "source": [
        "# данные тут https://goo.su/czY7\n",
        "\n",
        "import pandas as pd\n",
        "import numpy as np\n",
        "import matplotlib.pyplot as plt\n",
        "\n",
        "\n",
        "# b30hz0.txt - не нормативная работа подшипника (сигналы с четырех датчиков вибрации)\n",
        "data1 = pd.read_csv(\"./b30hz10.txt\", sep=\"\\t\", header=None)\n",
        "# h30hz0.txt - нормативная работа подшипника (сигналы с четырех датчиков вибрации)\n",
        "data2 = pd.read_csv(\"./h30hz10.txt\", sep=\"\\t\")\n",
        "data1.columns = ['s1','s2','s3','s4','t']\n",
        "data2.columns = ['s1','s2','s3','s4','t']\n",
        "data1.drop(columns=['t'], inplace=True)\n",
        "data2.drop(columns=['t'] ,inplace=True)\n",
        "..."
      ]
    },
    {
      "cell_type": "code",
      "execution_count": 14,
      "metadata": {
        "id": "5pkmeAijhirK"
      },
      "outputs": [
        {
          "data": {
            "text/html": [
              "<div>\n",
              "<style scoped>\n",
              "    .dataframe tbody tr th:only-of-type {\n",
              "        vertical-align: middle;\n",
              "    }\n",
              "\n",
              "    .dataframe tbody tr th {\n",
              "        vertical-align: top;\n",
              "    }\n",
              "\n",
              "    .dataframe thead th {\n",
              "        text-align: right;\n",
              "    }\n",
              "</style>\n",
              "<table border=\"1\" class=\"dataframe\">\n",
              "  <thead>\n",
              "    <tr style=\"text-align: right;\">\n",
              "      <th></th>\n",
              "      <th>s1</th>\n",
              "      <th>s2</th>\n",
              "      <th>s3</th>\n",
              "      <th>s4</th>\n",
              "    </tr>\n",
              "  </thead>\n",
              "  <tbody>\n",
              "    <tr>\n",
              "      <th>0</th>\n",
              "      <td>1.260410</td>\n",
              "      <td>-1.357260</td>\n",
              "      <td>-1.916330</td>\n",
              "      <td>1.845700</td>\n",
              "    </tr>\n",
              "    <tr>\n",
              "      <th>1</th>\n",
              "      <td>-0.126204</td>\n",
              "      <td>-2.272830</td>\n",
              "      <td>0.536155</td>\n",
              "      <td>1.530920</td>\n",
              "    </tr>\n",
              "    <tr>\n",
              "      <th>2</th>\n",
              "      <td>-0.903164</td>\n",
              "      <td>-1.042040</td>\n",
              "      <td>-0.741337</td>\n",
              "      <td>1.650110</td>\n",
              "    </tr>\n",
              "    <tr>\n",
              "      <th>3</th>\n",
              "      <td>-1.693560</td>\n",
              "      <td>2.792950</td>\n",
              "      <td>-0.066998</td>\n",
              "      <td>2.017350</td>\n",
              "    </tr>\n",
              "    <tr>\n",
              "      <th>4</th>\n",
              "      <td>-3.556980</td>\n",
              "      <td>2.114110</td>\n",
              "      <td>0.225473</td>\n",
              "      <td>2.329820</td>\n",
              "    </tr>\n",
              "    <tr>\n",
              "      <th>...</th>\n",
              "      <td>...</td>\n",
              "      <td>...</td>\n",
              "      <td>...</td>\n",
              "      <td>...</td>\n",
              "    </tr>\n",
              "    <tr>\n",
              "      <th>111611</th>\n",
              "      <td>-2.650120</td>\n",
              "      <td>-0.908847</td>\n",
              "      <td>-1.379540</td>\n",
              "      <td>6.474160</td>\n",
              "    </tr>\n",
              "    <tr>\n",
              "      <th>111612</th>\n",
              "      <td>-3.455030</td>\n",
              "      <td>4.149470</td>\n",
              "      <td>0.059362</td>\n",
              "      <td>5.129880</td>\n",
              "    </tr>\n",
              "    <tr>\n",
              "      <th>111613</th>\n",
              "      <td>0.138851</td>\n",
              "      <td>3.311860</td>\n",
              "      <td>0.264506</td>\n",
              "      <td>-0.847989</td>\n",
              "    </tr>\n",
              "    <tr>\n",
              "      <th>111614</th>\n",
              "      <td>-5.326050</td>\n",
              "      <td>-0.911559</td>\n",
              "      <td>0.435160</td>\n",
              "      <td>-2.168490</td>\n",
              "    </tr>\n",
              "    <tr>\n",
              "      <th>111615</th>\n",
              "      <td>-5.691600</td>\n",
              "      <td>-2.190750</td>\n",
              "      <td>0.029839</td>\n",
              "      <td>-0.027178</td>\n",
              "    </tr>\n",
              "  </tbody>\n",
              "</table>\n",
              "<p>111616 rows × 4 columns</p>\n",
              "</div>"
            ],
            "text/plain": [
              "              s1        s2        s3        s4\n",
              "0       1.260410 -1.357260 -1.916330  1.845700\n",
              "1      -0.126204 -2.272830  0.536155  1.530920\n",
              "2      -0.903164 -1.042040 -0.741337  1.650110\n",
              "3      -1.693560  2.792950 -0.066998  2.017350\n",
              "4      -3.556980  2.114110  0.225473  2.329820\n",
              "...          ...       ...       ...       ...\n",
              "111611 -2.650120 -0.908847 -1.379540  6.474160\n",
              "111612 -3.455030  4.149470  0.059362  5.129880\n",
              "111613  0.138851  3.311860  0.264506 -0.847989\n",
              "111614 -5.326050 -0.911559  0.435160 -2.168490\n",
              "111615 -5.691600 -2.190750  0.029839 -0.027178\n",
              "\n",
              "[111616 rows x 4 columns]"
            ]
          },
          "execution_count": 14,
          "metadata": {},
          "output_type": "execute_result"
        }
      ],
      "source": [
        "# выберем 200 значений для анализа\n",
        "\n",
        "...\n",
        "data1\n"
      ]
    },
    {
      "cell_type": "code",
      "execution_count": null,
      "metadata": {
        "id": "ttIkjcg-hirL",
        "outputId": "09ff2917-4958-4418-c494-9e6ade24959d"
      },
      "outputs": [
        {
          "data": {
            "text/html": [
              "<div>\n",
              "<style scoped>\n",
              "    .dataframe tbody tr th:only-of-type {\n",
              "        vertical-align: middle;\n",
              "    }\n",
              "\n",
              "    .dataframe tbody tr th {\n",
              "        vertical-align: top;\n",
              "    }\n",
              "\n",
              "    .dataframe thead th {\n",
              "        text-align: right;\n",
              "    }\n",
              "</style>\n",
              "<table border=\"1\" class=\"dataframe\">\n",
              "  <thead>\n",
              "    <tr style=\"text-align: right;\">\n",
              "      <th></th>\n",
              "      <th>s1</th>\n",
              "      <th>s2</th>\n",
              "      <th>s3</th>\n",
              "      <th>s4</th>\n",
              "    </tr>\n",
              "  </thead>\n",
              "  <tbody>\n",
              "    <tr>\n",
              "      <th>1</th>\n",
              "      <td>2.452970</td>\n",
              "      <td>1.400100</td>\n",
              "      <td>-2.825100</td>\n",
              "      <td>0.984487</td>\n",
              "    </tr>\n",
              "    <tr>\n",
              "      <th>2</th>\n",
              "      <td>-0.241284</td>\n",
              "      <td>-0.267390</td>\n",
              "      <td>0.793540</td>\n",
              "      <td>0.605862</td>\n",
              "    </tr>\n",
              "    <tr>\n",
              "      <th>3</th>\n",
              "      <td>1.130270</td>\n",
              "      <td>-0.890918</td>\n",
              "      <td>0.696969</td>\n",
              "      <td>0.613068</td>\n",
              "    </tr>\n",
              "    <tr>\n",
              "      <th>4</th>\n",
              "      <td>-1.296140</td>\n",
              "      <td>0.980479</td>\n",
              "      <td>-1.130560</td>\n",
              "      <td>-0.346971</td>\n",
              "    </tr>\n",
              "    <tr>\n",
              "      <th>5</th>\n",
              "      <td>-1.650290</td>\n",
              "      <td>1.011530</td>\n",
              "      <td>-2.035570</td>\n",
              "      <td>-2.419540</td>\n",
              "    </tr>\n",
              "    <tr>\n",
              "      <th>...</th>\n",
              "      <td>...</td>\n",
              "      <td>...</td>\n",
              "      <td>...</td>\n",
              "      <td>...</td>\n",
              "    </tr>\n",
              "    <tr>\n",
              "      <th>196</th>\n",
              "      <td>2.008710</td>\n",
              "      <td>-1.702090</td>\n",
              "      <td>-2.181540</td>\n",
              "      <td>1.443810</td>\n",
              "    </tr>\n",
              "    <tr>\n",
              "      <th>197</th>\n",
              "      <td>-0.463829</td>\n",
              "      <td>0.336204</td>\n",
              "      <td>-2.404620</td>\n",
              "      <td>-1.808730</td>\n",
              "    </tr>\n",
              "    <tr>\n",
              "      <th>198</th>\n",
              "      <td>-3.372610</td>\n",
              "      <td>6.018860</td>\n",
              "      <td>-3.982170</td>\n",
              "      <td>-2.054900</td>\n",
              "    </tr>\n",
              "    <tr>\n",
              "      <th>199</th>\n",
              "      <td>-4.541170</td>\n",
              "      <td>9.629470</td>\n",
              "      <td>-2.711160</td>\n",
              "      <td>-1.102500</td>\n",
              "    </tr>\n",
              "    <tr>\n",
              "      <th>200</th>\n",
              "      <td>-2.923070</td>\n",
              "      <td>4.449670</td>\n",
              "      <td>-0.486723</td>\n",
              "      <td>-0.148516</td>\n",
              "    </tr>\n",
              "  </tbody>\n",
              "</table>\n",
              "<p>200 rows × 4 columns</p>\n",
              "</div>"
            ],
            "text/plain": [
              "           s1        s2        s3        s4\n",
              "1    2.452970  1.400100 -2.825100  0.984487\n",
              "2   -0.241284 -0.267390  0.793540  0.605862\n",
              "3    1.130270 -0.890918  0.696969  0.613068\n",
              "4   -1.296140  0.980479 -1.130560 -0.346971\n",
              "5   -1.650290  1.011530 -2.035570 -2.419540\n",
              "..        ...       ...       ...       ...\n",
              "196  2.008710 -1.702090 -2.181540  1.443810\n",
              "197 -0.463829  0.336204 -2.404620 -1.808730\n",
              "198 -3.372610  6.018860 -3.982170 -2.054900\n",
              "199 -4.541170  9.629470 -2.711160 -1.102500\n",
              "200 -2.923070  4.449670 -0.486723 -0.148516\n",
              "\n",
              "[200 rows x 4 columns]"
            ]
          },
          "execution_count": 75,
          "metadata": {},
          "output_type": "execute_result"
        }
      ],
      "source": [
        "# посмотрим на получившиеся данные\n",
        "\n",
        "..."
      ]
    },
    {
      "cell_type": "markdown",
      "metadata": {
        "id": "tKcCcbYkhirM"
      },
      "source": [
        "Визуализаруем данные:"
      ]
    },
    {
      "cell_type": "code",
      "execution_count": null,
      "metadata": {
        "id": "nWpSJmnThirM"
      },
      "outputs": [],
      "source": [
        "import matplotlib.pyplot as plt\n",
        "\n",
        "plt.figure(figsize=(10, 6))\n",
        "\n",
        "# Добавление подзаголовка для первого ряда\n",
        "plt.gcf().text(0.5, 0.96, 'НЕ нормативная работа подшипника (сигналы с четырех датчиков вибрации)', ha='center', va='center', fontsize=12)\n",
        "\n",
        "# Построение первого ряда графиков\n",
        "for i, col in enumerate(data1_part.columns):\n",
        "    plt.subplot(2, 4, i+1)\n",
        "    plt.plot(range(n1, n2+1), data1_part[col], color='blue')\n",
        "    plt.xlabel(\"Номер измерения\")\n",
        "    plt.ylabel(\"Вибрация\")\n",
        "    plt.title(f\"s{i+1}\")\n",
        "\n",
        "# Добавление подзаголовка для второго ряда\n",
        "plt.gcf().text(0.5, 0.48, 'Нормативная работа подшипника (сигналы с четырех датчиков вибрации)', ha='center', va='center', fontsize=12)\n",
        "\n",
        "# Построение второго ряда графиков\n",
        "for i, col in enumerate(data2_part.columns):\n",
        "    plt.subplot(2, 4, i+5)\n",
        "    plt.plot(range(n1, n2+1), data2_part[col], color='blue')\n",
        "    plt.xlabel(\"Номер измерения\")\n",
        "    plt.ylabel(\"Вибрация\")\n",
        "    plt.title(f\"s{i+1}\")\n",
        "\n",
        "\n",
        "\n",
        "plt.tight_layout(rect=[0, 0.03, 1, 0.95])  # Настройка отступов\n",
        "plt.subplots_adjust(hspace=0.7) # Увеличение вертикального расстояния между рядами\n",
        "\n"
      ]
    },
    {
      "cell_type": "markdown",
      "metadata": {
        "id": "eUCmvB1MhirN"
      },
      "source": [
        "### Корреляция"
      ]
    },
    {
      "cell_type": "markdown",
      "metadata": {
        "id": "Jb248UcbhirN"
      },
      "source": [
        "**Корреляция** — статистическая взаимосвязь двух или более величин. При этом изменения значений одной или нескольких из этих величин сопутствуют систематическому изменению значений другой или других величин.\n",
        "\n",
        "Математической мерой корреляции двух величин служит *корреляционный коэффициент*.\n",
        "\n",
        "Важной характеристикой совместного распределения двух случайных величин является *ковариация* (или корреляционный момент). Ковариация определяется как математическое ожидание произведения отклонений случайных величин:\n",
        "\n",
        "$cov(X, Y) = \\sigma_{X,Y} = E[(X−E[X])(Y−E[Y])]=E[XY]-E[X]E[Y]$, где $E$ - это математическое ожидание.\n",
        "\n",
        "Если ковариация положительна, то с ростом значений одной случайной величины значения второй имеют тенденцию возрастать, а если знак отрицательный — то убывать.\n",
        "\n",
        "Однако только по абсолютному значению ковариации нельзя судить о том, насколько сильно величины взаимосвязаны, т. к. ее масштаб зависит от их дисперсий.\n",
        "Масштаб можно отнормировать, поделив значение ковариации на произведение среднеквадратических отклонений (квадратных корней из дисперсий). При этом получается так называемый линейный коэффициент корреляции, или **корреляционный коэффициент Пирсона (Брависа — Пирсона)**, который оценивает корреляцию между наборами данных, заданными парами значений $(x_i, y_i) и (\\tilde{x_i}, \\tilde{y_i})$, при $i =1, ..., n$ :\n",
        "\n",
        "$ r = \\frac{cov(X, Y)}{\\sigma_X \\sigma_Y}$, где $\\sigma $ - среднеквадратическое отклонение.\n",
        "\n",
        "Получаемое значение будет лежать в диапазоне $-1 \\leq r \\leq 1$:  $r > 0$ — позитивная корреляция; $r < 0$ — негативная корреляция; $r = 0$ — отсутствие корреляции;\n",
        "\n",
        "$| r |< 0,5$ — слабая корреляция; $0,5 ≤| r |≤ 0,8$ — средняя корреляция; $0,8 <| r |$ — сильная корреляция.\n",
        "\n",
        "Но будьте аккуратны с интерпретацией результатов!\n",
        "\n",
        "![Забавный комикс](https://marketoonist.com/wp-content/uploads/2014/04/140414b.correlation.jpg)"
      ]
    },
    {
      "cell_type": "markdown",
      "metadata": {
        "id": "7QpJZPr2hirN"
      },
      "source": [
        "##### Другие корреляционные коэффициенты\n",
        "\n",
        "**Коэффициент корреляции Спирмена (Spearman rank correlation coefficient)** — мера линейной связи между случайными величинами. Корреляция Спирмена является ранговой, то есть для оценки силы связи используются не численные значения, а соответствующие им ранги. Коэффициент инвариантен по отношению к любому монотонному преобразованию шкалы измерения.\n",
        "\n",
        "Коэффициент считается по следующей формуле:\n",
        "\n",
        "$\\rho = 1 - \\frac{6}{n(n-1)(n+1)\\sum{i=1}^N (R_i - S_i)^2}$, где $R_i$ - ранг наблюдения $x_i$ в ряду $X$, $S_i$ ранг наблюдения $y_i$ в ряду $Y$.\n",
        "\n",
        "Коэффициент $\\rho$ принимает значения из отрезка $[-1;1]$. Равенство $\\rho=1$ указывает на строгую прямую линейную зависимость, $\\rho=-1$ на обратную.\n",
        "\n",
        "**Коэффициент корреляции Кенделла (Kendall tau rank correlation coefficient)**\n",
        "\n",
        "Коэффициент корреляции Кенделла вычисляется по формуле:\n",
        "\n",
        "$\\tau=1-\\frac{4}{n(n-1)}R$, где $R = \\sum_{i=1}^{n-1}\\sum_{j=i+1}^n\\left[ \\left[ x_i\\ <\\ x_j \\right] \\neq \\left[ y_i\\ <\\ y_j \\right] \\right]$ — количество инверсий, образованных величинами $y_i$, расположенными в порядке возрастания соответствующих $x_i$.\n",
        "\n",
        "Коэффициент $\\tau$ принимает значения из отрезка $[-1;1]$. Равенство $\\tau=1$ указывает на строгую прямую линейную зависимость, $\\tau=-1$ на обратную.\n",
        "\n",
        "*Использованы материалы http://www.machinelearning.ru/wiki/*\n",
        "\n",
        "| Коеффициент | Тип данных | Метод | Интерпретация |\n",
        "|----------|----------|----------|----------|\n",
        "| Пирсон    | Используется для количественных данных, которые имеют нормальное распределение   | Измеряет линейную зависимость между двумя переменными. Он основан на значениях самих переменных  | Значение коэффициента варьируется от -1 до 1, где 1 означает полную положительную линейную зависимость, -1 — полную отрицательную, а 0 — отсутствие линейной зависимости|\n",
        "| Спирмен   |Применяется для ранговых данных или для количественных данных, которые не обязательно имеют нормальное распределение  | Оценивает монотонную зависимость между переменными, используя ранги вместо исходных значений. Это делает его более устойчивым к выбросам | Также варьируется от -1 до 1, но отражает не только линейные, но и нелинейные монотонные зависимости |\n",
        "| Кендалл   | Подходит для ранговых данных и может использоваться для количественных данны | Оценивает степень согласия между двумя переменными, основываясь на парных сравнениях. Он вычисляет разницу между количеством согласованных и несогласованных пар  | Значение также варьируется от -1 до 1, но обычно имеет меньшие абсолютные значения по сравнению с коэффициентом Спирмена, что делает его более консервативным |\n"
      ]
    },
    {
      "cell_type": "code",
      "execution_count": null,
      "metadata": {
        "id": "vCL57Xh-hirO"
      },
      "outputs": [],
      "source": [
        "# Расчет коэффициентов корреляции\n",
        "\n",
        "import seaborn as sns\n",
        "\n",
        "plt.figure(figsize=(12,8))\n",
        "\n",
        "# Добавление подзаголовка для первого ряда\n",
        "plt.gcf().text(0.5, 0.96, 'НЕ нормативная работа подшипника (сигналы с четырех датчиков вибрации)', ha='center', va='center', fontsize=12)\n",
        "\n",
        "corr_pearson = data1_part.corr()\n",
        "corr_kendall = data1_part.corr(method='kendall')\n",
        "corr_spearman = data1_part.corr(method='spearman')\n",
        "plt.subplot(2, 3, 1)\n",
        "plt.title('КК Пирсона')\n",
        "sns.heatmap(corr_pearson,cmap='coolwarm',annot=True, fmt=\".2f\", linewidths=0.5)\n",
        "\n",
        "plt.subplot(2, 3, 2)\n",
        "plt.title('КК Кендалла')\n",
        "sns.heatmap(corr_kendall,cmap='coolwarm',annot=True, fmt=\".2f\", linewidths=0.5)\n",
        "\n",
        "plt.subplot(2, 3, 3)\n",
        "plt.title('КК Спирмена')\n",
        "sns.heatmap(corr_spearman,cmap='coolwarm',annot=True, fmt=\".2f\", linewidths=0.5)\n",
        "\n",
        "\n",
        "# Добавление подзаголовка для второго ряда\n",
        "plt.gcf().text(0.5, 0.48, 'Нормативная работа подшипника (сигналы с четырех датчиков вибрации)', ha='center', va='center', fontsize=12)\n",
        "\n",
        "corr_pearson_2 = data2_part.corr()\n",
        "corr_kendall_2 = data2_part.corr(method='kendall')\n",
        "corr_spearman_2 = data2_part.corr(method='spearman')\n",
        "plt.subplot(2, 3, 4)\n",
        "sns.heatmap(corr_pearson_2,cmap='coolwarm',annot=True, fmt=\".2f\", linewidths=0.5)\n",
        "\n",
        "plt.subplot(2, 3, 5)\n",
        "sns.heatmap(corr_kendall_2,cmap='coolwarm',annot=True, fmt=\".2f\", linewidths=0.5)\n",
        "\n",
        "plt.subplot(2, 3, 6)\n",
        "sns.heatmap(corr_spearman_2,cmap='coolwarm',annot=True, fmt=\".2f\", linewidths=0.5)\n",
        "\n",
        "plt.tight_layout(rect=[0, 0.03, 1, 0.95])  # Настройка отступов\n",
        "plt.subplots_adjust(hspace=0.5) # Увеличение вертикального расстояния между рядами\n",
        "plt.show()\n"
      ]
    },
    {
      "cell_type": "markdown",
      "metadata": {
        "id": "TZg7WRlRhirP"
      },
      "source": [
        "### Метод динамической трансформации временной шкалы (евклидово расстояние и $L_p$-норма)\n",
        "\n",
        "### (DTW = Dynamic Time Warping)\n",
        "\n",
        "Различие между двумя временными рядами $C = (c_1, c_2, ..., c_n)$ и $Q=(q_1, q_2, ..., q_n)$ длины $n$ может быть определено следующим образом (евклидово расстояние):\n",
        "\n",
        "$L_2(C, Q) = \\sqrt{\\sum_{i=1}^N (c_i - q_i)^2}$.\n",
        "\n",
        "Альтернативным способом определения различия может быть определение $L_p$-нормы(расстояние Минковского):\n",
        "\n",
        "$L_p(C, Q) = |\\sum_{i=1}^N (c_i - q_i)^p|^{\\frac{1}{p}}$.\n",
        "\n",
        "Евклидово расстояние — одна из самых распространенных мер определения отличий между временными рядами, в случае если разница между C и Q обусловлена только гауссовым шумом. Недостатком подхода можно считать, что он не работает\n",
        "с ненормализованными временными рядами.\n",
        "\n",
        "Нормализация позволяет выявить сходство двух временных рядов в некоторых случаях. Однако она остается непригодна для случаев, когда имеется ускорение или замедление времени (несоответствие шагов времени двух временных рядов).\n",
        "\n",
        "Эта проблема может быть устранена с помощью трансформации временной шкалы. Для того чтобы найти сходство, необходимо трансформировать ось времени для нахождения лучшего подобия.\n",
        "\n",
        "1. Первый этап алгоритма состоит в следующем. Строим матрицу $d$ порядка $n×m$ (матрицу расстояний), в которой элемент $d_{i,j}$ есть расстояние $d(q_i, c_i)$ между двумя точками $q_i$ и $c_j$. Обычно используется евклидово расстояние\n",
        "\n",
        "$d(q_i, c_i) = (q_i - c_j)^2$, или $d(q_i, c_i) = |q_i - c_j|$.\n",
        "\n",
        "Каждый элемент $(i, j)$ матрицы соответствует выравниванию между точками $q_i$ и $c_j$.\n",
        "\n",
        "2. На втором этапе строим матрицу трансформаций (деформаций) $D$, каждый элемент которой вычисляется из следующего соотношения:\n",
        "\n",
        "$D_{i,j} = d_{i,j} + min(D_{i-1,j}, D_{i-1, j-1}, D_{i, j-1})$\n",
        "\n",
        "3. После заполнения матрицы трансформации переходим к заключительному этапу — построению некоторого оптимального пути трансформации (деформации). Путь трансформации $W$ — это набор смежных элементов матрицы, который устанавливает соответствие между $Q$ и $C$ . Он представляет собой путь, который минимизирует общее расстояние между $Q$ и $C$ .\n",
        "k -й элемент пути W определяется как\n",
        "\n",
        "$w_k = (i,j)_k, d(w_k) = d(q_i, c_i)$\n",
        "\n",
        "Таким образом, $W = (w_1, w_2, ..., w_k, ..., w_K ); max(m,n) \\leq K < m+n$, где $K$ - длин пути.\n",
        "\n",
        "Путь трансформации должен удовлетворять следующим ограничивающим условиям:\n",
        "\n",
        "1. Монотонность – путь никогда не возвращается, то есть: оба индекса, $i$ и $j$, которые используются в последовательности, никогда не уменьшаются.\n",
        "\n",
        "2. Непрерывность – последовательность продвигается постепенно: за один шаг индексы, $i$ и $j$, увеличиваются не более чем на 1.\n",
        "\n",
        "3. Предельность – последовательность начинается в левом нижнем углу и заканчивается в правом верхнем.\n",
        "\n",
        "DTW-расстояние (стоимость пути) между двумя последовательностями рассчитывается на основе оптимального пути трансформации с помощью формулы:\n",
        "\n",
        "$DTW(Q, C) = min(\\frac{\\sum_{k=1}^K d(w_k)}{K})$\n",
        "\n",
        "По сути, построение маршрута - классическая задача динамического программирования.\n",
        "\n",
        "*По материалам Л.А. Мыльников \"Статистические методы интеллектуального анализа данных\"*"
      ]
    },
    {
      "cell_type": "code",
      "execution_count": null,
      "metadata": {
        "id": "jNhFi-XRhirP"
      },
      "outputs": [],
      "source": [
        "# %pip install dtw-python"
      ]
    },
    {
      "cell_type": "code",
      "execution_count": null,
      "metadata": {
        "id": "655J4Vl_hirP"
      },
      "outputs": [],
      "source": [
        "data1_part = data1_part.reset_index()\n",
        "data2_part = data2_part.reset_index()"
      ]
    },
    {
      "cell_type": "code",
      "execution_count": null,
      "metadata": {
        "id": "RZ2MiaYkhirQ"
      },
      "outputs": [],
      "source": [
        "from dtw import *\n",
        "\n",
        "# Рассчет DTW\n",
        "alignment = dtw(data1_part['s1'], data1_part['s2'], keep_internals=True)\n",
        "distance = alignment.distance\n",
        "normalized_distance = alignment.normalizedDistance\n",
        "\n",
        "# Вывод результатов\n",
        "print(\"Distance:\", distance)\n",
        "print(\"Normalized Distance:\", normalized_distance)\n",
        "\n",
        "# Этот график отображает три элемента:\n",
        "# Исходный временной ряд s1\n",
        "# Исходный временной ряд s2\n",
        "# Кривую выравнивания (warping curve), которая показывает, как точки одного временного ряда соответствуют точкам другого\n",
        "# Это позволяет визуально оценить, как два ряда были \"сжаты\" или \"растянуты\" для достижения наилучшего соответствия\n",
        "alignment.plot(type=\"threeway\")\n",
        "\n",
        "# Этот график показывает только два временных ряда и их выравнивание.\n",
        "# Он иллюстрирует, как точки из s1 и s2 соотносятся друг с другом, без дополнительных элементов.\n",
        "# Это позволяет сосредоточиться на самом выравнивании и увидеть, как временные ряды \"перекрываются\"\n",
        "alignment.plot(type=\"twoway\")\n"
      ]
    },
    {
      "cell_type": "markdown",
      "metadata": {
        "id": "Qc6nyW6ohirQ"
      },
      "source": [
        "### Внимание!\n",
        "\n",
        "Ваша задача в этой работе: посчитать значение DTW для всех сочетаний, сравнить со значениями коэффициентов корреляции, сделать выводы.\n",
        "\n",
        "Дополнительный балл: Построить матрицу расстояний для метода DTW"
      ]
    },
    {
      "cell_type": "code",
      "execution_count": null,
      "metadata": {
        "id": "tA9Nd_JjhirQ"
      },
      "outputs": [],
      "source": [
        "# TODO: Посчитать значение DTW для всех сочетаний, сравнить со значениями коэффициентов корреляции, сделать выводы\n"
      ]
    },
    {
      "cell_type": "markdown",
      "metadata": {
        "id": "4NyyJ3unhirQ"
      },
      "source": [
        "### Периодограмма\n",
        "\n",
        "**Периодограмма** — оценка спектральной плотности мощности (СПМ, PSD = Power Spectral Density), основанная на вычислении квадрата модуля преобразования Фурье последовательности данных.\n",
        "\n",
        "Простыми словами: это метод анализа сигналов, который позволяет оценить, как мощность сигнала распределяется по частотам.\n",
        "\n",
        "Ещё проще говоря, это график, который показывает, какие частоты в сигнале присутствуют и с какой силой.\n",
        "\n",
        "*Примечание:* Преобразование Фурье и, в частности, быстрое преобразование Фурье - важнейший алгоритм в области обработки сигналов. Он применяется в обработке различных вибраций, звука, изображений, телекоммуникациях, анализе сигналов ЭЭГ и ЭКГ и других временных рядов.\n",
        "\n",
        "Подробее ознакомиться с алгоритмом можно, например, тут: https://proglib.io/p/fourier-transform"
      ]
    },
    {
      "cell_type": "code",
      "execution_count": null,
      "metadata": {
        "id": "KKYvJ-SvhirR"
      },
      "outputs": [],
      "source": [
        "import numpy as np\n",
        "import matplotlib.pyplot as plt\n",
        "\n",
        "def plot_periodogram(signal, i, label):\n",
        "    fs = 100  # частота дискретизации\n",
        "    # Применение FFT\n",
        "    frequencies = np.fft.rfftfreq(len(signal), d=1/fs)\n",
        "    fft_values = np.fft.rfft(signal)\n",
        "\n",
        "    # Вычисление спектральной плотности\n",
        "    psd = np.abs(fft_values)**2 / len(signal)\n",
        "\n",
        "    # Визуализация\n",
        "    plt.subplot(2, 4, i + 1)  # Индекс для подграфиков\n",
        "    plt.plot(frequencies, psd)\n",
        "    plt.title(label)\n",
        "    plt.xlabel('Частота (Гц)')\n",
        "    plt.ylabel('PSD')\n",
        "    plt.grid()\n",
        "\n",
        "# Создание фигуры\n",
        "plt.figure(figsize=(12, 6))\n",
        "\n",
        "# Добавление заголовков для рядов графиков\n",
        "plt.suptitle('Периодограммы сигналов', fontsize=16)\n",
        "\n",
        "# Построение периодограмм для первого набора данных\n",
        "for i, col in enumerate(data1_part.columns[1:]):\n",
        "    plot_periodogram(data1_part[col], i, f\"Периодограмма для s{i+1}\")\n",
        "\n",
        "# Добавление подзаголовка для первого ряда\n",
        "plt.gcf().text(0.5, 0.9, 'НЕ нормативная работа подшипника (сигналы с четырех датчиков вибрации)', ha='center', va='center', fontsize=12,)\n",
        "\n",
        "# Построение периодограмм для второго набора данных\n",
        "for i, col in enumerate(data2_part.columns[1:]):\n",
        "    plot_periodogram(data2_part[col], i + 4, f\"Периодограмма для s{i+1}\")\n",
        "\n",
        "# Добавление подзаголовка для второго ряда\n",
        "plt.gcf().text(0.5, 0.45, 'Нормативная работа подшипника (сигналы с четырех датчиков вибрации)', ha='center', va='center', fontsize=12)\n",
        "\n",
        "# Настройка отступов\n",
        "plt.tight_layout(rect=[0, 0, 1, 0.95])  # Учитываем место для заголовка\n",
        "plt.subplots_adjust(hspace=0.7) # Увеличение вертикального расстояния между рядами\n",
        "plt.show()"
      ]
    },
    {
      "cell_type": "code",
      "execution_count": null,
      "metadata": {
        "id": "aCAzC0LshirS"
      },
      "outputs": [],
      "source": [
        "# Периодограммы из scipy.signal\n",
        "\n",
        "from scipy.signal import periodogram\n",
        "\n",
        "plt.figure(figsize=(12, 6))\n",
        "\n",
        "def plot_periodogram(data, i, label):\n",
        "    f, Pxx = periodogram(data)\n",
        "    plt.subplot(2, 4, i+1)\n",
        "    plt.plot(f, Pxx)\n",
        "    plt.xlabel(\"Частота (Гц)\")\n",
        "    plt.ylabel('PSD')\n",
        "    plt.title(label)\n",
        "\n",
        "for i, col in enumerate(data1_part.columns[1:]):\n",
        "    plot_periodogram(data1_part[col], i, f\"Периодограмма для s{i+1}\")\n",
        "\n",
        "for i, col in enumerate(data2_part.columns[1:]):\n",
        "    plot_periodogram(data2_part[col], i+ 4, f\"Периодограмма для s{i+1}\")\n",
        "\n",
        "plt.tight_layout()"
      ]
    },
    {
      "cell_type": "markdown",
      "metadata": {
        "id": "snzg9rKJhirS"
      },
      "source": [
        "### Декомпозиция по сезонным трендам с помощью LOESS\n",
        "\n",
        "Декомпозиция по сезонным трендам с помощью LOESS (Seasonal and Trend decomposition using Loess, **STL**) - это надежный метод декомпозиции временных рядов, который часто используется в экономическом анализе и анализе окружающей среды. В методе STL используются локально подобранные регрессионные модели для разложения временного ряда на компоненты тренда, сезонности и остатка.\n",
        "\n",
        "LOESS расшифровывается как \"Locally Estimated Scatterplot Smoothing\". Это метод нелинейной регрессии, который используется для сглаживания данных и оценки зависимостей между переменными.\n",
        "\n",
        "Вы можете применить STL к любому набору данных, но значимые результаты будут получены только в том случае, если в данных есть повторяющаяся временная закономерность (например, качество воздуха ухудшается в теплые месяцы, либо онлайн-шоппинг возрастает в четвертом квартале каждого года). Закономерность отображается в результатах STL как сезонный компонент.\n",
        "\n",
        "Алгоритм STL сглаживает временные ряды с помощью LOESS в двух циклах; внутренний цикл выполняет итерацию между сезонным сглаживанием и сглаживанием тренда, а внешний цикл минимизирует влияние выбросов. В ходе внутреннего цикла сезонный компонент вычисляется первым и удаляется для вычисления компонента тренда. Остаток вычисляется путем вычитания сезонного и трендового компононентов из временных рядов.\n",
        "\n",
        "Эти три компонента анализа STL связаны с сырыми временными рядами следующим образом:\n",
        "\n",
        "$y_i = s_i + t_i + r_i$, где\n",
        "\n",
        "$y_i$ - значение временного ряда в точке i.\n",
        "\n",
        "$s_i$ - начение сезонного компонента в точке i.\n",
        "\n",
        "$t_i$ - значение компонента тренда в точке i.\n",
        "\n",
        "$r_i$ - значение компонента остатка в точке i.\n",
        "\n",
        "*Материалы https://doc.arcgis.com/ru/insights/latest/analyze/stl.htm*"
      ]
    },
    {
      "cell_type": "code",
      "execution_count": null,
      "metadata": {
        "id": "9Ls0-1lhhirS"
      },
      "outputs": [],
      "source": [
        "# %pip install statsmodels"
      ]
    },
    {
      "cell_type": "code",
      "execution_count": null,
      "metadata": {
        "id": "WvRp-YKwhirS",
        "outputId": "d945c00a-afdd-447a-d725-ed7dba49a1af"
      },
      "outputs": [
        {
          "data": {
            "image/png": "[encoded data removed]",
            "text/plain": [
              "<Figure size 640x480 with 4 Axes>"
            ]
          },
          "metadata": {},
          "output_type": "display_data"
        }
      ],
      "source": [
        "from statsmodels.tsa.seasonal import STL\n",
        "\n",
        "# STL разложение\n",
        "stl_result = STL(data2_part['s1'], period=7).fit()\n",
        "\n",
        "# График STL разложения\n",
        "stl_result.plot()\n",
        "plt.show()"
      ]
    },
    {
      "cell_type": "code",
      "execution_count": null,
      "metadata": {
        "id": "Z7tZgWXlhirT"
      },
      "outputs": [],
      "source": [
        "# Получение компонентов\n",
        "trend = stl_result.trend\n",
        "seasonal = stl_result.seasonal\n",
        "residual = stl_result.resid"
      ]
    },
    {
      "cell_type": "code",
      "execution_count": null,
      "metadata": {
        "id": "hGaHzOYdhirT"
      },
      "outputs": [],
      "source": [
        "# TODO: Разложить ВСЕ временные ряды на составляющие\n"
      ]
    },
    {
      "cell_type": "code",
      "execution_count": null,
      "metadata": {
        "id": "WA9Nzjs7hirT"
      },
      "outputs": [],
      "source": [
        "# Дополнительный балл: Спрогнозировать составляющие полученные при разложении методом STL с использованием методов с предыдущего семинара,\n",
        "# восстановить прогнозные значения (просуммировать тренд, сезонную компоненту и остатки) и построить графики исходного и прогнозного временных рядов\n",
        "\n"
      ]
    }
  ],
  "metadata": {
    "colab": {
      "provenance": []
    },
    "kernelspec": {
      "display_name": "MNE_env",
      "language": "python",
      "name": "python3"
    },
    "language_info": {
      "codemirror_mode": {
        "name": "ipython",
        "version": 3
      },
      "file_extension": ".py",
      "mimetype": "text/x-python",
      "name": "python",
      "nbconvert_exporter": "python",
      "pygments_lexer": "ipython3",
      "version": "3.12.6"
    },
    "orig_nbformat": 4
  },
  "nbformat": 4,
  "nbformat_minor": 0
}
