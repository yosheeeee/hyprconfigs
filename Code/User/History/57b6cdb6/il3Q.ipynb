{
  "cells": [
    {
      "cell_type": "markdown",
      "metadata": {
        "id": "WfGvT37iFmO-"
      },
      "source": [
        "# Алгоритм поиска ассоциативных правил\n",
        "\n",
        "Задание: Исследовать данные на наличие ассоциативных правил алгоритмом Ariori. Подобрать значения Supp и Сonf. Интерпретировать полученные результаты."
      ]
    },
    {
      "cell_type": "markdown",
      "metadata": {
        "id": "vKWv5P9bFmPB"
      },
      "source": [
        "Алгоритм Apriori является одним из самых широко используемых алгоритмов поиска ассоциативных правил. **Негласно считается, что это первый алгоритм, который надо попробовать при решении задачи добычи данных(data mining).** Кроме алгоритма Apriori на сегодняшний день известны и другие алгоритмы поиска ассоциативных правил: Eclat, алгоритм FP-роста, AprioriDP, OPUS и др. Иногда к группе данных алгоритмов причисляют алгоритмы семейства SlopeOne.\n",
        "\n",
        "Алгоритмы поиска ассоциативных правил нашли широкое распространение при построении экспертных систем, однако кроме этого часто используются и в практической деятельности в сфере торговли (при раскладке товаров: считается, что товары, которые часто покупаются вместе, надо размещать ближе друг к другу)."
      ]
    },
    {
      "cell_type": "markdown",
      "metadata": {
        "id": "orsIv6kuFmPC"
      },
      "source": [
        "### Анализ рыночной корзины с использованием алгоритма Априори в машинном обучении\n",
        "\n",
        "В основе Apriori — поиск частотных множеств элементов в наборе данных. Этот алгоритм построен на ассоциациях и корреляциях между наборами элементов. Он применяется на рекомендательных платформах — там, где мы обычно видим фразу *«Вам также может понравиться»*.\n",
        "\n",
        "![image-2.png](https://i.pinimg.com/564x/55/2b/f9/552bf9bf2c70bd508249bbc9254d4f2b.jpg)\n",
        "\n",
        "*[Источник](https://pin.it/6nEUETn)*"
      ]
    },
    {
      "cell_type": "markdown",
      "metadata": {
        "id": "LlXpaheAFmPD"
      },
      "source": [
        "#### Ассоциативные правила\n",
        "\n",
        "Алгоритм Apriori генерирует ассоциативные правила для набора данных. Ассоциативное правило подразумевает, что если в наборе содержится элемент X, то элемент Y будет содержаться в этом наборе с определённой вероятностью.\n",
        "\n",
        "В алгоритме Apriori предполагается, что любое подмножество частотного набора элементов должно быть частотным. Например, если транзакция {молоко, яйца, хлеб} частотна, должна быть частотной и ее составляющая {яйца, хлеб}."
      ]
    },
    {
      "cell_type": "markdown",
      "metadata": {
        "id": "SY3tnQVYFmPE"
      },
      "source": [
        "#### Пример\n",
        "\n",
        "|Транзакция |\tЭлементы |\n",
        "|-----------|------------|\n",
        "|t1\t        |   {Яблоки, молоко, хлеб}|\n",
        "|t2\t        |\t{Яблоки, бананы}|\n",
        "|t3\t        |\t{Бананы, конфеты}|\n",
        "|t4\t        |\t{Яблоки, хлеб, бананы}|\n",
        "|t5\t        |\t{Яблоки, молоко, хлеб,  бананы, конфеты}|\n",
        "|t6\t        |\t{Молоко, хлеб, конфеты}|\n",
        "|t7\t        |\t{Хлеб, бананы, конфеты}|\n",
        "\n",
        "В данной таблице мы видим 7 транзакций из продуктового магазина. В строке каждой транзакции представлены купленные продукты. Всё множетсво продуктов может быть представлено в виде:\n",
        "$$ I = \\{i_1, i_2, ..., i_k\\}$$\n",
        "В нашем случае:$ I = \\{Яблоки, молоко, хлеб,  бананы, конфеты\\}$\n",
        "\n",
        "Одна транзакция может быть представлена в виде:\n",
        "$$ T = \\{t_1, t_2, ..., t_n\\}$$\n",
        "\n",
        "Например,\n",
        "$T = \\{Яблоки, молоко, хлеб\\}$\n",
        "\n",
        "Ассоциативное правило определяется следующим образом:\n",
        "$$X⇒Y, где X⊂I, Y⊂I и X∩Y=0$$\n",
        "\n",
        "Например, $\\{Яблоки, молоко\\}⇒\\{Хлеб\\}$\n",
        "\n"
      ]
    },
    {
      "cell_type": "markdown",
      "metadata": {
        "id": "yGkn0EcxFmPE"
      },
      "source": [
        "### Принцип работы Apriori\n",
        "\n",
        "Чтобы из всего многообразия правил отобрать интересные, для примера супермаркета применим следующие показатели:\n",
        "\n",
        "- **поддержка**;\n",
        "Поддержка элемента x — это не что иное, как отношение числа транзакций с товаром x к общему числу транзакций.\n",
        "\n",
        "$$ Support(X⇒Y) = \\frac{Frequency(X, Y)}{N}$$\n",
        "\n",
        "Например, $Support(Яблоки⇒Бананы) = \\frac{3}{7} = 43%$\n",
        "\n",
        "- **доверие**;\n",
        "Доверием (X⇒Y) обозначают вероятность покупки товара y при покупке товара x. В этом методе учитывается популярность товара x.\n",
        "\n",
        "$$ Confidence(X⇒Y) = \\frac{Frequency(X, Y)}{Frequency(X)}$$\n",
        "\n",
        "Например, $Confidence(Яблоки⇒Бананы) = \\frac{4/7}{5/7} = 80% $\n",
        "\n",
        "- **лифт**;\n",
        "Лифт (X⇒Y) — это отношение между наблюдаемой поддержкой и ожидаемой моддержкой X и Y, если бы они были независимыми.\n",
        "\n",
        "$$Lift(X⇒Y) = \\frac{Support(X⇒Y)}{Support(X) * Support(Y)}$$\n",
        "\n",
        "Если лифт (X⇒Y) = 1, то корреляции в наборе товаров нет.\n",
        "\n",
        "Если лифт (X⇒Y) > 1, корреляция в наборе товаров положительная, то есть вероятность совместной покупки товаров x и y выше.\n",
        "\n",
        "Если лифт (X⇒Y) < 1, корреляция в наборе товаров отрицательная, то есть совместная покупка товаров x и y маловероятна.\n",
        "\n",
        "Например, $lift(Яблоки⇒Бананы) = \\frac{3/7}{4/7 * 4/7} = 1,3125$\n",
        "\n",
        "- **уверенность**(conviction). Уверенность правила определяется так:\n",
        "\n",
        "$$Conviction(X⇒Y) = \\frac{1 - support(Y)}{1 - confidence(X⇒Y)}$$\n",
        "\n",
        "Его можно интерпретировать как отношение ожидаемой частоты возникновения X без Y, если X и Y независимы, к наблюдаемой частоте неправильных предсказаний.\n",
        "\n",
        "Если уверенность (X ⇒ Y) = 1, то между x и y связи нет.\n",
        "В правиле чем выше уверенность, тем выше интерес.\n",
        "\n",
        "Например, $conviction(Яблоки⇒Бананы) = \\frac{1 - 4/7}{1-4/5} = 1,43$"
      ]
    },
    {
      "cell_type": "markdown",
      "metadata": {
        "id": "RxWvn2FLFmPF"
      },
      "source": [
        "*Основная цель анализа рыночной корзины в маркетинге* – предоставить розничному продавцу информацию, необходимую для понимания покупательского поведения, и это может помочь розничному продавцу принять неправильные решения."
      ]
    },
    {
      "cell_type": "markdown",
      "metadata": {
        "id": "0j0y4GTjFmPF"
      },
      "source": [
        "#### Проанализируем данные потребительской корзины:"
      ]
    },
    {
      "cell_type": "markdown",
      "metadata": {
        "id": "xE3h43euFmPF"
      },
      "source": [
        "Dataset: DataSet_france.csv\n",
        "\n",
        "InvoiceNo: 6-тизначный номер, назначенный для каждой транзакции.\n",
        "\n",
        "StockCode: 5-тизначный номер продукта в системе.\n",
        "\n",
        "Description: Название продукта.\n",
        "\n",
        "Quantity: Количества продукта в транзакции.\n",
        "\n",
        "InvoiceDate: Дата и время покупки.\n",
        "\n",
        "UnitPrice: Цена продукта.\n",
        "\n",
        "CustomerID: 5-тизначный номер покупателя.\n",
        "\n",
        "Country: Название страны, откуда произошла покупка."
      ]
    },
    {
      "cell_type": "code",
      "execution_count": null,
      "metadata": {
        "id": "94-O0wNgFmPG"
      },
      "outputs": [],
      "source": [
        "# для решения нашей задачи будем использовать библиотеку mlxtend(machine learning extensions)\n",
        "%pip install mlxtend"
      ]
    },
    {
      "cell_type": "code",
      "execution_count": null,
      "metadata": {
        "id": "i_gQOsJ9FmPH"
      },
      "outputs": [],
      "source": [
        "# Подгрузим необходимые библиотеки\n",
        "import pandas as pd\n",
        "import matplotlib.pyplot as plt\n",
        "import seaborn as sns\n",
        "\n",
        "# from mlxtend.frequent_patterns import apriori, association_rules"
      ]
    },
    {
      "cell_type": "code",
      "execution_count": null,
      "metadata": {
        "id": "2f1mbJXHFmPH"
      },
      "outputs": [],
      "source": [
        "#посмотрим на данные\n",
        "data = pd.read_csv('./DataSet_france.csv')\n",
        "data.head(5)"
      ]
    },
    {
      "cell_type": "markdown",
      "metadata": {
        "id": "qQVRUOFCFmPI"
      },
      "source": [
        "Проверим качество данных и, при необходимости, почистим:"
      ]
    },
    {
      "cell_type": "code",
      "execution_count": null,
      "metadata": {
        "id": "blyeMfE3FmPI"
      },
      "outputs": [],
      "source": [
        "# data['InvoiceNo'] = data['InvoiceNo'].astype('int')"
      ]
    },
    {
      "cell_type": "markdown",
      "metadata": {
        "id": "TRbyw6SuFmPK"
      },
      "source": [
        "Посмотрим на ТОП-10 самых продаваемых товаров"
      ]
    },
    {
      "cell_type": "code",
      "execution_count": null,
      "metadata": {
        "id": "ZfBQwzNhFmPK"
      },
      "outputs": [],
      "source": [
        "x = data['Description'].value_counts().sort_values(ascending=False)[:10]\n",
        "sns.set_style('darkgrid')\n",
        "sns.barplot(x = x.index, y= x.values, palette='rocket')\n",
        "plt.xticks(rotation=90)\n",
        "plt.show()"
      ]
    },
    {
      "cell_type": "code",
      "execution_count": null,
      "metadata": {
        "id": "0zckfJiBGoF8"
      },
      "outputs": [],
      "source": []
    },
    {
      "cell_type": "markdown",
      "metadata": {
        "id": "dnW_wPEtFmPL"
      },
      "source": [
        "Теперь наши данные достаточно очищены для дальнейшей работы с ними.\n",
        "\n",
        "Для обработки наших данных алгоритмом Apriori в Python, нужно создать список транзакций, как в примере в начале практики.\n",
        "\n",
        "Создадим матрицу, в которой заказы будут перегруппированы по номерам инвойсов(транзакций).\n",
        "Если товар есть в транзакции, в таблице будет стоять 1, если нет, в таблице будет 0."
      ]
    },
    {
      "cell_type": "code",
      "execution_count": null,
      "metadata": {
        "id": "Q623xzAwFmPL"
      },
      "outputs": [],
      "source": [
        "# помимо показанного выше, добавим ещё одно действие - конвертируем таблицу в логический тип данных\n",
        "data_for_apriori = data.groupby(['InvoiceNo', 'Description'])['UnitPrice'].sum().unstack().fillna(0). \\\n",
        "                 map(lambda x: 1 if x > 0 else 0)\n",
        "\n",
        "data_for_apriori.head()"
      ]
    },
    {
      "cell_type": "markdown",
      "metadata": {
        "id": "Vl5BNIS3FmPL"
      },
      "source": [
        "Рассчитаем значения поддержки(support) для каждой возможной конфигурации элементов (порог поддержки выбран 0,01 (1%))"
      ]
    },
    {
      "cell_type": "code",
      "execution_count": null,
      "metadata": {
        "id": "YmGkqLTzFmPM"
      },
      "outputs": [],
      "source": [
        "frequent_itemsets = apriori(data_for_apriori.astype('bool'), min_support=0.01, use_colnames=True)\n",
        "frequent_itemsets.head()"
      ]
    },
    {
      "cell_type": "markdown",
      "metadata": {
        "id": "K4ulpFesFmPM"
      },
      "source": [
        "А теперь создадим правила и посмотрим некоторые из них:"
      ]
    },
    {
      "cell_type": "code",
      "execution_count": null,
      "metadata": {
        "id": "CTED8pW_FmPM"
      },
      "outputs": [],
      "source": [
        "rules = association_rules(frequent_itemsets, metric=\"support\", min_threshold=0.01)\n",
        "\n",
        "rules.sort_values(\"support\", ascending=False).tail(5)"
      ]
    },
    {
      "cell_type": "code",
      "execution_count": null,
      "metadata": {
        "id": "uTdsiCQDFmPM"
      },
      "outputs": [],
      "source": [
        "# выведем результаты с определёнными параметрами\n",
        "rules[(rules[\"support\"]>0.05) & (rules[\"confidence\"]>0.1) & (rules[\"lift\"]>5)].sort_values(\"confidence\", ascending=False).head(5)"
      ]
    },
    {
      "cell_type": "markdown",
      "metadata": {
        "id": "EOx0B5UaFmPM"
      },
      "source": [
        "#### Пример использования правил\n",
        "Представим, что мы работаем в этом Интернет-магазине и хотим создать рекомендательную систему для покупателей. Для этого создадим функцию, которая по названию товара возвращает рекомендуемые товары(по умолчанию - 5 штук):"
      ]
    },
    {
      "cell_type": "code",
      "execution_count": null,
      "metadata": {
        "id": "dyZmFQkCFmPN"
      },
      "outputs": [],
      "source": [
        "def recommend_product(rules, product_name, num_of_products=5):\n",
        "    sorted_rules = rules.sort_values(\"support\", ascending=False)\n",
        "    recommendation_list = []\n",
        "    for idx, product in enumerate(sorted_rules[\"antecedents\"]):\n",
        "        for j in list(product):\n",
        "\n",
        "            if j == product_name:\n",
        "                recommendation_list.append(list(sorted_rules.iloc[idx][\"consequents\"])[0])\n",
        "                recommendation_list = list( dict.fromkeys(recommendation_list) )\n",
        "    return(recommendation_list[0:num_of_products])"
      ]
    },
    {
      "cell_type": "markdown",
      "metadata": {
        "id": "85QjxmFBFmPN"
      },
      "source": [
        "Теперь мы можем передать в функцию товар, попавший в корзину, и выдать рекомендации:"
      ]
    },
    {
      "cell_type": "code",
      "execution_count": null,
      "metadata": {
        "id": "EEyiX8gwFmPN"
      },
      "outputs": [],
      "source": [
        "recommend_product(rules, ('SET/6 RED SPOTTY PAPER PLATES'))"
      ]
    },
    {
      "cell_type": "markdown",
      "metadata": {
        "id": "VAqOoINOFmPN"
      },
      "source": [
        "Рекомендательные системы - яркий пример использования ассоциативных правил. Однако, это не единственная область их применения.\n",
        "Помимо применения  в маркетинге (адресная рассылка (direct mail), кросс-продажи), этот алгоритм можно применять и к анализу данных, для проверки их на \"чистоту\" и отсутствие внутренних зависимостей."
      ]
    }
  ],
  "metadata": {
    "colab": {
      "provenance": []
    },
    "kernelspec": {
      "display_name": "torch_env",
      "language": "python",
      "name": "python3"
    },
    "language_info": {
      "codemirror_mode": {
        "name": "ipython",
        "version": 3
      },
      "file_extension": ".py",
      "mimetype": "text/x-python",
      "name": "python",
      "nbconvert_exporter": "python",
      "pygments_lexer": "ipython3",
      "version": "3.11.4"
    },
    "orig_nbformat": 4
  },
  "nbformat": 4,
  "nbformat_minor": 0
}
