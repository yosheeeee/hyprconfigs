{
  "cells": [
    {
      "cell_type": "markdown",
      "metadata": {
        "id": "2A1lGLQDIRm-"
      },
      "source": [
        "# Интерполяция временных рядов\n",
        "\n",
        "## Проблема недостающих значений\n",
        "\n",
        "Как только недостоверные данные идентифицированы и отброшены, самым важным шагом подготовки данных становится решение проблемы неполных данных.\n",
        "\n",
        "Внесение значений взамен недостающих должно осуществляться с особой осторожностью, чтобы не нарушить закономерности, скрытые в существующих данных.\n"
      ]
    },
    {
      "cell_type": "markdown",
      "metadata": {
        "id": "m1RrOeEqIRnA"
      },
      "source": [
        "Многим из тех, кто сталкивается с научными и инженерными расчётами, часто приходится оперировать наборами значений, полученных опытным путём или методом случайной выборки. Как правило, на основании этих наборов требуется построить функцию, на которую могли бы с высокой точностью попадать другие получаемые значения. Такая задача называется **аппроксимацией**.\n",
        "\n",
        "**Интерполяцией** называют такую *разновидность* аппроксимации, при которой кривая построенной функции проходит точно через имеющиеся точки данных.\n",
        "\n"
      ]
    },
    {
      "cell_type": "markdown",
      "metadata": {
        "id": "qwx87OSNIRnB"
      },
      "source": [
        "Рассмотрим несколько методов интерполяции данных:"
      ]
    },
    {
      "cell_type": "code",
      "execution_count": 1,
      "metadata": {
        "id": "-PUYyZkpIRnB"
      },
      "outputs": [],
      "source": [
        "#Для начала подгрузим необходимые модули и сами данные\n",
        "import pandas as pd\n",
        "import numpy as np\n",
        "import matplotlib.pyplot as plt\n",
        "import seaborn as sns\n"
      ]
    },
    {
      "cell_type": "markdown",
      "metadata": {
        "id": "TxvfQhOJIRnC"
      },
      "source": [
        "Данные ищите здесь:\n",
        "\n",
        "https://goo.su/s4BI - данные о температуре и потребляемой мощности электрической энергии (раноотстоящие узлы)\n",
        "\n",
        "https://goo.su/7RVdDzK - данные о стоимости доллара и нефти (не равноотстоящие узлы)"
      ]
    },
    {
      "cell_type": "code",
      "execution_count": 3,
      "metadata": {
        "id": "6Yf--63cIRnD"
      },
      "outputs": [],
      "source": [
        "# TODO: загрузите CSV файлы\n",
        "data1 = pd.read_csv('./DataSet3_1.csv', sep=\",\") # данные о температуре и потребляемой мощности электрической энергии (раноотстоящие узлы)\n"
      ]
    },
    {
      "cell_type": "code",
      "execution_count": 4,
      "metadata": {
        "id": "TRi829v2IRnD"
      },
      "outputs": [
        {
          "data": {
            "text/html": [
              "<div>\n",
              "<style scoped>\n",
              "    .dataframe tbody tr th:only-of-type {\n",
              "        vertical-align: middle;\n",
              "    }\n",
              "\n",
              "    .dataframe tbody tr th {\n",
              "        vertical-align: top;\n",
              "    }\n",
              "\n",
              "    .dataframe thead th {\n",
              "        text-align: right;\n",
              "    }\n",
              "</style>\n",
              "<table border=\"1\" class=\"dataframe\">\n",
              "  <thead>\n",
              "    <tr style=\"text-align: right;\">\n",
              "      <th></th>\n",
              "      <th>Timestamp</th>\n",
              "      <th>OAT (F)</th>\n",
              "      <th>Power (kW)</th>\n",
              "    </tr>\n",
              "  </thead>\n",
              "  <tbody>\n",
              "    <tr>\n",
              "      <th>34935</th>\n",
              "      <td>12/30/2010 23:00</td>\n",
              "      <td>47</td>\n",
              "      <td>285.8</td>\n",
              "    </tr>\n",
              "    <tr>\n",
              "      <th>34936</th>\n",
              "      <td>12/30/2010 23:15</td>\n",
              "      <td>44</td>\n",
              "      <td>206.6</td>\n",
              "    </tr>\n",
              "    <tr>\n",
              "      <th>34937</th>\n",
              "      <td>12/30/2010 23:30</td>\n",
              "      <td>44</td>\n",
              "      <td>205.9</td>\n",
              "    </tr>\n",
              "    <tr>\n",
              "      <th>34938</th>\n",
              "      <td>12/30/2010 23:45</td>\n",
              "      <td>44</td>\n",
              "      <td>189.4</td>\n",
              "    </tr>\n",
              "    <tr>\n",
              "      <th>34939</th>\n",
              "      <td>12/31/2010 0:00</td>\n",
              "      <td>44</td>\n",
              "      <td>177.9</td>\n",
              "    </tr>\n",
              "  </tbody>\n",
              "</table>\n",
              "</div>"
            ],
            "text/plain": [
              "              Timestamp  OAT (F)  Power (kW)\n",
              "34935  12/30/2010 23:00       47       285.8\n",
              "34936  12/30/2010 23:15       44       206.6\n",
              "34937  12/30/2010 23:30       44       205.9\n",
              "34938  12/30/2010 23:45       44       189.4\n",
              "34939   12/31/2010 0:00       44       177.9"
            ]
          },
          "execution_count": 4,
          "metadata": {},
          "output_type": "execute_result"
        }
      ],
      "source": [
        "# традиционно, сначала посмотрим на данные\n",
        "# очевидно, данные представляют собой показания датчиков температуры и напряжения\n",
        "data1.tail()\n",
        "#OAT = Oudside Air Temperature"
      ]
    },
    {
      "cell_type": "code",
      "execution_count": 6,
      "metadata": {},
      "outputs": [
        {
          "name": "stdout",
          "output_type": "stream",
          "text": [
            "<class 'pandas.core.frame.DataFrame'>\n",
            "RangeIndex: 34940 entries, 0 to 34939\n",
            "Data columns (total 3 columns):\n",
            " #   Column      Non-Null Count  Dtype         \n",
            "---  ------      --------------  -----         \n",
            " 0   Timestamp   34940 non-null  datetime64[ns]\n",
            " 1   OAT (F)     34940 non-null  int64         \n",
            " 2   Power (kW)  34940 non-null  float64       \n",
            "dtypes: datetime64[ns](1), float64(1), int64(1)\n",
            "memory usage: 819.0 KB\n"
          ]
        }
      ],
      "source": [
        "data1['Timestamp'] = pd.to_datetime(data1['Timestamp'], format='%m/%d/%Y %H:%M')"
      ]
    },
    {
      "cell_type": "code",
      "execution_count": 7,
      "metadata": {
        "id": "yGaNKWs4IRnD"
      },
      "outputs": [
        {
          "name": "stdout",
          "output_type": "stream",
          "text": [
            "<class 'pandas.core.frame.DataFrame'>\n",
            "RangeIndex: 34940 entries, 0 to 34939\n",
            "Data columns (total 3 columns):\n",
            " #   Column      Non-Null Count  Dtype         \n",
            "---  ------      --------------  -----         \n",
            " 0   Timestamp   34940 non-null  datetime64[ns]\n",
            " 1   OAT (F)     34940 non-null  int64         \n",
            " 2   Power (kW)  34940 non-null  float64       \n",
            "dtypes: datetime64[ns](1), float64(1), int64(1)\n",
            "memory usage: 819.0 KB\n"
          ]
        }
      ],
      "source": [
        "# TODO: проверьте, какого типа данные хранятся в колонках датафрема и, при необходимости, преобразуйте их\n",
        "data1.info()"
      ]
    },
    {
      "cell_type": "markdown",
      "metadata": {
        "id": "8pBWSvItIRnD"
      },
      "source": [
        "## Интерполяция\n",
        "\n",
        "#### Интерполяция для равноотстоящих точек"
      ]
    },
    {
      "cell_type": "code",
      "execution_count": 11,
      "metadata": {
        "id": "phkVNq31IRnD"
      },
      "outputs": [],
      "source": [
        "# TODO: Для построения интерполяционной кривой выбираем неольшой отрезок [10:25]\n",
        "x = data1['Timestamp'][10:25]\n",
        "x = (data1['Timestamp'][10:25] - data1['Timestamp'].loc[0]) // pd.Timedelta('1s')\n",
        "\n",
        "y = data1['Power (kW)'][10:25]\n",
        "\n",
        "\n",
        "\n",
        "# # Массив значений x1, которые мы хотим интерполировать\n",
        "x1 = np.arange(x.values[0], x.values[-1], 1) #start, stop, step\n",
        "# x1"
      ]
    },
    {
      "cell_type": "markdown",
      "metadata": {
        "id": "xGh8u7--IRnD"
      },
      "source": [
        "### Линейная интерполяция\n",
        "\n",
        "**Линейная интерполяция** — это метод оценки значений функции между двумя известными точками. Этот метод предполагает, что между двумя точками можно провести прямую линию, и значение функции в любой промежуточной точке можно найти, используя уравнение этой прямой.\n",
        "\n",
        "Формула линейной интерполяции имеет вид:\n",
        "\n",
        "$f(x)=f(x_{i}) + \\frac{f(x_{i+1})-f(x_{i})}{x_{i+1}-x_{i}} (x-x_{i})$, при $x_{i} \\leq x \\leq x_{i+1}$"
      ]
    },
    {
      "cell_type": "code",
      "execution_count": 12,
      "metadata": {
        "id": "GrgSi_NXIRnD"
      },
      "outputs": [
        {
          "data": {
            "image/png": "[encoded data removed]",
            "text/plain": [
              "<Figure size 640x480 with 1 Axes>"
            ]
          },
          "metadata": {},
          "output_type": "display_data"
        }
      ],
      "source": [
        "Linear = np.interp(x=x1, xp=x, fp=y)\n",
        "\n",
        "\n",
        "sns.set_style(\"darkgrid\")\n",
        "# График линейной интерполяции\n",
        "sns.lineplot(x=x1, y=Linear, label=\"Linear Interpolation\")\n",
        "\n",
        "# Диаграмма рассеяния\n",
        "sns.scatterplot(x=x, y=y, color=\"red\", marker=\"o\", label='data')\n",
        "\n",
        "# Заголовок и подписи осей\n",
        "plt.xlabel(\"x - time(s)\")\n",
        "plt.ylabel(\"y - power(kW)\")\n",
        "plt.title(\"Linear Interpolation\")\n",
        "\n",
        "# Легенда\n",
        "plt.legend()\n",
        "\n",
        "# Отображение графика\n",
        "plt.show()"
      ]
    },
    {
      "cell_type": "markdown",
      "metadata": {
        "id": "84bIVVYTIRnE"
      },
      "source": [
        "К сожалению, построенная таким образом аппроксимирующая кусочно-линейная функция не обладает *гладкостью* (первая производная этой функции терпит разрывы в узлах стыка полученных прямых). Поэтому рассмотрим другие методы интерполяции."
      ]
    },
    {
      "cell_type": "markdown",
      "metadata": {
        "id": "fXiXHBJbIRnE"
      },
      "source": [
        "### Кубический сплайн\n",
        "\n",
        "Попробуем использовать многочлены и строить интерполяционную функцию последовательно, звено за звеном. В результате получится так называемый полиномиальный многозвенник.\n",
        "\n",
        "При таком подходе важно правильно выбрать степени привлекаемых многочленов, а для гладкости получаемой кривой необходимо тщательно подобрать коэффициенты многочленов (из условий гладкого сопряжения соседних звеньев). Результат применения такого подхода называют *сплайн-функциями* или просто *сплайнами*.\n",
        "\n",
        "**Интерполяционным кубическим сплайном** называется функция $S(x)$ , обладающая следующими свойствами:\n",
        "\n",
        "- график этой функции проходит через каждую точку заданного набора точек $S(x_{i})=y_{i}, \\forall i$;\n",
        "\n",
        "- на каждом из отрезков $[x_{i}, x_{i+1}], i=1,..,n-1$ функция является многочленом третьей степени;\n",
        "\n",
        "- на всем отрезке задания $[x_{0}, x_{n}]$ функция $S(x)$ имеет непрерывную вторую производную."
      ]
    },
    {
      "cell_type": "code",
      "execution_count": null,
      "metadata": {
        "id": "_qLP_LD9IRnE"
      },
      "outputs": [],
      "source": [
        "from scipy.interpolate import CubicSpline\n",
        "\n",
        "# Наши данные x, y, и x1\n",
        "f_cubic = CubicSpline(x, y)\n",
        "S = f_cubic(x1)\n",
        "\n",
        "# График кубической интерполяции\n",
        "sns.lineplot(x=x1, y=S, label=\"Cubic Spline Interpolation\")\n",
        "\n",
        "# Диаграмма рассеяния\n",
        "sns.scatterplot(x=x, y=y, color=\"red\", marker=\"o\", label='data')\n",
        "\n",
        "# Заголовок и подписи осей\n",
        "plt.xlabel(\"x - time(s)\")\n",
        "plt.ylabel(\"y - power(kW)\")\n",
        "plt.title(\"Cubic Spline Interpolation\")\n",
        "\n",
        "# Легенда\n",
        "plt.legend()\n",
        "\n",
        "# Отображение графика\n",
        "plt.show()"
      ]
    },
    {
      "cell_type": "code",
      "execution_count": null,
      "metadata": {
        "id": "IzmA6o7jIRnE"
      },
      "outputs": [],
      "source": [
        "# Получение коэффициентов\n",
        "coefficients = f_cubic.c  # Коэффициенты сплайна\n",
        "\n",
        "print(\"Коэффициенты кубического сплайна:\")\n",
        "print(coefficients)"
      ]
    },
    {
      "cell_type": "markdown",
      "metadata": {
        "id": "yZGhuT2pIRnE"
      },
      "source": [
        "### Интерполяционная формула Лагранжа\n",
        "\n",
        "Пусть функция $f$ задана таблицей.\n",
        "\n",
        "Интерполяционный полином Лагранжа позволяет находить значение функции в точках, которые не были заданы, на основе известных значений в узловых точках. Полином Лагранжа $P(x)$ для $n+1$ узлов $(x_{0}, y_{0})$, $(x_{1}, y_{1})$, ..., $(x_{n}, y_{n})$ записывается в следующем виде:\n",
        "\n",
        "$P(x) = \\sum_{i=0, n} y_{i}L_{i}(x)$,\n",
        "\n",
        "где $L_{i}(x)$ - это базисные полиномы Лагранжа, определяемые как:\n",
        "\n",
        "$L_{i}(x) =\n",
        "\\prod_{\\substack{0 \\leq j \\leq n \\\\ j \\neq i}} \\frac {x - x_{j}}{x_{i}-x_{j}}\n",
        "$\n",
        "\n",
        "\n",
        "где $y_i$ — значение функции в узловой точке $x_i$\n",
        "\n",
        "$L_{i}(x)$ - полином, который равен 1 в точке $x_i$ и 0 в остальных узловых точках $x_j$ ($j≠i$)\n",
        "\n",
        "После преобразований получим:\n",
        "\n",
        "$L_{n} = \\sum_{i=0, n} y_{i} \\frac {(x - x_{0})* ... *(x - x_{n})} {(x_{i}-x_{0})*...*(x_{i}-x_{n})}$\n",
        "\n",
        "Полученное выражение называют **интерполяционным полиномом Лагранжа**."
      ]
    },
    {
      "cell_type": "code",
      "execution_count": null,
      "metadata": {
        "id": "o1VGESY1IRnE"
      },
      "outputs": [],
      "source": [
        "x, y = np.array(x), np.array(y)"
      ]
    },
    {
      "cell_type": "code",
      "execution_count": null,
      "metadata": {
        "id": "jSdgTMjDIRnE"
      },
      "outputs": [],
      "source": [
        "def lagrange_interpolation(x_values, y_values, x):\n",
        "    #TODO Дополнительное задание:\n",
        "    #напишите код функции, вычисляющей значения коэффициентов полинома Лагранжа\n",
        "    '''\n",
        "    x_values: значения по x\n",
        "    y-values: значения по y\n",
        "    x: значения по оси x\n",
        "\n",
        "    функция должна возвращать значение по y для построения графика\n",
        "    '''\n",
        "\n",
        "\n",
        "# Generate points for plotting the interpolated curve\n",
        "y1 = [lagrange_interpolation(x, y, x_i) for x_i in x1]\n",
        "\n",
        "\n",
        "#TODO: Постройте график по полученным значениям. Не забудьте нанести на график точки x, y!"
      ]
    },
    {
      "cell_type": "markdown",
      "metadata": {
        "id": "R24f98UyIRnF"
      },
      "source": [
        "Функция krogh_interpolate названа в честь Бенжамина Кроха (B. Krogh), который разработал эффективные алгоритмы для полиномиальной интерполяции и численного дифференцирования. Эти алгоритмы были представлены в работе, опубликованной в 1970 году.\n",
        "\n",
        "Функция krogh_interpolate позволяет создавать интерполяционный полином, который проходит через заданные точки, а также может учитывать производные в этих точках.  Функция принимает массивы значений $x$ и $y$ (известные точки) и может дополнительно принимать значения производных в этих точках. Это позволяет строить более точные и гладкие полиномы, чем при использовании стандартной полиномиальной интерполяции, такой как метод Лагранжа."
      ]
    },
    {
      "cell_type": "code",
      "execution_count": null,
      "metadata": {
        "id": "xOAxgN1bIRnF"
      },
      "outputs": [],
      "source": [
        "from scipy.interpolate import krogh_interpolate\n",
        "lagrange_interp = krogh_interpolate(x, y, x1)\n",
        "\n",
        "# График интерполяции Лагранжа\n",
        "sns.lineplot(x=x1, y=lagrange_interp , label=\"Krogh Interpolation\")\n",
        "\n",
        "# Диаграмма рассеяния\n",
        "sns.scatterplot(x=x, y=y, color=\"red\", marker=\"o\", label='Data Points')\n",
        "\n",
        "# Заголовок и подписи осей\n",
        "plt.xlabel(\"x - time(s)\")\n",
        "plt.ylabel(\"y - power(kW)\")\n",
        "plt.title(\"Krogh Interpolation\")\n",
        "\n",
        "# Легенда\n",
        "plt.legend()\n",
        "\n",
        "# Отображение графика\n",
        "plt.show()"
      ]
    },
    {
      "cell_type": "markdown",
      "metadata": {
        "id": "_ypCEHd8IRnF"
      },
      "source": [
        "### Формула Ньютона\n",
        "\n",
        "Для функции с неравноотстоящими точками интерполяция может осуществляться по формуле Ньютона. В формуле Ньютона для неравноотстоящих узлов используются выражения, которые называют разделенными разностями.\n",
        "\n",
        "![image.png](attachment:image.png)\n",
        "\n",
        "В приведенных формулах $x_{i}, y_{i}$ — значения аргумента и функции в узловых точках.\n",
        "\n",
        "Запишем через разделенные разности интерполяционную формулу Ньютона для неравноотстоящих узловых точек:\n",
        "\n",
        "$P(x)=y_{0}+[x_{0}, x_{1}](x-x_{0})+...+[x_{0},x_{1},...,x_{n}](x-x_{0})(x-x_{1})...(x-x_{n})$"
      ]
    },
    {
      "cell_type": "code",
      "execution_count": null,
      "metadata": {
        "id": "d_B-gHb_IRnF"
      },
      "outputs": [],
      "source": [
        "def divided_differences(x, y):\n",
        "    \"\"\"\n",
        "    Вычисление разделённых разностей\n",
        "    x: список или np array содержащий значения по x\n",
        "    y: список или np array содержащий значения по y\n",
        "\n",
        "    return ...: коэффициенты при членах полинома Ньютона\n",
        "    \"\"\"\n",
        "    n = len(y)\n",
        "    coef = np.zeros([n, n])\n",
        "    coef[:, 0] = y  # Первый столбец - значения функции\n",
        "\n",
        "    for j in range(1, n):\n",
        "        for i in range(n - j):\n",
        "            #TODO: Реализуйте вычисление коэффициента\n",
        "            pass\n",
        "\n",
        "    return ... # Возвращаем коэффициенты полинома\n",
        "\n",
        "def newton_interpolation(x, y, x_value):\n",
        "    \"\"\"\n",
        "    x: данные по x\n",
        "    y: данные по y\n",
        "    x_value: точка в которой сейчас строим полином\n",
        "\n",
        "    return p: значение по y в точке x\n",
        "    \"\"\"\n",
        "    # инициализация переменных\n",
        "    coef = divided_differences(x, y)\n",
        "    n = len(coef)\n",
        "    p = coef[0]\n",
        "\n",
        "    for i in range(1, n):\n",
        "        #TODO: реализуте вычисление p\n",
        "        pass\n",
        "\n",
        "    return p\n",
        "\n",
        "# Вычислите значения интерполяционного полинома для новых x1\n",
        "y_interp =  [newton_interpolation(x, y, x_i) for x_i in x1]\n",
        "\n",
        "# График интерполяции Лагранжа\n",
        "sns.lineplot(x=x1, y=y_interp, color=\"black\", label=\"Newton Interpolation\")\n",
        "\n",
        "# Диаграмма рассеяния данных\n",
        "sns.scatterplot(x=x, y=y, color=\"green\", marker=\"o\", label=\"Data\")\n",
        "\n",
        "# Заголовок и подписи осей\n",
        "plt.xlabel(\"x\")\n",
        "plt.ylabel(\"y\")\n",
        "plt.title(\"Newton Interpolation\")\n",
        "\n",
        "# Легенда\n",
        "plt.legend()\n",
        "\n",
        "# Отображение графика\n",
        "plt.show()"
      ]
    },
    {
      "cell_type": "markdown",
      "metadata": {
        "id": "x_hZy7GdIRnF"
      },
      "source": [
        "### Бонус:\n",
        "#### Метод .interpolate() объектов Series/DataFrame в pandas\n",
        "\n",
        "Заполняет значения NaN, используя метод интерполяции.\n",
        "Синтаксис:"
      ]
    },
    {
      "cell_type": "code",
      "execution_count": null,
      "metadata": {
        "id": "Lq-BbreCIRnF"
      },
      "outputs": [],
      "source": [
        "df = DataFrame.interpolate(method='linear', axis=0, limit=None,\n",
        "                          inplace=False, limit_direction=None,\n",
        "                          limit_area=None, downcast=None, **kwargs)\n",
        "\n",
        "s = Series.interpolate(method='linear', limit=None, inplace=False,\n",
        "                       limit_direction=None, limit_area=None, downcast=None, **kwargs)"
      ]
    },
    {
      "cell_type": "markdown",
      "metadata": {
        "id": "_7BsYxm6IRnF"
      },
      "source": [
        "Подробнее, например, тут https://docs-python.ru/packages/modul-pandas-analiz-dannykh-python/interpolate-series-dataframe/"
      ]
    },
    {
      "cell_type": "code",
      "execution_count": null,
      "metadata": {
        "id": "QKL9M3ZfIRnF"
      },
      "outputs": [],
      "source": [
        "s = pd.Series([1, 1, 2, np.nan, 5, np.nan, 13])"
      ]
    },
    {
      "cell_type": "code",
      "execution_count": null,
      "metadata": {
        "id": "d5tKO7tuIRnG"
      },
      "outputs": [],
      "source": [
        "s.interpolate()"
      ]
    },
    {
      "cell_type": "code",
      "execution_count": null,
      "metadata": {
        "id": "IqTlI6pHIRnG"
      },
      "outputs": [],
      "source": [
        "# сработает только при налиции NaN!!!\n",
        "data1['Power (kW)'].interpolate(method='spline', order=3)"
      ]
    },
    {
      "cell_type": "markdown",
      "metadata": {
        "id": "gG-ZOkoHIRnG"
      },
      "source": [
        "Отвлечёмся на маленькое задание:\n",
        "\n",
        "Пройдите, пожалуйста, тест!\n",
        "\n",
        "<a href=\"http://www.stqr.ru/qrcodes/QR-code_url_23_Sep_2024_16-37-33.svg\" alt=\"qr code\"><img src=\"http://www.stqr.ru/qrcodes/QR-code_url_23_Sep_2024_16-37-33.svg\" width=400 height=400></a>"
      ]
    },
    {
      "cell_type": "markdown",
      "metadata": {
        "id": "xyEa4Q8yIRnG"
      },
      "source": [
        "Итак, Ваше задание:\n",
        "\n",
        "1) Скачать файлы данных или подобрать свои (https://disk.yandex.ru/d/ADpRgSJX_uJ4qQ )\n",
        "   - DataSet3_1 – Данные о частоте и потребляемой мощности электрической энергии офисным зданием (регулярный временной ряд)\n",
        "      - Timestamp - дата в формате мм/дд/гггг чч:мм\n",
        "      - OAT (F) - Outside Air Temperature — температура наружного воздуха, в градусах Фаренгейта.\n",
        "      - Power (kW) - Мощность в киловаттах\n",
        "   - DataSet3_2 – данные о курсе доллара и стоимости барреля нефти (нерегулярный временной ряд)\n",
        "      - Data - дата в формате дд.мм.гггг\n",
        "      - Dollar - стоимость 1 доллара в этот день\n",
        "      - Oil Brent - стоимость одного барреля нефти Oil Brent  \n",
        "\n",
        "Взять не менее 10 значений и построить по ним интерполяционные кривые\n",
        "   - по формуле Лагранжа\n",
        "   - по формуле Ньютона\n",
        "   - с использованием сплайнов (интерполяция кубическим сплайном)\n",
        "\n",
        "*Дополнительные баллы:*\n",
        "1) Свой файл данных\n",
        "2) Продолжить интерполяционные кривые за пределы рассматриваемого интервала\n",
        "3) Реализовать построение кривых без использования встроенных функций/библиотек\n",
        "\n",
        "---"
      ]
    }
  ],
  "metadata": {
    "colab": {
      "provenance": []
    },
    "kernelspec": {
      "display_name": "MNE_env",
      "language": "python",
      "name": "python3"
    },
    "language_info": {
      "codemirror_mode": {
        "name": "ipython",
        "version": 3
      },
      "file_extension": ".py",
      "mimetype": "text/x-python",
      "name": "python",
      "nbconvert_exporter": "python",
      "pygments_lexer": "ipython3",
      "version": "3.12.6"
    },
    "orig_nbformat": 4
  },
  "nbformat": 4,
  "nbformat_minor": 0
}
