{
  "cells": [
    {
      "cell_type": "markdown",
      "metadata": {
        "id": "7Smdoj9TtKNw"
      },
      "source": [
        "# Экстраполяция временных рядов\n",
        "### Многопараметрическая экстраполяция\n",
        "\n",
        "Под множественными регрессионными моделями будем понимать класс моделей, в которых значения одного или множества исследуемых параметров зависят **от нескольких (более одного) других параметров**."
      ]
    },
    {
      "cell_type": "code",
      "execution_count": 1,
      "metadata": {
        "id": "n1HxzWRctKNy"
      },
      "outputs": [],
      "source": [
        "# импортируем библиотеки\n",
        "\n",
        "import pandas as pd\n",
        "import numpy as np\n",
        "import matplotlib.pyplot as plt\n",
        "import seaborn as sns"
      ]
    },
    {
      "cell_type": "code",
      "execution_count": 17,
      "metadata": {
        "id": "--iKi5iitKN0"
      },
      "outputs": [
        {
          "name": "stdout",
          "output_type": "stream",
          "text": [
            "<class 'pandas.core.frame.DataFrame'>\n",
            "RangeIndex: 3019 entries, 0 to 3018\n",
            "Data columns (total 7 columns):\n",
            " #   Column  Non-Null Count  Dtype  \n",
            "---  ------  --------------  -----  \n",
            " 0   Date    3019 non-null   object \n",
            " 1   Open    3019 non-null   float64\n",
            " 2   High    3019 non-null   float64\n",
            " 3   Low     3019 non-null   float64\n",
            " 4   Close   3019 non-null   float64\n",
            " 5   Volume  3019 non-null   int64  \n",
            " 6   Name    3019 non-null   object \n",
            "dtypes: float64(4), int64(1), object(2)\n",
            "memory usage: 165.2+ KB\n"
          ]
        }
      ],
      "source": [
        "# Загрузим данные. В практической работе можно использовать эти данные или взять данные из открытых источников\n",
        "# помните о баллах\n",
        "\n",
        "# Стоимость и объем продаж акций компании Google (работа с временными рядами, может быть решена задача прогнозирования)\n",
        "# Возьмём DataSet1_3.csv\n",
        "data1 = pd.read_csv('./DataSet1_3.csv')\n",
        "# data1.head()\n",
        "data1.info()"
      ]
    },
    {
      "cell_type": "markdown",
      "metadata": {
        "id": "VfJXnSlItKN0"
      },
      "source": [
        "По условиям работы, мы выберем 100 значений для прогнозирования."
      ]
    },
    {
      "cell_type": "markdown",
      "metadata": {
        "id": "gziuyrnHtKN1"
      },
      "source": [
        "Добавление значений целевого параметра со сдвигом на один шаг в прошлое при построении регрессии называется созданием лагов (lags) для целевой переменной. Это позволяет учесть зависимость текущего значения целевой переменной от ее предыдущих значений."
      ]
    },
    {
      "cell_type": "code",
      "execution_count": 27,
      "metadata": {
        "id": "HpvKyKrHtKN2"
      },
      "outputs": [],
      "source": [
        "# Выберем данные\n",
        "n1 = 101\n",
        "n2 = 300\n",
        "\n",
        "data1['lag'] = data1['Close'].iloc[n1-1:n2].shift(1).copy()\n",
        "\n",
        "data = data1[n1:n2].copy().reset_index(drop=True)\n",
        "\n",
        "# сделаем колонку \"Days\", дату переведём в дни\n",
        "data['Date'] = pd.to_datetime(data['Date'], format=\"%Y-%m-%d\")\n",
        "data['Days'] = (data['Date'] - data['Date'].iloc[0]).dt.days\n",
        "data['Days'] -= data['Days'].iloc[0] - 1\n",
        "\n",
        "data = data.drop(columns=['Date','Name', 'Volume'])\n",
        "# удалим лишние колонки. Какие?"
      ]
    },
    {
      "cell_type": "code",
      "execution_count": 28,
      "metadata": {
        "id": "Kr0wM-MntKN3"
      },
      "outputs": [],
      "source": [
        "from sklearn.model_selection import train_test_split\n",
        "\n",
        "X = data.drop(columns=['Close'])\n",
        "y = data['Close']\n",
        "\n",
        "X_train, X_test, y_train, y_test = train_test_split(X, y, test_size=0.2, shuffle=False)"
      ]
    },
    {
      "cell_type": "markdown",
      "metadata": {
        "id": "h3Dk7Va-tKN4"
      },
      "source": [
        "### Метод наименьших квадратов\n",
        "\n",
        "Используем МНК для многопараметрической регрессии"
      ]
    },
    {
      "cell_type": "code",
      "execution_count": 29,
      "metadata": {
        "id": "4HW3PMGHtKN4"
      },
      "outputs": [
        {
          "name": "stdout",
          "output_type": "stream",
          "text": [
            "[[1.8933000e+02 1.9069000e+02 1.8591000e+02 4.3159300e+06 1.9087000e+02\n",
            "  1.0000000e+00]\n",
            " [1.8709000e+02 1.8931000e+02 1.8357000e+02 7.9827320e+06 1.8616000e+02\n",
            "  2.0000000e+00]\n",
            " [1.8696000e+02 1.9169000e+02 1.8599000e+02 6.2802230e+06 1.8610000e+02\n",
            "  3.0000000e+00]\n",
            " [1.9292000e+02 1.9373000e+02 1.8891000e+02 6.3864420e+06 1.9150000e+02\n",
            "  4.0000000e+00]\n",
            " [1.8828000e+02 1.9092000e+02 1.8726000e+02 5.5599920e+06 1.8991000e+02\n",
            "  7.0000000e+00]\n",
            " [1.8848000e+02 1.9520000e+02 1.8834000e+02 1.0263036e+07 1.8741000e+02\n",
            "  8.0000000e+00]\n",
            " [1.9682000e+02 1.9763000e+02 1.9344000e+02 8.9125790e+06 1.9519000e+02\n",
            "  9.0000000e+00]\n",
            " [1.9407000e+02 1.9733000e+02 1.8948000e+02 1.0360552e+07 1.9345000e+02\n",
            "  1.0000000e+01]\n",
            " [1.9629000e+02 1.9791000e+02 1.9287000e+02 6.1593650e+06 1.9685000e+02\n",
            "  1.1000000e+01]\n",
            " [1.9436000e+02 1.9544000e+02 1.9069000e+02 5.0210830e+06 1.9348000e+02\n",
            "  1.4000000e+01]\n",
            " [1.9064000e+02 1.9369000e+02 1.8925000e+02 7.6621240e+06 1.9096000e+02\n",
            "  1.5000000e+01]\n",
            " [1.9511000e+02 1.9575000e+02 1.8945000e+02 7.7733600e+06 1.9346000e+02\n",
            "  1.6000000e+01]\n",
            " [1.9350000e+02 1.9632000e+02 1.9169000e+02 6.7884010e+06 1.9239000e+02\n",
            "  1.7000000e+01]\n",
            " [1.9474000e+02 1.9566000e+02 1.9419000e+02 5.3069790e+06 1.9570000e+02\n",
            "  1.8000000e+01]\n",
            " [1.9562000e+02 1.9760000e+02 1.9368000e+02 7.6346920e+06 1.9555000e+02\n",
            "  2.1000000e+01]\n",
            " [1.9421000e+02 1.9613000e+02 1.9345000e+02 4.0452190e+06 1.9426000e+02\n",
            "  2.2000000e+01]\n",
            " [1.9573000e+02 2.0220000e+02 1.9507000e+02 8.7450470e+06 1.9378000e+02\n",
            "  2.3000000e+01]\n",
            " [2.0099000e+02 2.0320000e+02 1.9419000e+02 6.0081790e+06 2.0127000e+02\n",
            "  2.4000000e+01]\n",
            " [2.0158000e+02 2.0508000e+02 2.0057000e+02 5.3147660e+06 2.0017000e+02\n",
            "  2.5000000e+01]\n",
            " [2.0358000e+02 2.0435000e+02 2.0183000e+02 3.5511780e+06 2.0263000e+02\n",
            "  2.8000000e+01]\n",
            " [2.0306000e+02 2.0420000e+02 2.0071000e+02 4.1070790e+06 2.0231000e+02\n",
            "  2.9000000e+01]\n",
            " [2.0221000e+02 2.0344000e+02 2.0077000e+02 3.7126990e+06 2.0136000e+02\n",
            "  3.0000000e+01]\n",
            " [2.0420000e+02 2.0931000e+02 2.0311000e+02 6.6622150e+06 2.0326000e+02\n",
            "  3.1000000e+01]\n",
            " [2.0801000e+02 2.0987000e+02 2.0637000e+02 6.2988460e+06 2.0911000e+02\n",
            "  3.2000000e+01]\n",
            " [2.1023000e+02 2.1210000e+02 2.0993000e+02 2.1567820e+06 2.0987000e+02\n",
            "  3.5000000e+01]\n",
            " [2.1097000e+02 2.1161000e+02 2.0803000e+02 4.9863070e+06 2.1181000e+02\n",
            "  3.7000000e+01]\n",
            " [2.1190000e+02 2.1290000e+02 2.1120000e+02 3.6875770e+06 2.1094000e+02\n",
            "  3.8000000e+01]\n",
            " [2.1324000e+02 2.1416000e+02 2.0815000e+02 6.0423100e+06 2.1181000e+02\n",
            "  3.9000000e+01]\n",
            " [2.1193000e+02 2.1283000e+02 2.0840000e+02 4.4388670e+06 2.1044000e+02\n",
            "  4.2000000e+01]\n",
            " [2.0946000e+02 2.1274000e+02 2.0672000e+02 5.9728170e+06 2.0931000e+02\n",
            "  4.3000000e+01]\n",
            " [2.1126000e+02 2.1158000e+02 2.0857000e+02 4.9066180e+06 2.1249000e+02\n",
            "  4.4000000e+01]\n",
            " [2.0721000e+02 2.0938000e+02 2.0362000e+02 6.9244750e+06 2.0883000e+02\n",
            "  4.5000000e+01]\n",
            " [2.0537000e+02 2.0595000e+02 1.9950000e+02 7.5520720e+06 2.0462000e+02\n",
            "  4.6000000e+01]\n",
            " [2.0252000e+02 2.0570000e+02 2.0206000e+02 5.8132290e+06 2.0195000e+02\n",
            "  4.9000000e+01]\n",
            " [2.0508000e+02 2.0549000e+02 1.9907000e+02 8.6316090e+06 2.0415000e+02\n",
            "  5.0000000e+01]\n",
            " [1.9770000e+02 2.0077000e+02 1.9753000e+02 8.5231510e+06 2.0173000e+02\n",
            "  5.1000000e+01]\n",
            " [2.0234000e+02 2.0242000e+02 1.9302000e+02 1.2631703e+07 1.9970000e+02\n",
            "  5.2000000e+01]\n",
            " [1.9326000e+02 1.9607000e+02 1.8903000e+02 1.1767919e+07 1.9375000e+02\n",
            "  5.3000000e+01]\n",
            " [1.9661000e+02 1.9714000e+02 1.9080000e+02 8.0877090e+06 1.9525000e+02\n",
            "  5.6000000e+01]\n",
            " [1.9270000e+02 1.9585000e+02 1.9209000e+02 5.7613880e+06 1.9565000e+02\n",
            "  5.7000000e+01]\n",
            " [1.9429000e+02 1.9615000e+02 1.9169000e+02 5.5326680e+06 1.9487000e+02\n",
            "  5.8000000e+01]\n",
            " [1.9388000e+02 1.9394000e+02 1.8916000e+02 5.6411050e+06 1.9294000e+02\n",
            "  5.9000000e+01]\n",
            " [1.9119000e+02 1.9497000e+02 1.9106000e+02 4.0843950e+06 1.9139000e+02\n",
            "  6.0000000e+01]\n",
            " [1.9419000e+02 1.9478000e+02 1.9185000e+02 4.5985750e+06 1.9425000e+02\n",
            "  6.3000000e+01]\n",
            " [1.9275000e+02 1.9308000e+02 1.8794000e+02 5.4668220e+06 1.9349000e+02\n",
            "  6.4000000e+01]\n",
            " [1.8799000e+02 1.8877000e+02 1.8278000e+02 7.0988260e+06 1.8794000e+02\n",
            "  6.5000000e+01]\n",
            " [1.8267000e+02 1.8914000e+02 1.8186000e+02 6.3299230e+06 1.8380000e+02\n",
            "  6.6000000e+01]\n",
            " [1.8997000e+02 1.9053000e+02 1.8606000e+02 5.0954810e+06 1.8788000e+02\n",
            "  6.7000000e+01]\n",
            " [1.8594000e+02 1.9005000e+02 1.8576000e+02 3.9996700e+06 1.8711000e+02\n",
            "  7.0000000e+01]\n",
            " [1.9160000e+02 1.9244000e+02 1.8973000e+02 5.7448430e+06 1.8916000e+02\n",
            "  7.1000000e+01]\n",
            " [1.9208000e+02 1.9253000e+02 1.8837000e+02 4.3114330e+06 1.9069000e+02\n",
            "  7.2000000e+01]\n",
            " [1.8713000e+02 1.8902000e+02 1.8642000e+02 4.2648850e+06 1.8866000e+02\n",
            "  7.3000000e+01]\n",
            " [1.8739000e+02 1.8783000e+02 1.8418000e+02 3.7688690e+06 1.8729000e+02\n",
            "  7.4000000e+01]\n",
            " [1.8594000e+02 1.8775000e+02 1.8452000e+02 4.9686140e+06 1.8443000e+02\n",
            "  7.7000000e+01]\n",
            " [1.8724000e+02 1.9103000e+02 1.8649000e+02 6.6998440e+06 1.8490000e+02\n",
            "  7.8000000e+01]\n",
            " [1.9193000e+02 1.9442000e+02 1.9125000e+02 5.8536260e+06 1.9068000e+02\n",
            "  7.9000000e+01]\n",
            " [1.9339000e+02 1.9519000e+02 1.9215000e+02 5.0803260e+06 1.9405000e+02\n",
            "  8.0000000e+01]\n",
            " [1.9335000e+02 1.9374000e+02 1.9057000e+02 4.9529340e+06 1.9309000e+02\n",
            "  8.1000000e+01]\n",
            " [1.8924000e+02 1.8969000e+02 1.8780000e+02 4.1200210e+06 1.9187000e+02\n",
            "  8.4000000e+01]\n",
            " [1.8906000e+02 1.8982000e+02 1.8761000e+02 4.1642860e+06 1.8884000e+02\n",
            "  8.5000000e+01]\n",
            " [1.8901000e+02 1.8932000e+02 1.8652000e+02 3.6443310e+06 1.8933000e+02\n",
            "  8.6000000e+01]\n",
            " [1.8741000e+02 1.8839000e+02 1.8632000e+02 3.4842260e+06 1.8690000e+02\n",
            "  8.7000000e+01]\n",
            " [1.8673000e+02 1.8785000e+02 1.8644000e+02 2.4676970e+06 1.8705000e+02\n",
            "  8.8000000e+01]\n",
            " [1.8799000e+02 1.9067000e+02 1.8769000e+02 4.1655110e+06 1.8682000e+02\n",
            "  9.1000000e+01]\n",
            " [1.9058000e+02 1.9135000e+02 1.8879000e+02 4.4655690e+06 1.9067000e+02\n",
            "  9.2000000e+01]\n",
            " [1.8979000e+02 1.9252000e+02 1.8944000e+02 4.0433810e+06 1.8966000e+02\n",
            "  9.3000000e+01]\n",
            " [1.9094000e+02 1.9127000e+02 1.8929000e+02 2.9678290e+06 1.9057000e+02\n",
            "  9.4000000e+01]\n",
            " [1.9069000e+02 1.9083000e+02 1.8878000e+02 2.6740990e+06 1.8945000e+02\n",
            "  9.5000000e+01]\n",
            " [1.9012000e+02 1.9289000e+02 1.8891000e+02 4.0756960e+06 1.8949000e+02\n",
            "  9.9000000e+01]\n",
            " [1.9124000e+02 1.9179000e+02 1.9002000e+02 3.7272470e+06 1.9237000e+02\n",
            "  1.0000000e+02]\n",
            " [1.8988000e+02 1.9107000e+02 1.8889000e+02 3.8420200e+06 1.9026000e+02\n",
            "  1.0100000e+02]\n",
            " [1.8855000e+02 1.9059000e+02 1.8855000e+02 3.0836870e+06 1.8943000e+02\n",
            "  1.0200000e+02]\n",
            " [1.8932000e+02 1.9254000e+02 1.8907000e+02 4.5292090e+06 1.8911000e+02\n",
            "  1.0500000e+02]\n",
            " [1.9269000e+02 1.9656000e+02 1.9263000e+02 5.4675840e+06 1.9224000e+02\n",
            "  1.0600000e+02]\n",
            " [1.9777000e+02 2.0358000e+02 1.9775000e+02 9.7700120e+06 1.9615000e+02\n",
            "  1.0700000e+02]\n",
            " [2.0235000e+02 2.0334000e+02 2.0117000e+02 5.3672640e+06 2.0349000e+02\n",
            "  1.0800000e+02]\n",
            " [2.0394000e+02 2.0523000e+02 2.0357000e+02 7.8413610e+06 2.0219000e+02\n",
            "  1.0900000e+02]\n",
            " [2.0520000e+02 2.0955000e+02 2.0494000e+02 7.1120810e+06 2.0514000e+02\n",
            "  1.1200000e+02]\n",
            " [2.0794000e+02 2.0795000e+02 1.9657000e+02 1.4296993e+07 2.0755000e+02\n",
            "  1.1300000e+02]\n",
            " [2.0375000e+02 2.0390000e+02 1.9751000e+02 9.1540360e+06 2.0211000e+02\n",
            "  1.1400000e+02]\n",
            " [2.0035000e+02 2.0443000e+02 2.0013000e+02 1.0696761e+07 1.9870000e+02\n",
            "  1.1500000e+02]\n",
            " [2.0269000e+02 2.0393000e+02 2.0088000e+02 4.6497810e+06 2.0363000e+02\n",
            "  1.1600000e+02]\n",
            " [2.0299000e+02 2.0493000e+02 2.0145000e+02 5.7416650e+06 2.0209000e+02\n",
            "  1.1900000e+02]\n",
            " [2.0295000e+02 2.0404000e+02 2.0109000e+02 5.2949540e+06 2.0219000e+02\n",
            "  1.2000000e+02]\n",
            " [2.0335000e+02 2.0582000e+02 2.0139000e+02 5.9775740e+06 2.0364000e+02\n",
            "  1.2100000e+02]\n",
            " [2.0224000e+02 2.0369000e+02 2.0047000e+02 5.1122700e+06 2.0166000e+02\n",
            "  1.2200000e+02]\n",
            " [2.0276000e+02 2.0301000e+02 2.0091000e+02 3.3142710e+06 2.0199000e+02\n",
            "  1.2300000e+02]\n",
            " [2.0115000e+02 2.0320000e+02 2.0060000e+02 3.6528600e+06 2.0115000e+02\n",
            "  1.2600000e+02]\n",
            " [2.0085000e+02 2.0343000e+02 1.9929000e+02 5.4670910e+06 2.0092000e+02\n",
            "  1.2700000e+02]\n",
            " [2.0269000e+02 2.0809000e+02 2.0173000e+02 6.6656030e+06 2.0222000e+02\n",
            "  1.2800000e+02]\n",
            " [2.0756000e+02 2.0933000e+02 2.0564000e+02 5.7912670e+06 2.0806000e+02\n",
            "  1.2900000e+02]\n",
            " [2.0532000e+02 2.1117000e+02 2.0508000e+02 7.3390210e+06 2.0611000e+02\n",
            "  1.3000000e+02]\n",
            " [2.1261000e+02 2.1619000e+02 2.1192000e+02 7.6067190e+06 2.1046000e+02\n",
            "  1.3300000e+02]\n",
            " [2.1600000e+02 2.1914000e+02 2.1141000e+02 9.7912400e+06 2.1471000e+02\n",
            "  1.3400000e+02]\n",
            " [2.1272000e+02 2.1517000e+02 2.1209000e+02 5.6361200e+06 2.1354000e+02\n",
            "  1.3500000e+02]\n",
            " [2.1449000e+02 2.1505000e+02 2.1221000e+02 4.8480730e+06 2.1346000e+02\n",
            "  1.3600000e+02]\n",
            " [2.1409000e+02 2.1496000e+02 2.1299000e+02 3.6229240e+06 2.1393000e+02\n",
            "  1.3700000e+02]\n",
            " [2.1406000e+02 2.1481000e+02 2.1088000e+02 4.3199410e+06 2.1386000e+02\n",
            "  1.4000000e+02]\n",
            " [2.1036000e+02 2.1209000e+02 2.0856000e+02 5.2255270e+06 2.1109000e+02\n",
            "  1.4100000e+02]\n",
            " [2.1171000e+02 2.1259000e+02 2.0896000e+02 6.0183800e+06 2.1053000e+02\n",
            "  1.4200000e+02]\n",
            " [2.1033000e+02 2.2768000e+02 2.0999000e+02 1.1819967e+07 2.0986000e+02\n",
            "  1.4300000e+02]\n",
            " [2.2972000e+02 2.3028000e+02 2.2702000e+02 1.1651830e+07 2.1324000e+02\n",
            "  1.4400000e+02]\n",
            " [2.3137000e+02 2.4256000e+02 2.3042000e+02 1.5113954e+07 2.3006000e+02\n",
            "  1.4700000e+02]\n",
            " [2.3838000e+02 2.3917000e+02 2.3594000e+02 8.6919150e+06 2.4063000e+02\n",
            "  1.4800000e+02]\n",
            " [2.3898000e+02 2.4449000e+02 2.3779000e+02 9.1937030e+06 2.3689000e+02\n",
            "  1.4900000e+02]\n",
            " [2.4408000e+02 2.4623000e+02 2.4234000e+02 7.0410340e+06 2.4354000e+02\n",
            "  1.5000000e+02]\n",
            " [2.4219000e+02 2.4286000e+02 2.3648000e+02 6.6053230e+06 2.4279000e+02\n",
            "  1.5100000e+02]\n",
            " [2.3765000e+02 2.4047000e+02 2.3524000e+02 6.5649290e+06 2.3784000e+02\n",
            "  1.5400000e+02]\n",
            " [2.3927000e+02 2.4132000e+02 2.3716000e+02 6.2909130e+06 2.3852000e+02\n",
            "  1.5500000e+02]\n",
            " [2.3962000e+02 2.3980000e+02 2.3286000e+02 5.4329360e+06 2.3843000e+02\n",
            "  1.5600000e+02]\n",
            " [2.3398000e+02 2.3710000e+02 2.3342000e+02 5.2377260e+06 2.3398000e+02\n",
            "  1.5700000e+02]\n",
            " [2.3635000e+02 2.3711000e+02 2.3276000e+02 4.9091280e+06 2.3519000e+02\n",
            "  1.5800000e+02]\n",
            " [2.3712000e+02 2.4007000e+02 2.3640000e+02 4.9940050e+06 2.3613000e+02\n",
            "  1.6100000e+02]\n",
            " [2.3872000e+02 2.3975000e+02 2.3612000e+02 4.8999750e+06 2.3871000e+02\n",
            "  1.6200000e+02]\n",
            " [2.3541000e+02 2.4111000e+02 2.3453000e+02 7.9679890e+06 2.3652000e+02\n",
            "  1.6300000e+02]\n",
            " [2.3849000e+02 2.3998000e+02 2.3617000e+02 4.8818740e+06 2.3774000e+02\n",
            "  1.6400000e+02]\n",
            " [2.3713000e+02 2.3760000e+02 2.3538000e+02 2.7981400e+06 2.3655000e+02\n",
            "  1.6500000e+02]\n",
            " [2.3769000e+02 2.4083000e+02 2.3731000e+02 4.3460030e+06 2.3701000e+02\n",
            "  1.6800000e+02]\n",
            " [2.4059000e+02 2.4522000e+02 2.4049000e+02 7.2273860e+06 2.4076000e+02\n",
            "  1.6900000e+02]\n",
            " [2.4696000e+02 2.5017000e+02 2.4621000e+02 8.3759660e+06 2.4489000e+02\n",
            "  1.7000000e+02]\n",
            " [2.4775000e+02 2.4909000e+02 2.4653000e+02 5.0955170e+06 2.4621000e+02\n",
            "  1.7100000e+02]\n",
            " [2.4687000e+02 2.5008000e+02 2.4675000e+02 5.5233040e+06 2.4820000e+02\n",
            "  1.7200000e+02]\n",
            " [2.4945000e+02 2.4945000e+02 2.4657000e+02 5.1258360e+06 2.4964000e+02\n",
            "  1.7500000e+02]\n",
            " [2.4852000e+02 2.5525000e+02 2.4816000e+02 8.4373790e+06 2.4777000e+02\n",
            "  1.7600000e+02]\n",
            " [2.5574000e+02 2.5676000e+02 2.5314000e+02 4.5025810e+06 2.5508000e+02\n",
            "  1.7700000e+02]\n",
            " [2.5250000e+02 2.5400000e+02 2.5230000e+02 1.7347590e+06 2.5426000e+02\n",
            "  1.7900000e+02]\n",
            " [2.5094000e+02 2.5114000e+02 2.4262000e+02 7.3289300e+06 2.5280000e+02\n",
            "  1.8200000e+02]\n",
            " [2.4081000e+02 2.4517000e+02 2.3875000e+02 7.8055210e+06 2.4262000e+02\n",
            "  1.8300000e+02]\n",
            " [2.4737000e+02 2.4762000e+02 2.4137000e+02 6.3161580e+06 2.4499000e+02\n",
            "  1.8400000e+02]\n",
            " [2.4234000e+02 2.4545000e+02 2.4102000e+02 5.5785920e+06 2.4257000e+02\n",
            "  1.8500000e+02]\n",
            " [2.4323000e+02 2.4444000e+02 2.3949000e+02 5.6321310e+06 2.4265000e+02\n",
            "  1.8600000e+02]\n",
            " [2.4174000e+02 2.4396000e+02 2.3991000e+02 4.9089480e+06 2.4064000e+02\n",
            "  1.8900000e+02]\n",
            " [2.4394000e+02 2.4496000e+02 2.4269000e+02 4.1040510e+06 2.4267000e+02\n",
            "  1.9000000e+02]\n",
            " [2.4372000e+02 2.4645000e+02 2.4250000e+02 4.4522420e+06 2.4374000e+02\n",
            "  1.9100000e+02]\n",
            " [2.4536000e+02 2.4615000e+02 2.4145000e+02 4.6649250e+06 2.4460000e+02\n",
            "  1.9200000e+02]\n",
            " [2.4121000e+02 2.4454000e+02 2.4024000e+02 3.9767690e+06 2.4156000e+02\n",
            "  1.9300000e+02]\n",
            " [2.4270000e+02 2.4469000e+02 2.4214000e+02 3.2659940e+06 2.4230000e+02\n",
            "  1.9600000e+02]\n",
            " [2.4217000e+02 2.4342000e+02 2.4038000e+02 4.2139150e+06 2.4221000e+02\n",
            "  1.9700000e+02]\n",
            " [2.4259000e+02 2.4299000e+02 2.3875000e+02 4.6641760e+06 2.4113000e+02\n",
            "  1.9800000e+02]\n",
            " [2.4037000e+02 2.4212000e+02 2.3887000e+02 4.7593760e+06 2.3973000e+02\n",
            "  1.9900000e+02]\n",
            " [2.4156000e+02 2.4230000e+02 2.4016000e+02 5.2490980e+06 2.4130000e+02\n",
            "  2.0000000e+02]\n",
            " [2.4149000e+02 2.4161000e+02 2.3059000e+02 8.0194150e+06 2.4039000e+02\n",
            "  2.0300000e+02]\n",
            " [2.3109000e+02 2.3489000e+02 2.2948000e+02 6.5907380e+06 2.3163000e+02\n",
            "  2.0400000e+02]\n",
            " [2.3523000e+02 2.3599000e+02 2.3140000e+02 4.3827150e+06 2.3455000e+02\n",
            "  2.0500000e+02]\n",
            " [2.3232000e+02 2.3286000e+02 2.2640000e+02 6.9649120e+06 2.3168000e+02\n",
            "  2.0600000e+02]\n",
            " [2.2898000e+02 2.2955000e+02 2.2659000e+02 3.9890250e+06 2.2833000e+02\n",
            "  2.0700000e+02]\n",
            " [2.2849000e+02 2.2996000e+02 2.2752000e+02 2.0758340e+06 2.2802000e+02\n",
            "  2.1100000e+02]\n",
            " [2.3023000e+02 2.3427000e+02 2.2978000e+02 4.2324990e+06 2.2899000e+02\n",
            "  2.1200000e+02]\n",
            " [2.3379000e+02 2.3452000e+02 2.3136000e+02 3.1401960e+06 2.3425000e+02\n",
            "  2.1300000e+02]\n",
            " [2.3128000e+02 2.3247000e+02 2.3016000e+02 2.5596120e+06 2.3151000e+02\n",
            "  2.1400000e+02]\n",
            " [2.3323000e+02 2.3857000e+02 2.3079000e+02 7.7228390e+06 2.3047000e+02\n",
            "  2.1900000e+02]\n",
            " [2.3473000e+02 2.4222000e+02 2.3441000e+02 7.9164580e+06 2.3403000e+02\n",
            "  2.2000000e+02]\n",
            " [2.4149000e+02 2.4399000e+02 2.3929000e+02 6.8746700e+06 2.4187000e+02\n",
            "  2.2100000e+02]\n",
            " [2.4409000e+02 2.4518000e+02 2.4134000e+02 4.7562440e+06 2.4384000e+02\n",
            "  2.2400000e+02]\n",
            " [2.4297000e+02 2.4437000e+02 2.4084000e+02 5.3830430e+06 2.4203000e+02\n",
            "  2.2500000e+02]\n",
            " [2.4246000e+02 2.4702000e+02 2.4126000e+02 5.9782830e+06 2.4299000e+02\n",
            "  2.2600000e+02]\n",
            " [2.4885000e+02 2.5113000e+02 2.4834000e+02 7.2270250e+06 2.4497000e+02\n",
            "  2.2700000e+02]\n",
            " [2.5125000e+02 2.5275000e+02 2.5025000e+02 4.4752110e+06 2.5011000e+02\n",
            "  2.2800000e+02]\n",
            " [2.5403000e+02 2.5676000e+02 2.5190000e+02 7.5792010e+06 2.5275000e+02\n",
            "  2.3200000e+02]]\n"
          ]
        }
      ],
      "source": [
        "from sklearn.linear_model import LinearRegression\n",
        "\n",
        "model = LinearRegression()\n",
        "print(np.array(X_train))\n",
        "# model.fit(np.array(X_train), np.array(y_train))\n",
        "# res_mnk = model.predict(np.array(X_test))"
      ]
    },
    {
      "cell_type": "code",
      "execution_count": 31,
      "metadata": {
        "id": "k9RF4eHStKN4"
      },
      "outputs": [
        {
          "ename": "NotFittedError",
          "evalue": "This LinearRegression instance is not fitted yet. Call 'fit' with appropriate arguments before using this estimator.",
          "output_type": "error",
          "traceback": [
            "\u001b[0;31m---------------------------------------------------------------------------\u001b[0m",
            "\u001b[0;31mNotFittedError\u001b[0m                            Traceback (most recent call last)",
            "Cell \u001b[0;32mIn[31], line 4\u001b[0m\n\u001b[1;32m      2\u001b[0m plt\u001b[38;5;241m.\u001b[39mfigure(figsize\u001b[38;5;241m=\u001b[39m(\u001b[38;5;241m10\u001b[39m, \u001b[38;5;241m5\u001b[39m))\n\u001b[1;32m      3\u001b[0m plt\u001b[38;5;241m.\u001b[39mscatter(X_train[\u001b[38;5;124m'\u001b[39m\u001b[38;5;124mDays\u001b[39m\u001b[38;5;124m'\u001b[39m], y_train, label\u001b[38;5;241m=\u001b[39m\u001b[38;5;124m'\u001b[39m\u001b[38;5;124mИсходные данные\u001b[39m\u001b[38;5;124m'\u001b[39m)\n\u001b[0;32m----> 4\u001b[0m plt\u001b[38;5;241m.\u001b[39mplot(X_train[\u001b[38;5;124m'\u001b[39m\u001b[38;5;124mDays\u001b[39m\u001b[38;5;124m'\u001b[39m], \u001b[43mmodel\u001b[49m\u001b[38;5;241;43m.\u001b[39;49m\u001b[43mpredict\u001b[49m\u001b[43m(\u001b[49m\u001b[43mnp\u001b[49m\u001b[38;5;241;43m.\u001b[39;49m\u001b[43marray\u001b[49m\u001b[43m(\u001b[49m\u001b[43mX_train\u001b[49m\u001b[43m)\u001b[49m\u001b[43m)\u001b[49m, color\u001b[38;5;241m=\u001b[39m\u001b[38;5;124m'\u001b[39m\u001b[38;5;124mgreen\u001b[39m\u001b[38;5;124m'\u001b[39m, label\u001b[38;5;241m=\u001b[39m\u001b[38;5;124m'\u001b[39m\u001b[38;5;124mМНК\u001b[39m\u001b[38;5;124m'\u001b[39m, ls\u001b[38;5;241m=\u001b[39m\u001b[38;5;124m'\u001b[39m\u001b[38;5;124mdashed\u001b[39m\u001b[38;5;124m'\u001b[39m)\n\u001b[1;32m      5\u001b[0m plt\u001b[38;5;241m.\u001b[39mscatter(X_test[\u001b[38;5;124m'\u001b[39m\u001b[38;5;124mDays\u001b[39m\u001b[38;5;124m'\u001b[39m], y_test, color\u001b[38;5;241m=\u001b[39m\u001b[38;5;124m'\u001b[39m\u001b[38;5;124morange\u001b[39m\u001b[38;5;124m'\u001b[39m, label\u001b[38;5;241m=\u001b[39m\u001b[38;5;124m'\u001b[39m\u001b[38;5;124mТестовые данные\u001b[39m\u001b[38;5;124m'\u001b[39m)\n\u001b[1;32m      6\u001b[0m plt\u001b[38;5;241m.\u001b[39mplot(X_test[\u001b[38;5;124m'\u001b[39m\u001b[38;5;124mDays\u001b[39m\u001b[38;5;124m'\u001b[39m], res_mnk, color\u001b[38;5;241m=\u001b[39m\u001b[38;5;124m'\u001b[39m\u001b[38;5;124mred\u001b[39m\u001b[38;5;124m'\u001b[39m, label\u001b[38;5;241m=\u001b[39m\u001b[38;5;124m'\u001b[39m\u001b[38;5;124mМНК на тестовых данных\u001b[39m\u001b[38;5;124m'\u001b[39m)\n",
            "File \u001b[0;32m/usr/lib/python3.12/site-packages/sklearn/linear_model/_base.py:306\u001b[0m, in \u001b[0;36mLinearModel.predict\u001b[0;34m(self, X)\u001b[0m\n\u001b[1;32m    292\u001b[0m \u001b[38;5;28;01mdef\u001b[39;00m \u001b[38;5;21mpredict\u001b[39m(\u001b[38;5;28mself\u001b[39m, X):\n\u001b[1;32m    293\u001b[0m \u001b[38;5;250m    \u001b[39m\u001b[38;5;124;03m\"\"\"\u001b[39;00m\n\u001b[1;32m    294\u001b[0m \u001b[38;5;124;03m    Predict using the linear model.\u001b[39;00m\n\u001b[1;32m    295\u001b[0m \n\u001b[0;32m   (...)\u001b[0m\n\u001b[1;32m    304\u001b[0m \u001b[38;5;124;03m        Returns predicted values.\u001b[39;00m\n\u001b[1;32m    305\u001b[0m \u001b[38;5;124;03m    \"\"\"\u001b[39;00m\n\u001b[0;32m--> 306\u001b[0m     \u001b[38;5;28;01mreturn\u001b[39;00m \u001b[38;5;28;43mself\u001b[39;49m\u001b[38;5;241;43m.\u001b[39;49m\u001b[43m_decision_function\u001b[49m\u001b[43m(\u001b[49m\u001b[43mX\u001b[49m\u001b[43m)\u001b[49m\n",
            "File \u001b[0;32m/usr/lib/python3.12/site-packages/sklearn/linear_model/_base.py:283\u001b[0m, in \u001b[0;36mLinearModel._decision_function\u001b[0;34m(self, X)\u001b[0m\n\u001b[1;32m    282\u001b[0m \u001b[38;5;28;01mdef\u001b[39;00m \u001b[38;5;21m_decision_function\u001b[39m(\u001b[38;5;28mself\u001b[39m, X):\n\u001b[0;32m--> 283\u001b[0m     \u001b[43mcheck_is_fitted\u001b[49m\u001b[43m(\u001b[49m\u001b[38;5;28;43mself\u001b[39;49m\u001b[43m)\u001b[49m\n\u001b[1;32m    285\u001b[0m     X \u001b[38;5;241m=\u001b[39m \u001b[38;5;28mself\u001b[39m\u001b[38;5;241m.\u001b[39m_validate_data(X, accept_sparse\u001b[38;5;241m=\u001b[39m[\u001b[38;5;124m\"\u001b[39m\u001b[38;5;124mcsr\u001b[39m\u001b[38;5;124m\"\u001b[39m, \u001b[38;5;124m\"\u001b[39m\u001b[38;5;124mcsc\u001b[39m\u001b[38;5;124m\"\u001b[39m, \u001b[38;5;124m\"\u001b[39m\u001b[38;5;124mcoo\u001b[39m\u001b[38;5;124m\"\u001b[39m], reset\u001b[38;5;241m=\u001b[39m\u001b[38;5;28;01mFalse\u001b[39;00m)\n\u001b[1;32m    286\u001b[0m     coef_ \u001b[38;5;241m=\u001b[39m \u001b[38;5;28mself\u001b[39m\u001b[38;5;241m.\u001b[39mcoef_\n",
            "File \u001b[0;32m/usr/lib/python3.12/site-packages/sklearn/utils/validation.py:1661\u001b[0m, in \u001b[0;36mcheck_is_fitted\u001b[0;34m(estimator, attributes, msg, all_or_any)\u001b[0m\n\u001b[1;32m   1658\u001b[0m     \u001b[38;5;28;01mraise\u001b[39;00m \u001b[38;5;167;01mTypeError\u001b[39;00m(\u001b[38;5;124m\"\u001b[39m\u001b[38;5;132;01m%s\u001b[39;00m\u001b[38;5;124m is not an estimator instance.\u001b[39m\u001b[38;5;124m\"\u001b[39m \u001b[38;5;241m%\u001b[39m (estimator))\n\u001b[1;32m   1660\u001b[0m \u001b[38;5;28;01mif\u001b[39;00m \u001b[38;5;129;01mnot\u001b[39;00m _is_fitted(estimator, attributes, all_or_any):\n\u001b[0;32m-> 1661\u001b[0m     \u001b[38;5;28;01mraise\u001b[39;00m NotFittedError(msg \u001b[38;5;241m%\u001b[39m {\u001b[38;5;124m\"\u001b[39m\u001b[38;5;124mname\u001b[39m\u001b[38;5;124m\"\u001b[39m: \u001b[38;5;28mtype\u001b[39m(estimator)\u001b[38;5;241m.\u001b[39m\u001b[38;5;18m__name__\u001b[39m})\n",
            "\u001b[0;31mNotFittedError\u001b[0m: This LinearRegression instance is not fitted yet. Call 'fit' with appropriate arguments before using this estimator."
          ]
        },
        {
          "data": {
            "image/png": "[encoded data removed]",
            "text/plain": [
              "<Figure size 1000x500 with 1 Axes>"
            ]
          },
          "metadata": {},
          "output_type": "display_data"
        }
      ],
      "source": [
        "# Визуализируем данные и регрессионную линию\n",
        "plt.figure(figsize=(10, 5))\n",
        "plt.scatter(X_train['Days'], y_train, label='Исходные данные')\n",
        "plt.plot(X_train['Days'], model.predict(np.array(X_train)), color='green', label='МНК', ls='dashed')\n",
        "plt.scatter(X_test['Days'], y_test, color='orange', label='Тестовые данные')\n",
        "plt.plot(X_test['Days'], res_mnk, color='red', label='МНК на тестовых данных')\n",
        "plt.xlabel('X')\n",
        "plt.ylabel('Y')\n",
        "plt.legend()\n",
        "plt.show()"
      ]
    },
    {
      "cell_type": "markdown",
      "metadata": {
        "id": "YY6wMxTstKN4"
      },
      "source": [
        "### SVM"
      ]
    },
    {
      "cell_type": "code",
      "execution_count": 32,
      "metadata": {
        "id": "P4L5npkrtKN5"
      },
      "outputs": [],
      "source": [
        "from sklearn.svm import SVR\n",
        "\n",
        "# Создайте модель SVM для регрессии\n",
        "model = SVR(kernel='linear', C=1.0)\n",
        "\n",
        "# Обучите модель на тренировочных данных\n",
        "res_svm = model.fit(X_train, y_train).predict(X_test)"
      ]
    },
    {
      "cell_type": "code",
      "execution_count": null,
      "metadata": {
        "id": "7-mGKiumtKN5"
      },
      "outputs": [],
      "source": [
        "# Визуализация данных и регрессии\n",
        "plt.figure(figsize=(10, 5))\n",
        "plt.scatter(X_test['Days'], y_test, color='orange', label='Тестовые данные')\n",
        "plt.plot(X_test['Days'], res_svm, color='blue', label='SVM')\n",
        "#для сравнения, добавим данные, полученные в предыдущем примере\n",
        "# plt.plot(X_test['Days'], res_mnk, color='red', label='МНК')\n",
        "plt.xlabel('X')\n",
        "plt.ylabel('Y')\n",
        "plt.legend()\n",
        "plt.show()"
      ]
    },
    {
      "cell_type": "markdown",
      "metadata": {
        "id": "gpeJq56KtKN6"
      },
      "source": [
        "### kNN"
      ]
    },
    {
      "cell_type": "code",
      "execution_count": null,
      "metadata": {
        "id": "HPFDChr6tKN6"
      },
      "outputs": [],
      "source": [
        "from sklearn.neighbors import KNeighborsRegressor\n",
        "\n",
        "# Создаем и обучаем модель k-NN\n",
        "k = 5  # Количество соседей (замените на нужное значение)\n",
        "model = KNeighborsRegressor(n_neighbors=k)\n",
        "model.fit(X_train, y_train)\n",
        "\n",
        "# Делаем прогноз\n",
        "res_knn = model.predict(X_test)"
      ]
    },
    {
      "cell_type": "code",
      "execution_count": null,
      "metadata": {
        "id": "HFJIUmhstKN6"
      },
      "outputs": [],
      "source": [
        "plt.figure(figsize=(10, 5))\n",
        "plt.plot(X_test['Days'], res_knn, color='green', label='kNN')\n",
        "#для сравнения, добавим данные, полученные в предыдущем примере\n",
        "# plt.plot(X_test['Days'], res_mnk, color='red', label='МНК')\n",
        "# plt.plot(X_test['Days'], res_svm, color='blue', label='SVM')\n",
        "plt.scatter(X_test['Days'], y_test, color='orange', label='Данные теста')\n",
        "plt.xlabel('X')\n",
        "plt.ylabel('Y')\n",
        "plt.legend()\n",
        "plt.show()"
      ]
    },
    {
      "cell_type": "markdown",
      "metadata": {
        "id": "TMsuomqntKN6"
      },
      "source": [
        "### Lasso (Least absolute shrinkage and selection operator)\n",
        "\n",
        " Регрессия по методу наименьших квадратов (МНК) часто может стать неустойчивой, то есть сильно зависящей от обучающих данных, что обычно является проявлением тенденции к переобучению. Избежать такого переобучения помогает регуляризация - общий метод, заключающийся в наложении дополнительных ограничений на искомые параметры, которые могут предотвратить излишнюю сложность модели. Смысл процедуры заключается в “стягивании” в ходе настройки вектора коэффициентов  β  таким образом, чтобы они в среднем оказались несколько меньше по абсолютной величине, чем это было бы при оптимизации по МНК.\n",
        "\n",
        " Метод регрессии “лассо” (LASSO, Least Absolute Shrinkage and Selection Operator) заключается во введении дополнительного слагаемого регуляризации в функционал оптимизации модели, что часто позволяет получать более устойчивое решение. Условие минимизации квадратов ошибки при оценке параметров  $\\hat{\\beta}$\n",
        "  выражается следующей формулой:\n",
        "\n",
        "$\\hat{\\beta} = argmin(\\sum_{i}^n(y_i-\\sum_{j}^m \\beta x_{ij})^2 + \\lambda |\\beta|)$,\n",
        "где  λ  - параметр регуляризации, имеющий смысл штрафа за сложность.\n",
        "\n",
        "λ = 0, метод ЛАССО сводится к МНК, а при увеличении $\\lambda$ формируемая модель становится все более “лаконичной”, пока не превратится в нуль-модель.\n",
        "\n",
        "Метод Лассо также иногда называют  L1-регуляризацией.\n",
        "\n",
        "Оптимальная $\\lambda$ находится с использованием кросс-валидации (т.е. такая $\\lambda$, которой соответствует наименьшая ошибка прогноза)\n"
      ]
    },
    {
      "cell_type": "code",
      "execution_count": null,
      "metadata": {
        "id": "BSTbCc6VtKN7"
      },
      "outputs": [],
      "source": [
        "from sklearn.linear_model import Lasso\n",
        "# Создаем и обучаем модель Lasso-регрессии\n",
        "alpha = 0.3  # Параметр регуляризации (замените на желаемое значение)\n",
        "model = Lasso(alpha=alpha)\n",
        "model.fit(X_train, y_train)\n",
        "\n",
        "# Делаем прогноз\n",
        "res_lasso = model.predict(X_test)\n",
        "\n",
        "# Графики\n",
        "\n",
        "plt.figure(figsize=(10, 5))\n",
        "\n",
        "\n",
        "plt.scatter(X_test['Days'], y_test, label='Данные', color=\"orange\")\n",
        "#для сравнения, добавим данные, полученные в предыдущем примере\n",
        "plt.plot(X_test['Days'], res_knn, color='green', label='kNN')\n",
        "plt.plot(X_test['Days'], res_mnk, color='red', label='МНК')\n",
        "plt.plot(X_test['Days'], res_svm, color='blue', label='SVM')\n",
        "\n",
        "plt.plot(X_test['Days'], res_lasso, color=\"black\", label='Lasso', ls='dashed')\n",
        "\n",
        "plt.xlabel('X')\n",
        "plt.ylabel('Y')\n",
        "plt.legend()\n",
        "plt.show()"
      ]
    },
    {
      "cell_type": "markdown",
      "metadata": {
        "id": "S85t137XtKN7"
      },
      "source": [
        "### Метод частных наименьших квадратов (PLS)\n",
        "\n",
        "Основная цель PLS - это уменьшить размерность набора данных, проектируя исходные признаки на некоторое меньшее число новых признаков (компонентов), которые линейно связаны с зависимой переменной. Это помогает улучшить способность модели к предсказанию, особенно в случаях, когда исходный набор признаков мультиколлинеарен (сильно коррелируют между собой) или имеет много шумовых переменных.\n",
        "\n",
        "Общая базовая модель многомерного PLS:\n",
        "\n",
        "$X=TP^T+E$\n",
        "$Y=UQ^T+F$\n",
        "\n",
        "где $X$ - матрица предикторов $m*n$, $Y$ - матрица ответов $n*p$; $T$ и $U$ - это матрицы $n*l$, которые являются, соответственно, проекциями $X$ (оценка X, матрица компонентов или факторов) и проекциями Y (Y баллы); $P$ и $Q$,соответственно $m*l$ и $ p*l$ , и ортогональная загрузка. матрицы; а матрицы $E$ и $F$ - это члены ошибок, которые считаются независимыми и одинаково распределенными случайными нормальными величинами. Разложение $X$ и $Y$ производится таким образом, чтобы максимизировать ковариацию между $T$ и $U$.\n",
        "\n",
        "(Источник https://wiki5.ru/wiki/Partial_least_squares_regression)\n",
        "\n"
      ]
    },
    {
      "cell_type": "code",
      "execution_count": null,
      "metadata": {
        "id": "E3_ovbOOtKN7"
      },
      "outputs": [],
      "source": [
        "from sklearn.cross_decomposition import PLSRegression\n",
        "\n",
        "# Создаем и обучаем модель PLS\n",
        "n_components = 3 # Количество компонент PLS (замените на желаемое значение)\n",
        "model = PLSRegression(n_components=n_components)\n",
        "model.fit(X_train, y_train)\n",
        "\n",
        "# Делаем прогноз\n",
        "res_pls = model.predict(X_test)"
      ]
    },
    {
      "cell_type": "code",
      "execution_count": null,
      "metadata": {
        "id": "5c7bqM7mtKN8",
        "outputId": "3eab19a7-1b1b-4562-936e-d3bb4ecfec0f"
      },
      "outputs": [
        {
          "data": {
            "image/png": "[encoded data removed]",
            "text/plain": [
              "<Figure size 1000x500 with 1 Axes>"
            ]
          },
          "metadata": {},
          "output_type": "display_data"
        }
      ],
      "source": [
        "# Графики\n",
        "\n",
        "plt.figure(figsize=(10, 5))\n",
        "\n",
        "plt.scatter(X_test['Days'], y_test, color=\"orange\", label='Данные')\n",
        "#для сравнения, добавим данные, полученные в предыдущем примере\n",
        "# plt.plot(X_test['Days'], res_knn, color='green', label='kNN')\n",
        "# plt.plot(X_test['Days'], res_mnk, color='red', label='МНК')\n",
        "# plt.plot(X_test['Days'], res_svm, color='blue', label='SVM')\n",
        "# plt.plot(X_test['Days'], res_lasso, color=\"black\", label='Lasso', ls='dashed')\n",
        "plt.plot(X_test['Days'], res_pls, color=\"magenta\", label='PLS')\n",
        "\n",
        "plt.xlabel('X')\n",
        "plt.ylabel('Y')\n",
        "plt.legend()\n",
        "plt.show()"
      ]
    },
    {
      "cell_type": "markdown",
      "metadata": {
        "id": "oxbe_usZtKN8"
      },
      "source": [
        "Задание тут https://github.com/annaprovorova/HSE_ML_course_2024-2025"
      ]
    }
  ],
  "metadata": {
    "colab": {
      "provenance": []
    },
    "kernelspec": {
      "display_name": "MNE_env",
      "language": "python",
      "name": "python3"
    },
    "language_info": {
      "codemirror_mode": {
        "name": "ipython",
        "version": 3
      },
      "file_extension": ".py",
      "mimetype": "text/x-python",
      "name": "python",
      "nbconvert_exporter": "python",
      "pygments_lexer": "ipython3",
      "version": "3.12.6"
    },
    "orig_nbformat": 4
  },
  "nbformat": 4,
  "nbformat_minor": 0
}
