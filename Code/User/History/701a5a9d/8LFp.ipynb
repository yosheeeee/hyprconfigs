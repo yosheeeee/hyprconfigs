{
  "cells": [
    {
      "cell_type": "markdown",
      "metadata": {
        "id": "7Smdoj9TtKNw"
      },
      "source": [
        "# Экстраполяция временных рядов\n",
        "### Многопараметрическая экстраполяция\n",
        "\n",
        "Под множественными регрессионными моделями будем понимать класс моделей, в которых значения одного или множества исследуемых параметров зависят **от нескольких (более одного) других параметров**."
      ]
    },
    {
      "cell_type": "code",
      "execution_count": 1,
      "metadata": {
        "id": "n1HxzWRctKNy"
      },
      "outputs": [],
      "source": [
        "# импортируем библиотеки\n",
        "\n",
        "import pandas as pd\n",
        "import numpy as np\n",
        "import matplotlib.pyplot as plt\n",
        "import seaborn as sns"
      ]
    },
    {
      "cell_type": "code",
      "execution_count": 13,
      "metadata": {
        "id": "--iKi5iitKN0"
      },
      "outputs": [
        {
          "data": {
            "text/html": [
              "<div>\n",
              "<style scoped>\n",
              "    .dataframe tbody tr th:only-of-type {\n",
              "        vertical-align: middle;\n",
              "    }\n",
              "\n",
              "    .dataframe tbody tr th {\n",
              "        vertical-align: top;\n",
              "    }\n",
              "\n",
              "    .dataframe thead th {\n",
              "        text-align: right;\n",
              "    }\n",
              "</style>\n",
              "<table border=\"1\" class=\"dataframe\">\n",
              "  <thead>\n",
              "    <tr style=\"text-align: right;\">\n",
              "      <th></th>\n",
              "      <th>Date</th>\n",
              "      <th>Open</th>\n",
              "      <th>High</th>\n",
              "      <th>Low</th>\n",
              "      <th>Close</th>\n",
              "      <th>Volume</th>\n",
              "      <th>Name</th>\n",
              "    </tr>\n",
              "  </thead>\n",
              "  <tbody>\n",
              "    <tr>\n",
              "      <th>0</th>\n",
              "      <td>2006-01-03</td>\n",
              "      <td>211.47</td>\n",
              "      <td>218.05</td>\n",
              "      <td>209.32</td>\n",
              "      <td>217.83</td>\n",
              "      <td>13137450</td>\n",
              "      <td>GOOGL</td>\n",
              "    </tr>\n",
              "    <tr>\n",
              "      <th>1</th>\n",
              "      <td>2006-01-04</td>\n",
              "      <td>222.17</td>\n",
              "      <td>224.70</td>\n",
              "      <td>220.09</td>\n",
              "      <td>222.84</td>\n",
              "      <td>15292353</td>\n",
              "      <td>GOOGL</td>\n",
              "    </tr>\n",
              "    <tr>\n",
              "      <th>2</th>\n",
              "      <td>2006-01-05</td>\n",
              "      <td>223.22</td>\n",
              "      <td>226.00</td>\n",
              "      <td>220.97</td>\n",
              "      <td>225.85</td>\n",
              "      <td>10815661</td>\n",
              "      <td>GOOGL</td>\n",
              "    </tr>\n",
              "    <tr>\n",
              "      <th>3</th>\n",
              "      <td>2006-01-06</td>\n",
              "      <td>228.66</td>\n",
              "      <td>235.49</td>\n",
              "      <td>226.85</td>\n",
              "      <td>233.06</td>\n",
              "      <td>17759521</td>\n",
              "      <td>GOOGL</td>\n",
              "    </tr>\n",
              "    <tr>\n",
              "      <th>4</th>\n",
              "      <td>2006-01-09</td>\n",
              "      <td>233.44</td>\n",
              "      <td>236.94</td>\n",
              "      <td>230.70</td>\n",
              "      <td>233.68</td>\n",
              "      <td>12795837</td>\n",
              "      <td>GOOGL</td>\n",
              "    </tr>\n",
              "  </tbody>\n",
              "</table>\n",
              "</div>"
            ],
            "text/plain": [
              "         Date    Open    High     Low   Close    Volume   Name\n",
              "0  2006-01-03  211.47  218.05  209.32  217.83  13137450  GOOGL\n",
              "1  2006-01-04  222.17  224.70  220.09  222.84  15292353  GOOGL\n",
              "2  2006-01-05  223.22  226.00  220.97  225.85  10815661  GOOGL\n",
              "3  2006-01-06  228.66  235.49  226.85  233.06  17759521  GOOGL\n",
              "4  2006-01-09  233.44  236.94  230.70  233.68  12795837  GOOGL"
            ]
          },
          "execution_count": 13,
          "metadata": {},
          "output_type": "execute_result"
        }
      ],
      "source": [
        "# Загрузим данные. В практической работе можно использовать эти данные или взять данные из открытых источников\n",
        "# помните о баллах\n",
        "\n",
        "# Стоимость и объем продаж акций компании Google (работа с временными рядами, может быть решена задача прогнозирования)\n",
        "# Возьмём DataSet1_3.csv\n",
        "data1 = pd.read_csv('./DataSet1_3.csv')\n",
        "data1.head()\n",
        "# data1.info()"
      ]
    },
    {
      "cell_type": "markdown",
      "metadata": {
        "id": "VfJXnSlItKN0"
      },
      "source": [
        "По условиям работы, мы выберем 100 значений для прогнозирования."
      ]
    },
    {
      "cell_type": "markdown",
      "metadata": {
        "id": "gziuyrnHtKN1"
      },
      "source": [
        "Добавление значений целевого параметра со сдвигом на один шаг в прошлое при построении регрессии называется созданием лагов (lags) для целевой переменной. Это позволяет учесть зависимость текущего значения целевой переменной от ее предыдущих значений."
      ]
    },
    {
      "cell_type": "code",
      "execution_count": 14,
      "metadata": {
        "id": "HpvKyKrHtKN2"
      },
      "outputs": [
        {
          "data": {
            "text/html": [
              "<div>\n",
              "<style scoped>\n",
              "    .dataframe tbody tr th:only-of-type {\n",
              "        vertical-align: middle;\n",
              "    }\n",
              "\n",
              "    .dataframe tbody tr th {\n",
              "        vertical-align: top;\n",
              "    }\n",
              "\n",
              "    .dataframe thead th {\n",
              "        text-align: right;\n",
              "    }\n",
              "</style>\n",
              "<table border=\"1\" class=\"dataframe\">\n",
              "  <thead>\n",
              "    <tr style=\"text-align: right;\">\n",
              "      <th></th>\n",
              "      <th>Open</th>\n",
              "      <th>High</th>\n",
              "      <th>Low</th>\n",
              "      <th>Close</th>\n",
              "      <th>Volume</th>\n",
              "      <th>lag</th>\n",
              "      <th>Days</th>\n",
              "    </tr>\n",
              "  </thead>\n",
              "  <tbody>\n",
              "    <tr>\n",
              "      <th>0</th>\n",
              "      <td>189.33</td>\n",
              "      <td>190.69</td>\n",
              "      <td>185.91</td>\n",
              "      <td>186.16</td>\n",
              "      <td>4315930</td>\n",
              "      <td>190.87</td>\n",
              "      <td>1</td>\n",
              "    </tr>\n",
              "    <tr>\n",
              "      <th>1</th>\n",
              "      <td>187.09</td>\n",
              "      <td>189.31</td>\n",
              "      <td>183.57</td>\n",
              "      <td>186.10</td>\n",
              "      <td>7982732</td>\n",
              "      <td>186.16</td>\n",
              "      <td>2</td>\n",
              "    </tr>\n",
              "    <tr>\n",
              "      <th>2</th>\n",
              "      <td>186.96</td>\n",
              "      <td>191.69</td>\n",
              "      <td>185.99</td>\n",
              "      <td>191.50</td>\n",
              "      <td>6280223</td>\n",
              "      <td>186.10</td>\n",
              "      <td>3</td>\n",
              "    </tr>\n",
              "    <tr>\n",
              "      <th>3</th>\n",
              "      <td>192.92</td>\n",
              "      <td>193.73</td>\n",
              "      <td>188.91</td>\n",
              "      <td>189.91</td>\n",
              "      <td>6386442</td>\n",
              "      <td>191.50</td>\n",
              "      <td>4</td>\n",
              "    </tr>\n",
              "    <tr>\n",
              "      <th>4</th>\n",
              "      <td>188.28</td>\n",
              "      <td>190.92</td>\n",
              "      <td>187.26</td>\n",
              "      <td>187.41</td>\n",
              "      <td>5559992</td>\n",
              "      <td>189.91</td>\n",
              "      <td>7</td>\n",
              "    </tr>\n",
              "    <tr>\n",
              "      <th>...</th>\n",
              "      <td>...</td>\n",
              "      <td>...</td>\n",
              "      <td>...</td>\n",
              "      <td>...</td>\n",
              "      <td>...</td>\n",
              "      <td>...</td>\n",
              "      <td>...</td>\n",
              "    </tr>\n",
              "    <tr>\n",
              "      <th>194</th>\n",
              "      <td>229.84</td>\n",
              "      <td>232.98</td>\n",
              "      <td>227.28</td>\n",
              "      <td>227.59</td>\n",
              "      <td>5363496</td>\n",
              "      <td>228.05</td>\n",
              "      <td>283</td>\n",
              "    </tr>\n",
              "    <tr>\n",
              "      <th>195</th>\n",
              "      <td>229.23</td>\n",
              "      <td>229.43</td>\n",
              "      <td>225.28</td>\n",
              "      <td>226.71</td>\n",
              "      <td>4977644</td>\n",
              "      <td>227.59</td>\n",
              "      <td>284</td>\n",
              "    </tr>\n",
              "    <tr>\n",
              "      <th>196</th>\n",
              "      <td>226.51</td>\n",
              "      <td>227.85</td>\n",
              "      <td>225.78</td>\n",
              "      <td>227.60</td>\n",
              "      <td>3467969</td>\n",
              "      <td>226.71</td>\n",
              "      <td>287</td>\n",
              "    </tr>\n",
              "    <tr>\n",
              "      <th>197</th>\n",
              "      <td>225.28</td>\n",
              "      <td>226.19</td>\n",
              "      <td>221.64</td>\n",
              "      <td>221.74</td>\n",
              "      <td>6378634</td>\n",
              "      <td>227.60</td>\n",
              "      <td>288</td>\n",
              "    </tr>\n",
              "    <tr>\n",
              "      <th>198</th>\n",
              "      <td>221.84</td>\n",
              "      <td>224.55</td>\n",
              "      <td>219.72</td>\n",
              "      <td>224.22</td>\n",
              "      <td>8021553</td>\n",
              "      <td>221.74</td>\n",
              "      <td>289</td>\n",
              "    </tr>\n",
              "  </tbody>\n",
              "</table>\n",
              "<p>199 rows × 7 columns</p>\n",
              "</div>"
            ],
            "text/plain": [
              "       Open    High     Low   Close   Volume     lag  Days\n",
              "0    189.33  190.69  185.91  186.16  4315930  190.87     1\n",
              "1    187.09  189.31  183.57  186.10  7982732  186.16     2\n",
              "2    186.96  191.69  185.99  191.50  6280223  186.10     3\n",
              "3    192.92  193.73  188.91  189.91  6386442  191.50     4\n",
              "4    188.28  190.92  187.26  187.41  5559992  189.91     7\n",
              "..      ...     ...     ...     ...      ...     ...   ...\n",
              "194  229.84  232.98  227.28  227.59  5363496  228.05   283\n",
              "195  229.23  229.43  225.28  226.71  4977644  227.59   284\n",
              "196  226.51  227.85  225.78  227.60  3467969  226.71   287\n",
              "197  225.28  226.19  221.64  221.74  6378634  227.60   288\n",
              "198  221.84  224.55  219.72  224.22  8021553  221.74   289\n",
              "\n",
              "[199 rows x 7 columns]"
            ]
          },
          "execution_count": 14,
          "metadata": {},
          "output_type": "execute_result"
        }
      ],
      "source": [
        "# Выберем данные\n",
        "n1 = 101\n",
        "n2 = 300\n",
        "\n",
        "data1['lag'] = data1['Close'].iloc[n1-1:n2].shift(1).copy()\n",
        "\n",
        "data = data1[n1:n2].copy().reset_index(drop=True)\n",
        "\n",
        "# сделаем колонку \"Days\", дату переведём в дни\n",
        "data['Date'] = pd.to_datetime(data['Date'], format=\"%Y-%m-%d\")\n",
        "data['Days'] = (data['Date'] - data['Date'].iloc[0]).dt.days\n",
        "data['Days'] -= data['Days'].iloc[0] - 1\n",
        "\n",
        "data.drop(columns=['Date','Name'])\n",
        "# удалим лишние колонки. Какие?"
      ]
    },
    {
      "cell_type": "code",
      "execution_count": 15,
      "metadata": {
        "id": "Kr0wM-MntKN3"
      },
      "outputs": [],
      "source": [
        "from sklearn.model_selection import train_test_split\n",
        "\n",
        "X = data.drop(columns=['Close'])\n",
        "y = data['Close']\n",
        "\n",
        "X_train, X_test, y_train, y_test = train_test_split(X, y, test_size=0.2, shuffle=False)"
      ]
    },
    {
      "cell_type": "markdown",
      "metadata": {
        "id": "h3Dk7Va-tKN4"
      },
      "source": [
        "### Метод наименьших квадратов\n",
        "\n",
        "Используем МНК для многопараметрической регрессии"
      ]
    },
    {
      "cell_type": "code",
      "execution_count": 16,
      "metadata": {
        "id": "4HW3PMGHtKN4"
      },
      "outputs": [
        {
          "ename": "TypeError",
          "evalue": "float() argument must be a string or a real number, not 'Timestamp'",
          "output_type": "error",
          "traceback": [
            "\u001b[0;31m---------------------------------------------------------------------------\u001b[0m",
            "\u001b[0;31mTypeError\u001b[0m                                 Traceback (most recent call last)",
            "Cell \u001b[0;32mIn[16], line 4\u001b[0m\n\u001b[1;32m      1\u001b[0m \u001b[38;5;28;01mfrom\u001b[39;00m \u001b[38;5;21;01msklearn\u001b[39;00m\u001b[38;5;21;01m.\u001b[39;00m\u001b[38;5;21;01mlinear_model\u001b[39;00m \u001b[38;5;28;01mimport\u001b[39;00m LinearRegression\n\u001b[1;32m      3\u001b[0m model \u001b[38;5;241m=\u001b[39m LinearRegression()\n\u001b[0;32m----> 4\u001b[0m \u001b[43mmodel\u001b[49m\u001b[38;5;241;43m.\u001b[39;49m\u001b[43mfit\u001b[49m\u001b[43m(\u001b[49m\u001b[43mnp\u001b[49m\u001b[38;5;241;43m.\u001b[39;49m\u001b[43marray\u001b[49m\u001b[43m(\u001b[49m\u001b[43mX_train\u001b[49m\u001b[43m)\u001b[49m\u001b[43m,\u001b[49m\u001b[43m \u001b[49m\u001b[43mnp\u001b[49m\u001b[38;5;241;43m.\u001b[39;49m\u001b[43marray\u001b[49m\u001b[43m(\u001b[49m\u001b[43my_train\u001b[49m\u001b[43m)\u001b[49m\u001b[43m)\u001b[49m\n\u001b[1;32m      5\u001b[0m res_mnk \u001b[38;5;241m=\u001b[39m model\u001b[38;5;241m.\u001b[39mpredict(np\u001b[38;5;241m.\u001b[39marray(X_test))\n",
            "File \u001b[0;32m/usr/lib/python3.12/site-packages/sklearn/base.py:1473\u001b[0m, in \u001b[0;36m_fit_context.<locals>.decorator.<locals>.wrapper\u001b[0;34m(estimator, *args, **kwargs)\u001b[0m\n\u001b[1;32m   1466\u001b[0m     estimator\u001b[38;5;241m.\u001b[39m_validate_params()\n\u001b[1;32m   1468\u001b[0m \u001b[38;5;28;01mwith\u001b[39;00m config_context(\n\u001b[1;32m   1469\u001b[0m     skip_parameter_validation\u001b[38;5;241m=\u001b[39m(\n\u001b[1;32m   1470\u001b[0m         prefer_skip_nested_validation \u001b[38;5;129;01mor\u001b[39;00m global_skip_validation\n\u001b[1;32m   1471\u001b[0m     )\n\u001b[1;32m   1472\u001b[0m ):\n\u001b[0;32m-> 1473\u001b[0m     \u001b[38;5;28;01mreturn\u001b[39;00m \u001b[43mfit_method\u001b[49m\u001b[43m(\u001b[49m\u001b[43mestimator\u001b[49m\u001b[43m,\u001b[49m\u001b[43m \u001b[49m\u001b[38;5;241;43m*\u001b[39;49m\u001b[43margs\u001b[49m\u001b[43m,\u001b[49m\u001b[43m \u001b[49m\u001b[38;5;241;43m*\u001b[39;49m\u001b[38;5;241;43m*\u001b[39;49m\u001b[43mkwargs\u001b[49m\u001b[43m)\u001b[49m\n",
            "File \u001b[0;32m/usr/lib/python3.12/site-packages/sklearn/linear_model/_base.py:609\u001b[0m, in \u001b[0;36mLinearRegression.fit\u001b[0;34m(self, X, y, sample_weight)\u001b[0m\n\u001b[1;32m    605\u001b[0m n_jobs_ \u001b[38;5;241m=\u001b[39m \u001b[38;5;28mself\u001b[39m\u001b[38;5;241m.\u001b[39mn_jobs\n\u001b[1;32m    607\u001b[0m accept_sparse \u001b[38;5;241m=\u001b[39m \u001b[38;5;28;01mFalse\u001b[39;00m \u001b[38;5;28;01mif\u001b[39;00m \u001b[38;5;28mself\u001b[39m\u001b[38;5;241m.\u001b[39mpositive \u001b[38;5;28;01melse\u001b[39;00m [\u001b[38;5;124m\"\u001b[39m\u001b[38;5;124mcsr\u001b[39m\u001b[38;5;124m\"\u001b[39m, \u001b[38;5;124m\"\u001b[39m\u001b[38;5;124mcsc\u001b[39m\u001b[38;5;124m\"\u001b[39m, \u001b[38;5;124m\"\u001b[39m\u001b[38;5;124mcoo\u001b[39m\u001b[38;5;124m\"\u001b[39m]\n\u001b[0;32m--> 609\u001b[0m X, y \u001b[38;5;241m=\u001b[39m \u001b[38;5;28;43mself\u001b[39;49m\u001b[38;5;241;43m.\u001b[39;49m\u001b[43m_validate_data\u001b[49m\u001b[43m(\u001b[49m\n\u001b[1;32m    610\u001b[0m \u001b[43m    \u001b[49m\u001b[43mX\u001b[49m\u001b[43m,\u001b[49m\n\u001b[1;32m    611\u001b[0m \u001b[43m    \u001b[49m\u001b[43my\u001b[49m\u001b[43m,\u001b[49m\n\u001b[1;32m    612\u001b[0m \u001b[43m    \u001b[49m\u001b[43maccept_sparse\u001b[49m\u001b[38;5;241;43m=\u001b[39;49m\u001b[43maccept_sparse\u001b[49m\u001b[43m,\u001b[49m\n\u001b[1;32m    613\u001b[0m \u001b[43m    \u001b[49m\u001b[43my_numeric\u001b[49m\u001b[38;5;241;43m=\u001b[39;49m\u001b[38;5;28;43;01mTrue\u001b[39;49;00m\u001b[43m,\u001b[49m\n\u001b[1;32m    614\u001b[0m \u001b[43m    \u001b[49m\u001b[43mmulti_output\u001b[49m\u001b[38;5;241;43m=\u001b[39;49m\u001b[38;5;28;43;01mTrue\u001b[39;49;00m\u001b[43m,\u001b[49m\n\u001b[1;32m    615\u001b[0m \u001b[43m    \u001b[49m\u001b[43mforce_writeable\u001b[49m\u001b[38;5;241;43m=\u001b[39;49m\u001b[38;5;28;43;01mTrue\u001b[39;49;00m\u001b[43m,\u001b[49m\n\u001b[1;32m    616\u001b[0m \u001b[43m\u001b[49m\u001b[43m)\u001b[49m\n\u001b[1;32m    618\u001b[0m has_sw \u001b[38;5;241m=\u001b[39m sample_weight \u001b[38;5;129;01mis\u001b[39;00m \u001b[38;5;129;01mnot\u001b[39;00m \u001b[38;5;28;01mNone\u001b[39;00m\n\u001b[1;32m    619\u001b[0m \u001b[38;5;28;01mif\u001b[39;00m has_sw:\n",
            "File \u001b[0;32m/usr/lib/python3.12/site-packages/sklearn/base.py:650\u001b[0m, in \u001b[0;36mBaseEstimator._validate_data\u001b[0;34m(self, X, y, reset, validate_separately, cast_to_ndarray, **check_params)\u001b[0m\n\u001b[1;32m    648\u001b[0m         y \u001b[38;5;241m=\u001b[39m check_array(y, input_name\u001b[38;5;241m=\u001b[39m\u001b[38;5;124m\"\u001b[39m\u001b[38;5;124my\u001b[39m\u001b[38;5;124m\"\u001b[39m, \u001b[38;5;241m*\u001b[39m\u001b[38;5;241m*\u001b[39mcheck_y_params)\n\u001b[1;32m    649\u001b[0m     \u001b[38;5;28;01melse\u001b[39;00m:\n\u001b[0;32m--> 650\u001b[0m         X, y \u001b[38;5;241m=\u001b[39m \u001b[43mcheck_X_y\u001b[49m\u001b[43m(\u001b[49m\u001b[43mX\u001b[49m\u001b[43m,\u001b[49m\u001b[43m \u001b[49m\u001b[43my\u001b[49m\u001b[43m,\u001b[49m\u001b[43m \u001b[49m\u001b[38;5;241;43m*\u001b[39;49m\u001b[38;5;241;43m*\u001b[39;49m\u001b[43mcheck_params\u001b[49m\u001b[43m)\u001b[49m\n\u001b[1;32m    651\u001b[0m     out \u001b[38;5;241m=\u001b[39m X, y\n\u001b[1;32m    653\u001b[0m \u001b[38;5;28;01mif\u001b[39;00m \u001b[38;5;129;01mnot\u001b[39;00m no_val_X \u001b[38;5;129;01mand\u001b[39;00m check_params\u001b[38;5;241m.\u001b[39mget(\u001b[38;5;124m\"\u001b[39m\u001b[38;5;124mensure_2d\u001b[39m\u001b[38;5;124m\"\u001b[39m, \u001b[38;5;28;01mTrue\u001b[39;00m):\n",
            "File \u001b[0;32m/usr/lib/python3.12/site-packages/sklearn/utils/validation.py:1301\u001b[0m, in \u001b[0;36mcheck_X_y\u001b[0;34m(X, y, accept_sparse, accept_large_sparse, dtype, order, copy, force_writeable, force_all_finite, ensure_2d, allow_nd, multi_output, ensure_min_samples, ensure_min_features, y_numeric, estimator)\u001b[0m\n\u001b[1;32m   1296\u001b[0m         estimator_name \u001b[38;5;241m=\u001b[39m _check_estimator_name(estimator)\n\u001b[1;32m   1297\u001b[0m     \u001b[38;5;28;01mraise\u001b[39;00m \u001b[38;5;167;01mValueError\u001b[39;00m(\n\u001b[1;32m   1298\u001b[0m         \u001b[38;5;124mf\u001b[39m\u001b[38;5;124m\"\u001b[39m\u001b[38;5;132;01m{\u001b[39;00mestimator_name\u001b[38;5;132;01m}\u001b[39;00m\u001b[38;5;124m requires y to be passed, but the target y is None\u001b[39m\u001b[38;5;124m\"\u001b[39m\n\u001b[1;32m   1299\u001b[0m     )\n\u001b[0;32m-> 1301\u001b[0m X \u001b[38;5;241m=\u001b[39m \u001b[43mcheck_array\u001b[49m\u001b[43m(\u001b[49m\n\u001b[1;32m   1302\u001b[0m \u001b[43m    \u001b[49m\u001b[43mX\u001b[49m\u001b[43m,\u001b[49m\n\u001b[1;32m   1303\u001b[0m \u001b[43m    \u001b[49m\u001b[43maccept_sparse\u001b[49m\u001b[38;5;241;43m=\u001b[39;49m\u001b[43maccept_sparse\u001b[49m\u001b[43m,\u001b[49m\n\u001b[1;32m   1304\u001b[0m \u001b[43m    \u001b[49m\u001b[43maccept_large_sparse\u001b[49m\u001b[38;5;241;43m=\u001b[39;49m\u001b[43maccept_large_sparse\u001b[49m\u001b[43m,\u001b[49m\n\u001b[1;32m   1305\u001b[0m \u001b[43m    \u001b[49m\u001b[43mdtype\u001b[49m\u001b[38;5;241;43m=\u001b[39;49m\u001b[43mdtype\u001b[49m\u001b[43m,\u001b[49m\n\u001b[1;32m   1306\u001b[0m \u001b[43m    \u001b[49m\u001b[43morder\u001b[49m\u001b[38;5;241;43m=\u001b[39;49m\u001b[43morder\u001b[49m\u001b[43m,\u001b[49m\n\u001b[1;32m   1307\u001b[0m \u001b[43m    \u001b[49m\u001b[43mcopy\u001b[49m\u001b[38;5;241;43m=\u001b[39;49m\u001b[43mcopy\u001b[49m\u001b[43m,\u001b[49m\n\u001b[1;32m   1308\u001b[0m \u001b[43m    \u001b[49m\u001b[43mforce_writeable\u001b[49m\u001b[38;5;241;43m=\u001b[39;49m\u001b[43mforce_writeable\u001b[49m\u001b[43m,\u001b[49m\n\u001b[1;32m   1309\u001b[0m \u001b[43m    \u001b[49m\u001b[43mforce_all_finite\u001b[49m\u001b[38;5;241;43m=\u001b[39;49m\u001b[43mforce_all_finite\u001b[49m\u001b[43m,\u001b[49m\n\u001b[1;32m   1310\u001b[0m \u001b[43m    \u001b[49m\u001b[43mensure_2d\u001b[49m\u001b[38;5;241;43m=\u001b[39;49m\u001b[43mensure_2d\u001b[49m\u001b[43m,\u001b[49m\n\u001b[1;32m   1311\u001b[0m \u001b[43m    \u001b[49m\u001b[43mallow_nd\u001b[49m\u001b[38;5;241;43m=\u001b[39;49m\u001b[43mallow_nd\u001b[49m\u001b[43m,\u001b[49m\n\u001b[1;32m   1312\u001b[0m \u001b[43m    \u001b[49m\u001b[43mensure_min_samples\u001b[49m\u001b[38;5;241;43m=\u001b[39;49m\u001b[43mensure_min_samples\u001b[49m\u001b[43m,\u001b[49m\n\u001b[1;32m   1313\u001b[0m \u001b[43m    \u001b[49m\u001b[43mensure_min_features\u001b[49m\u001b[38;5;241;43m=\u001b[39;49m\u001b[43mensure_min_features\u001b[49m\u001b[43m,\u001b[49m\n\u001b[1;32m   1314\u001b[0m \u001b[43m    \u001b[49m\u001b[43mestimator\u001b[49m\u001b[38;5;241;43m=\u001b[39;49m\u001b[43mestimator\u001b[49m\u001b[43m,\u001b[49m\n\u001b[1;32m   1315\u001b[0m \u001b[43m    \u001b[49m\u001b[43minput_name\u001b[49m\u001b[38;5;241;43m=\u001b[39;49m\u001b[38;5;124;43m\"\u001b[39;49m\u001b[38;5;124;43mX\u001b[39;49m\u001b[38;5;124;43m\"\u001b[39;49m\u001b[43m,\u001b[49m\n\u001b[1;32m   1316\u001b[0m \u001b[43m\u001b[49m\u001b[43m)\u001b[49m\n\u001b[1;32m   1318\u001b[0m y \u001b[38;5;241m=\u001b[39m _check_y(y, multi_output\u001b[38;5;241m=\u001b[39mmulti_output, y_numeric\u001b[38;5;241m=\u001b[39my_numeric, estimator\u001b[38;5;241m=\u001b[39mestimator)\n\u001b[1;32m   1320\u001b[0m check_consistent_length(X, y)\n",
            "File \u001b[0;32m/usr/lib/python3.12/site-packages/sklearn/utils/validation.py:1012\u001b[0m, in \u001b[0;36mcheck_array\u001b[0;34m(array, accept_sparse, accept_large_sparse, dtype, order, copy, force_writeable, force_all_finite, ensure_2d, allow_nd, ensure_min_samples, ensure_min_features, estimator, input_name)\u001b[0m\n\u001b[1;32m   1010\u001b[0m         array \u001b[38;5;241m=\u001b[39m xp\u001b[38;5;241m.\u001b[39mastype(array, dtype, copy\u001b[38;5;241m=\u001b[39m\u001b[38;5;28;01mFalse\u001b[39;00m)\n\u001b[1;32m   1011\u001b[0m     \u001b[38;5;28;01melse\u001b[39;00m:\n\u001b[0;32m-> 1012\u001b[0m         array \u001b[38;5;241m=\u001b[39m \u001b[43m_asarray_with_order\u001b[49m\u001b[43m(\u001b[49m\u001b[43marray\u001b[49m\u001b[43m,\u001b[49m\u001b[43m \u001b[49m\u001b[43morder\u001b[49m\u001b[38;5;241;43m=\u001b[39;49m\u001b[43morder\u001b[49m\u001b[43m,\u001b[49m\u001b[43m \u001b[49m\u001b[43mdtype\u001b[49m\u001b[38;5;241;43m=\u001b[39;49m\u001b[43mdtype\u001b[49m\u001b[43m,\u001b[49m\u001b[43m \u001b[49m\u001b[43mxp\u001b[49m\u001b[38;5;241;43m=\u001b[39;49m\u001b[43mxp\u001b[49m\u001b[43m)\u001b[49m\n\u001b[1;32m   1013\u001b[0m \u001b[38;5;28;01mexcept\u001b[39;00m ComplexWarning \u001b[38;5;28;01mas\u001b[39;00m complex_warning:\n\u001b[1;32m   1014\u001b[0m     \u001b[38;5;28;01mraise\u001b[39;00m \u001b[38;5;167;01mValueError\u001b[39;00m(\n\u001b[1;32m   1015\u001b[0m         \u001b[38;5;124m\"\u001b[39m\u001b[38;5;124mComplex data not supported\u001b[39m\u001b[38;5;130;01m\\n\u001b[39;00m\u001b[38;5;132;01m{}\u001b[39;00m\u001b[38;5;130;01m\\n\u001b[39;00m\u001b[38;5;124m\"\u001b[39m\u001b[38;5;241m.\u001b[39mformat(array)\n\u001b[1;32m   1016\u001b[0m     ) \u001b[38;5;28;01mfrom\u001b[39;00m \u001b[38;5;21;01mcomplex_warning\u001b[39;00m\n",
            "File \u001b[0;32m/usr/lib/python3.12/site-packages/sklearn/utils/_array_api.py:745\u001b[0m, in \u001b[0;36m_asarray_with_order\u001b[0;34m(array, dtype, order, copy, xp, device)\u001b[0m\n\u001b[1;32m    743\u001b[0m     array \u001b[38;5;241m=\u001b[39m numpy\u001b[38;5;241m.\u001b[39marray(array, order\u001b[38;5;241m=\u001b[39morder, dtype\u001b[38;5;241m=\u001b[39mdtype)\n\u001b[1;32m    744\u001b[0m \u001b[38;5;28;01melse\u001b[39;00m:\n\u001b[0;32m--> 745\u001b[0m     array \u001b[38;5;241m=\u001b[39m \u001b[43mnumpy\u001b[49m\u001b[38;5;241;43m.\u001b[39;49m\u001b[43masarray\u001b[49m\u001b[43m(\u001b[49m\u001b[43marray\u001b[49m\u001b[43m,\u001b[49m\u001b[43m \u001b[49m\u001b[43morder\u001b[49m\u001b[38;5;241;43m=\u001b[39;49m\u001b[43morder\u001b[49m\u001b[43m,\u001b[49m\u001b[43m \u001b[49m\u001b[43mdtype\u001b[49m\u001b[38;5;241;43m=\u001b[39;49m\u001b[43mdtype\u001b[49m\u001b[43m)\u001b[49m\n\u001b[1;32m    747\u001b[0m \u001b[38;5;66;03m# At this point array is a NumPy ndarray. We convert it to an array\u001b[39;00m\n\u001b[1;32m    748\u001b[0m \u001b[38;5;66;03m# container that is consistent with the input's namespace.\u001b[39;00m\n\u001b[1;32m    749\u001b[0m \u001b[38;5;28;01mreturn\u001b[39;00m xp\u001b[38;5;241m.\u001b[39masarray(array)\n",
            "\u001b[0;31mTypeError\u001b[0m: float() argument must be a string or a real number, not 'Timestamp'"
          ]
        }
      ],
      "source": [
        "from sklearn.linear_model import LinearRegression\n",
        "\n",
        "model = LinearRegression()\n",
        "model.fit(np.array(X_train), np.array(y_train))\n",
        "res_mnk = model.predict(np.array(X_test))"
      ]
    },
    {
      "cell_type": "code",
      "execution_count": null,
      "metadata": {
        "id": "k9RF4eHStKN4"
      },
      "outputs": [],
      "source": [
        "# Визуализируем данные и регрессионную линию\n",
        "plt.figure(figsize=(10, 5))\n",
        "plt.scatter(X_train['Days'], y_train, label='Исходные данные')\n",
        "plt.plot(X_train['Days'], model.predict(np.array(X_train)), color='green', label='МНК', ls='dashed')\n",
        "plt.scatter(X_test['Days'], y_test, color='orange', label='Тестовые данные')\n",
        "plt.plot(X_test['Days'], res_mnk, color='red', label='МНК на тестовых данных')\n",
        "plt.xlabel('X')\n",
        "plt.ylabel('Y')\n",
        "plt.legend()\n",
        "plt.show()"
      ]
    },
    {
      "cell_type": "markdown",
      "metadata": {
        "id": "YY6wMxTstKN4"
      },
      "source": [
        "### SVM"
      ]
    },
    {
      "cell_type": "code",
      "execution_count": null,
      "metadata": {
        "id": "P4L5npkrtKN5"
      },
      "outputs": [],
      "source": [
        "from sklearn.svm import SVR\n",
        "\n",
        "# Создайте модель SVM для регрессии\n",
        "model = SVR(kernel='linear', C=1.0)\n",
        "\n",
        "# Обучите модель на тренировочных данных\n",
        "res_svm = model.fit(X_train, y_train).predict(X_test)"
      ]
    },
    {
      "cell_type": "code",
      "execution_count": null,
      "metadata": {
        "id": "7-mGKiumtKN5"
      },
      "outputs": [],
      "source": [
        "# Визуализация данных и регрессии\n",
        "plt.figure(figsize=(10, 5))\n",
        "plt.scatter(X_test['Days'], y_test, color='orange', label='Тестовые данные')\n",
        "plt.plot(X_test['Days'], res_svm, color='blue', label='SVM')\n",
        "#для сравнения, добавим данные, полученные в предыдущем примере\n",
        "# plt.plot(X_test['Days'], res_mnk, color='red', label='МНК')\n",
        "plt.xlabel('X')\n",
        "plt.ylabel('Y')\n",
        "plt.legend()\n",
        "plt.show()"
      ]
    },
    {
      "cell_type": "markdown",
      "metadata": {
        "id": "gpeJq56KtKN6"
      },
      "source": [
        "### kNN"
      ]
    },
    {
      "cell_type": "code",
      "execution_count": null,
      "metadata": {
        "id": "HPFDChr6tKN6"
      },
      "outputs": [],
      "source": [
        "from sklearn.neighbors import KNeighborsRegressor\n",
        "\n",
        "# Создаем и обучаем модель k-NN\n",
        "k = 5  # Количество соседей (замените на нужное значение)\n",
        "model = KNeighborsRegressor(n_neighbors=k)\n",
        "model.fit(X_train, y_train)\n",
        "\n",
        "# Делаем прогноз\n",
        "res_knn = model.predict(X_test)"
      ]
    },
    {
      "cell_type": "code",
      "execution_count": null,
      "metadata": {
        "id": "HFJIUmhstKN6"
      },
      "outputs": [],
      "source": [
        "plt.figure(figsize=(10, 5))\n",
        "plt.plot(X_test['Days'], res_knn, color='green', label='kNN')\n",
        "#для сравнения, добавим данные, полученные в предыдущем примере\n",
        "# plt.plot(X_test['Days'], res_mnk, color='red', label='МНК')\n",
        "# plt.plot(X_test['Days'], res_svm, color='blue', label='SVM')\n",
        "plt.scatter(X_test['Days'], y_test, color='orange', label='Данные теста')\n",
        "plt.xlabel('X')\n",
        "plt.ylabel('Y')\n",
        "plt.legend()\n",
        "plt.show()"
      ]
    },
    {
      "cell_type": "markdown",
      "metadata": {
        "id": "TMsuomqntKN6"
      },
      "source": [
        "### Lasso (Least absolute shrinkage and selection operator)\n",
        "\n",
        " Регрессия по методу наименьших квадратов (МНК) часто может стать неустойчивой, то есть сильно зависящей от обучающих данных, что обычно является проявлением тенденции к переобучению. Избежать такого переобучения помогает регуляризация - общий метод, заключающийся в наложении дополнительных ограничений на искомые параметры, которые могут предотвратить излишнюю сложность модели. Смысл процедуры заключается в “стягивании” в ходе настройки вектора коэффициентов  β  таким образом, чтобы они в среднем оказались несколько меньше по абсолютной величине, чем это было бы при оптимизации по МНК.\n",
        "\n",
        " Метод регрессии “лассо” (LASSO, Least Absolute Shrinkage and Selection Operator) заключается во введении дополнительного слагаемого регуляризации в функционал оптимизации модели, что часто позволяет получать более устойчивое решение. Условие минимизации квадратов ошибки при оценке параметров  $\\hat{\\beta}$\n",
        "  выражается следующей формулой:\n",
        "\n",
        "$\\hat{\\beta} = argmin(\\sum_{i}^n(y_i-\\sum_{j}^m \\beta x_{ij})^2 + \\lambda |\\beta|)$,\n",
        "где  λ  - параметр регуляризации, имеющий смысл штрафа за сложность.\n",
        "\n",
        "λ = 0, метод ЛАССО сводится к МНК, а при увеличении $\\lambda$ формируемая модель становится все более “лаконичной”, пока не превратится в нуль-модель.\n",
        "\n",
        "Метод Лассо также иногда называют  L1-регуляризацией.\n",
        "\n",
        "Оптимальная $\\lambda$ находится с использованием кросс-валидации (т.е. такая $\\lambda$, которой соответствует наименьшая ошибка прогноза)\n"
      ]
    },
    {
      "cell_type": "code",
      "execution_count": null,
      "metadata": {
        "id": "BSTbCc6VtKN7"
      },
      "outputs": [],
      "source": [
        "from sklearn.linear_model import Lasso\n",
        "# Создаем и обучаем модель Lasso-регрессии\n",
        "alpha = 0.3  # Параметр регуляризации (замените на желаемое значение)\n",
        "model = Lasso(alpha=alpha)\n",
        "model.fit(X_train, y_train)\n",
        "\n",
        "# Делаем прогноз\n",
        "res_lasso = model.predict(X_test)\n",
        "\n",
        "# Графики\n",
        "\n",
        "plt.figure(figsize=(10, 5))\n",
        "\n",
        "\n",
        "plt.scatter(X_test['Days'], y_test, label='Данные', color=\"orange\")\n",
        "#для сравнения, добавим данные, полученные в предыдущем примере\n",
        "plt.plot(X_test['Days'], res_knn, color='green', label='kNN')\n",
        "plt.plot(X_test['Days'], res_mnk, color='red', label='МНК')\n",
        "plt.plot(X_test['Days'], res_svm, color='blue', label='SVM')\n",
        "\n",
        "plt.plot(X_test['Days'], res_lasso, color=\"black\", label='Lasso', ls='dashed')\n",
        "\n",
        "plt.xlabel('X')\n",
        "plt.ylabel('Y')\n",
        "plt.legend()\n",
        "plt.show()"
      ]
    },
    {
      "cell_type": "markdown",
      "metadata": {
        "id": "S85t137XtKN7"
      },
      "source": [
        "### Метод частных наименьших квадратов (PLS)\n",
        "\n",
        "Основная цель PLS - это уменьшить размерность набора данных, проектируя исходные признаки на некоторое меньшее число новых признаков (компонентов), которые линейно связаны с зависимой переменной. Это помогает улучшить способность модели к предсказанию, особенно в случаях, когда исходный набор признаков мультиколлинеарен (сильно коррелируют между собой) или имеет много шумовых переменных.\n",
        "\n",
        "Общая базовая модель многомерного PLS:\n",
        "\n",
        "$X=TP^T+E$\n",
        "$Y=UQ^T+F$\n",
        "\n",
        "где $X$ - матрица предикторов $m*n$, $Y$ - матрица ответов $n*p$; $T$ и $U$ - это матрицы $n*l$, которые являются, соответственно, проекциями $X$ (оценка X, матрица компонентов или факторов) и проекциями Y (Y баллы); $P$ и $Q$,соответственно $m*l$ и $ p*l$ , и ортогональная загрузка. матрицы; а матрицы $E$ и $F$ - это члены ошибок, которые считаются независимыми и одинаково распределенными случайными нормальными величинами. Разложение $X$ и $Y$ производится таким образом, чтобы максимизировать ковариацию между $T$ и $U$.\n",
        "\n",
        "(Источник https://wiki5.ru/wiki/Partial_least_squares_regression)\n",
        "\n"
      ]
    },
    {
      "cell_type": "code",
      "execution_count": null,
      "metadata": {
        "id": "E3_ovbOOtKN7"
      },
      "outputs": [],
      "source": [
        "from sklearn.cross_decomposition import PLSRegression\n",
        "\n",
        "# Создаем и обучаем модель PLS\n",
        "n_components = 3 # Количество компонент PLS (замените на желаемое значение)\n",
        "model = PLSRegression(n_components=n_components)\n",
        "model.fit(X_train, y_train)\n",
        "\n",
        "# Делаем прогноз\n",
        "res_pls = model.predict(X_test)"
      ]
    },
    {
      "cell_type": "code",
      "execution_count": null,
      "metadata": {
        "id": "5c7bqM7mtKN8",
        "outputId": "3eab19a7-1b1b-4562-936e-d3bb4ecfec0f"
      },
      "outputs": [
        {
          "data": {
            "image/png": "[encoded data removed]",
            "text/plain": [
              "<Figure size 1000x500 with 1 Axes>"
            ]
          },
          "metadata": {},
          "output_type": "display_data"
        }
      ],
      "source": [
        "# Графики\n",
        "\n",
        "plt.figure(figsize=(10, 5))\n",
        "\n",
        "plt.scatter(X_test['Days'], y_test, color=\"orange\", label='Данные')\n",
        "#для сравнения, добавим данные, полученные в предыдущем примере\n",
        "# plt.plot(X_test['Days'], res_knn, color='green', label='kNN')\n",
        "# plt.plot(X_test['Days'], res_mnk, color='red', label='МНК')\n",
        "# plt.plot(X_test['Days'], res_svm, color='blue', label='SVM')\n",
        "# plt.plot(X_test['Days'], res_lasso, color=\"black\", label='Lasso', ls='dashed')\n",
        "plt.plot(X_test['Days'], res_pls, color=\"magenta\", label='PLS')\n",
        "\n",
        "plt.xlabel('X')\n",
        "plt.ylabel('Y')\n",
        "plt.legend()\n",
        "plt.show()"
      ]
    },
    {
      "cell_type": "markdown",
      "metadata": {
        "id": "oxbe_usZtKN8"
      },
      "source": [
        "Задание тут https://github.com/annaprovorova/HSE_ML_course_2024-2025"
      ]
    }
  ],
  "metadata": {
    "colab": {
      "provenance": []
    },
    "kernelspec": {
      "display_name": "MNE_env",
      "language": "python",
      "name": "python3"
    },
    "language_info": {
      "codemirror_mode": {
        "name": "ipython",
        "version": 3
      },
      "file_extension": ".py",
      "mimetype": "text/x-python",
      "name": "python",
      "nbconvert_exporter": "python",
      "pygments_lexer": "ipython3",
      "version": "3.12.6"
    },
    "orig_nbformat": 4
  },
  "nbformat": 4,
  "nbformat_minor": 0
}
