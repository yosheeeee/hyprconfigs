{
  "cells": [
    {
      "cell_type": "markdown",
      "metadata": {
        "id": "uNPIU0bo9FBr"
      },
      "source": [
        "# Подготовка данных\n",
        "\n",
        "Очистка «грязных данных» – одна из основных проблем машинного обучения."
      ]
    },
    {
      "cell_type": "markdown",
      "metadata": {
        "id": "AcDxbUDn9FBt"
      },
      "source": [
        "Очень важно следить за качеством полученных данных. Вам могут встретиться, например, следующие проблемы:\n",
        "\n",
        "- Пропуски (пропущенные значения). Объекты или признаки, в которых есть пропуски, можно удалять из выборки, но если пропусков довольно много, мы можем потерять таким образом слишком много информации. Кроме того, наличие пропуска само по себе может нести информацию: скажем, это может говорить о систематической проблеме в сборе данных для того или иного сегмента выборки.\n",
        "\n",
        "- Выбросы, то есть объекты, которые резко отличаются от большинства остальных. Например, в датасете с информацией о клиентах банка 140-летний человек, очевидно, будет весьма нетипичным. Выбросы могут возникать из-за ошибок при сборе данных или представлять собой реально существующие аномалии. Обычно выбросы лучше удалять, но в некоторых случаях выбросами могут быть важные объекты (например, очень богатые клиенты банка), и тогда их, возможно, стоит отлавливать и обрабатывать отдельно.\n",
        "\n",
        "- Ошибки разметки. Если, например, вы собираете данные с помощью разметчиков-людей, то вы должны быть готовы к тому, что часть таргетов будет отмечена неправильно. Даже если не думать о том, что не все из разметчиков совершенно честные и старательные, задача может оказаться для них сложной.\n",
        "\n",
        "- Data drift. С течением времени данные могут меняться. Например, может измениться схема сбора данных, и они начнут приходить в формате, который вообще не обрабатывается моделью. Или же может поменяться распределение данных: скажем, если вы делали образовательный сервис для студентов, а к вам стали приходить и более зрелые люди. Data drift – это суровая реальность для любой системы, которая решает не сиюминутную задачу, поэтому нужно уметь мониторить распределение данных и, если нужно, обновлять модель."
      ]
    },
    {
      "cell_type": "markdown",
      "metadata": {
        "id": "s1IKaoC_9FBu"
      },
      "source": [
        "### Этапы подготовки данных\n",
        "\n",
        "- Техническая очистка. Данные надо проверить на наличие типовых проблем: дубли, пропуски, противоречия.\n",
        "\n",
        "- Семантическая очистка. Технически идеальные данные могут содержать смысловые ошибки. Например, выбросы. Для их очистки используются статистические методы.\n",
        "\n",
        "- Обогащение/генерация данных. Данные желательно обогащать дополнительными аналитическими признаками. Это может улучшить качество работы моделей."
      ]
    },
    {
      "cell_type": "markdown",
      "metadata": {
        "id": "aLrwDn-99FBu"
      },
      "source": [
        "### Датасет с предскзанием сахарного диабет\n"
      ]
    },
    {
      "cell_type": "markdown",
      "metadata": {
        "id": "C5ufUzo59FBv"
      },
      "source": [
        "Pregnancies \tTo express the Number of pregnancies\n",
        "Glucose \tTo express the Glucose level in blood\n",
        "BloodPressure \tTo express the Blood pressure measurement\n",
        "SkinThickness \tTo express the thickness of the skin\n",
        "Insulin \tTo express the Insulin level in blood\n",
        "BMI \tTo express the Body mass index\n",
        "DiabetesPedigreeFunction \tTo express the Diabetes percentage\n",
        "Age \tTo express the age\n",
        "Outcome \tTo express the final result 1 is Yes and 0 is No\n"
      ]
    },
    {
      "cell_type": "code",
      "execution_count": 1,
      "metadata": {
        "id": "CZbR-QKH9FBv"
      },
      "outputs": [],
      "source": [
        "# подключим необходимые бибилиотеки\n",
        "import pandas as pd\n",
        "import numpy as np"
      ]
    },
    {
      "cell_type": "code",
      "execution_count": 2,
      "metadata": {
        "colab": {
          "base_uri": "https://localhost:8080/",
          "height": 300
        },
        "id": "Ysv0EuCY9FBw",
        "outputId": "6729b1a1-190e-44be-86fd-b1278aa9a154"
      },
      "outputs": [
        {
          "data": {
            "text/html": [
              "<div>\n",
              "<style scoped>\n",
              "    .dataframe tbody tr th:only-of-type {\n",
              "        vertical-align: middle;\n",
              "    }\n",
              "\n",
              "    .dataframe tbody tr th {\n",
              "        vertical-align: top;\n",
              "    }\n",
              "\n",
              "    .dataframe thead th {\n",
              "        text-align: right;\n",
              "    }\n",
              "</style>\n",
              "<table border=\"1\" class=\"dataframe\">\n",
              "  <thead>\n",
              "    <tr style=\"text-align: right;\">\n",
              "      <th></th>\n",
              "      <th>Pregnancies</th>\n",
              "      <th>Glucose</th>\n",
              "      <th>BloodPressure</th>\n",
              "      <th>SkinThickness</th>\n",
              "      <th>Insulin</th>\n",
              "      <th>BMI</th>\n",
              "      <th>DiabetesPedigreeFunction</th>\n",
              "      <th>Age</th>\n",
              "      <th>Outcome</th>\n",
              "    </tr>\n",
              "  </thead>\n",
              "  <tbody>\n",
              "    <tr>\n",
              "      <th>0</th>\n",
              "      <td>6</td>\n",
              "      <td>148</td>\n",
              "      <td>72</td>\n",
              "      <td>35</td>\n",
              "      <td>0</td>\n",
              "      <td>33.6</td>\n",
              "      <td>0.627</td>\n",
              "      <td>50</td>\n",
              "      <td>1</td>\n",
              "    </tr>\n",
              "    <tr>\n",
              "      <th>1</th>\n",
              "      <td>1</td>\n",
              "      <td>85</td>\n",
              "      <td>66</td>\n",
              "      <td>29</td>\n",
              "      <td>0</td>\n",
              "      <td>26.6</td>\n",
              "      <td>0.351</td>\n",
              "      <td>31</td>\n",
              "      <td>0</td>\n",
              "    </tr>\n",
              "    <tr>\n",
              "      <th>2</th>\n",
              "      <td>8</td>\n",
              "      <td>183</td>\n",
              "      <td>64</td>\n",
              "      <td>0</td>\n",
              "      <td>0</td>\n",
              "      <td>23.3</td>\n",
              "      <td>0.672</td>\n",
              "      <td>32</td>\n",
              "      <td>1</td>\n",
              "    </tr>\n",
              "    <tr>\n",
              "      <th>3</th>\n",
              "      <td>1</td>\n",
              "      <td>89</td>\n",
              "      <td>66</td>\n",
              "      <td>23</td>\n",
              "      <td>94</td>\n",
              "      <td>28.1</td>\n",
              "      <td>0.167</td>\n",
              "      <td>21</td>\n",
              "      <td>0</td>\n",
              "    </tr>\n",
              "    <tr>\n",
              "      <th>4</th>\n",
              "      <td>0</td>\n",
              "      <td>137</td>\n",
              "      <td>40</td>\n",
              "      <td>35</td>\n",
              "      <td>168</td>\n",
              "      <td>43.1</td>\n",
              "      <td>2.288</td>\n",
              "      <td>33</td>\n",
              "      <td>1</td>\n",
              "    </tr>\n",
              "    <tr>\n",
              "      <th>5</th>\n",
              "      <td>5</td>\n",
              "      <td>116</td>\n",
              "      <td>74</td>\n",
              "      <td>0</td>\n",
              "      <td>0</td>\n",
              "      <td>25.6</td>\n",
              "      <td>0.201</td>\n",
              "      <td>30</td>\n",
              "      <td>0</td>\n",
              "    </tr>\n",
              "    <tr>\n",
              "      <th>6</th>\n",
              "      <td>3</td>\n",
              "      <td>78</td>\n",
              "      <td>50</td>\n",
              "      <td>32</td>\n",
              "      <td>88</td>\n",
              "      <td>31.0</td>\n",
              "      <td>0.248</td>\n",
              "      <td>26</td>\n",
              "      <td>1</td>\n",
              "    </tr>\n",
              "    <tr>\n",
              "      <th>7</th>\n",
              "      <td>10</td>\n",
              "      <td>115</td>\n",
              "      <td>0</td>\n",
              "      <td>0</td>\n",
              "      <td>0</td>\n",
              "      <td>35.3</td>\n",
              "      <td>0.134</td>\n",
              "      <td>29</td>\n",
              "      <td>0</td>\n",
              "    </tr>\n",
              "  </tbody>\n",
              "</table>\n",
              "</div>"
            ],
            "text/plain": [
              "   Pregnancies  Glucose  BloodPressure  SkinThickness  Insulin   BMI  \\\n",
              "0            6      148             72             35        0  33.6   \n",
              "1            1       85             66             29        0  26.6   \n",
              "2            8      183             64              0        0  23.3   \n",
              "3            1       89             66             23       94  28.1   \n",
              "4            0      137             40             35      168  43.1   \n",
              "5            5      116             74              0        0  25.6   \n",
              "6            3       78             50             32       88  31.0   \n",
              "7           10      115              0              0        0  35.3   \n",
              "\n",
              "   DiabetesPedigreeFunction  Age  Outcome  \n",
              "0                     0.627   50        1  \n",
              "1                     0.351   31        0  \n",
              "2                     0.672   32        1  \n",
              "3                     0.167   21        0  \n",
              "4                     2.288   33        1  \n",
              "5                     0.201   30        0  \n",
              "6                     0.248   26        1  \n",
              "7                     0.134   29        0  "
            ]
          },
          "execution_count": 2,
          "metadata": {},
          "output_type": "execute_result"
        }
      ],
      "source": [
        "#посмотрим на данные\n",
        "\n",
        "# Самостоятельно загрузите датасет DataSet2_0.csv\n",
        "data = pd.read_csv(\"./diabetes.csv\", sep=',')\n",
        "data.head(8)"
      ]
    },
    {
      "cell_type": "code",
      "execution_count": null,
      "metadata": {
        "id": "Pv3tMTcOgQjt"
      },
      "outputs": [],
      "source": []
    },
    {
      "cell_type": "code",
      "execution_count": null,
      "metadata": {
        "id": "fqGvLY0c9FBw"
      },
      "outputs": [],
      "source": [
        "# удалите безымянную колоку\n",
        "data = data.drop(columns='Unnamed: 0')"
      ]
    },
    {
      "cell_type": "markdown",
      "metadata": {
        "id": "WTlFWt2L9FBx"
      },
      "source": [
        "Посмотрим, есть ли пропуски в данных:"
      ]
    },
    {
      "cell_type": "code",
      "execution_count": 4,
      "metadata": {
        "colab": {
          "base_uri": "https://localhost:8080/",
          "height": 586
        },
        "id": "iWztMaN99FBx",
        "outputId": "9e0b8066-b113-4588-aa5b-534f5f381347"
      },
      "outputs": [
        {
          "data": {
            "text/plain": [
              "Pregnancies                 0\n",
              "Glucose                     0\n",
              "BloodPressure               0\n",
              "SkinThickness               0\n",
              "Insulin                     0\n",
              "BMI                         0\n",
              "DiabetesPedigreeFunction    0\n",
              "Age                         0\n",
              "Outcome                     0\n",
              "dtype: int64"
            ]
          },
          "execution_count": 4,
          "metadata": {},
          "output_type": "execute_result"
        }
      ],
      "source": [
        "#количество значений NA\n",
        "# data.isna().sum()\n",
        "# data['totalScanTimeInSeconds']=data['grandTotal']/data['valuePerSecond']\n",
        "#количество значений\n",
        "data.isnull().sum()"
      ]
    },
    {
      "cell_type": "markdown",
      "metadata": {
        "id": "Au9p_1u_9FBx"
      },
      "source": [
        "Проверим на наличие дубликатов:"
      ]
    },
    {
      "cell_type": "code",
      "execution_count": 5,
      "metadata": {
        "colab": {
          "base_uri": "https://localhost:8080/"
        },
        "id": "9RASuk5b9FBx",
        "outputId": "4857512f-b137-4eef-b793-6478d024be64"
      },
      "outputs": [
        {
          "data": {
            "text/plain": [
              "np.int64(0)"
            ]
          },
          "execution_count": 5,
          "metadata": {},
          "output_type": "execute_result"
        }
      ],
      "source": [
        "data.duplicated().sum()"
      ]
    },
    {
      "cell_type": "code",
      "execution_count": 6,
      "metadata": {
        "colab": {
          "base_uri": "https://localhost:8080/"
        },
        "id": "kncKDM189FBx",
        "outputId": "481b0e9b-f3ce-4ce6-8925-419dea6bb79b"
      },
      "outputs": [
        {
          "data": {
            "text/plain": [
              "(768, 9)"
            ]
          },
          "execution_count": 6,
          "metadata": {},
          "output_type": "execute_result"
        }
      ],
      "source": [
        "    # если есть дубликаты, удалим их\n",
        "data = data.drop_duplicates()\n",
        "data.shape\n"
      ]
    },
    {
      "cell_type": "markdown",
      "metadata": {
        "id": "F119h0f_9FBx"
      },
      "source": [
        "Теперь поговорим о выбросах. Как их обнаружить? Есть множество вариантов, вы рассмотрим лишь некоторые."
      ]
    },
    {
      "cell_type": "code",
      "execution_count": 39,
      "metadata": {
        "colab": {
          "base_uri": "https://localhost:8080/",
          "height": 320
        },
        "id": "qgWTb7Ds9FBx",
        "outputId": "8c17bbc8-253b-46a6-96ff-97e7711c87d7"
      },
      "outputs": [
        {
          "name": "stdout",
          "output_type": "stream",
          "text": [
            "Pregnancies                 0\n",
            "Glucose                     0\n",
            "BloodPressure               0\n",
            "SkinThickness               0\n",
            "Insulin                     0\n",
            "BMI                         0\n",
            "DiabetesPedigreeFunction    0\n",
            "Age                         0\n",
            "Outcome                     0\n",
            "dav_k_ves                   0\n",
            "dav_k_age                   0\n",
            "skin_k_age                  0\n",
            "insulin_k_diabet            0\n",
            "dtype: int64\n"
          ]
        },
        {
          "data": {
            "text/html": [
              "<div>\n",
              "<style scoped>\n",
              "    .dataframe tbody tr th:only-of-type {\n",
              "        vertical-align: middle;\n",
              "    }\n",
              "\n",
              "    .dataframe tbody tr th {\n",
              "        vertical-align: top;\n",
              "    }\n",
              "\n",
              "    .dataframe thead th {\n",
              "        text-align: right;\n",
              "    }\n",
              "</style>\n",
              "<table border=\"1\" class=\"dataframe\">\n",
              "  <thead>\n",
              "    <tr style=\"text-align: right;\">\n",
              "      <th></th>\n",
              "      <th>Pregnancies</th>\n",
              "      <th>Glucose</th>\n",
              "      <th>BloodPressure</th>\n",
              "      <th>SkinThickness</th>\n",
              "      <th>Insulin</th>\n",
              "      <th>BMI</th>\n",
              "      <th>DiabetesPedigreeFunction</th>\n",
              "      <th>Age</th>\n",
              "      <th>Outcome</th>\n",
              "      <th>dav_k_ves</th>\n",
              "      <th>dav_k_age</th>\n",
              "      <th>skin_k_age</th>\n",
              "      <th>insulin_k_diabet</th>\n",
              "    </tr>\n",
              "  </thead>\n",
              "  <tbody>\n",
              "    <tr>\n",
              "      <th>count</th>\n",
              "      <td>761.000000</td>\n",
              "      <td>761.000000</td>\n",
              "      <td>761.000000</td>\n",
              "      <td>761.000000</td>\n",
              "      <td>761.000000</td>\n",
              "      <td>761.000000</td>\n",
              "      <td>761.000000</td>\n",
              "      <td>761.000000</td>\n",
              "      <td>761.000000</td>\n",
              "      <td>761.000000</td>\n",
              "      <td>761.000000</td>\n",
              "      <td>761.000000</td>\n",
              "      <td>761.000000</td>\n",
              "    </tr>\n",
              "    <tr>\n",
              "      <th>mean</th>\n",
              "      <td>3.840999</td>\n",
              "      <td>121.131406</td>\n",
              "      <td>69.741130</td>\n",
              "      <td>20.725361</td>\n",
              "      <td>80.533509</td>\n",
              "      <td>32.286859</td>\n",
              "      <td>0.474126</td>\n",
              "      <td>33.323259</td>\n",
              "      <td>0.350854</td>\n",
              "      <td>2.222326</td>\n",
              "      <td>2.280414</td>\n",
              "      <td>0.705852</td>\n",
              "      <td>218.928673</td>\n",
              "    </tr>\n",
              "    <tr>\n",
              "      <th>std</th>\n",
              "      <td>3.370491</td>\n",
              "      <td>31.989531</td>\n",
              "      <td>18.267674</td>\n",
              "      <td>15.902731</td>\n",
              "      <td>115.517596</td>\n",
              "      <td>7.295107</td>\n",
              "      <td>0.331947</td>\n",
              "      <td>11.779469</td>\n",
              "      <td>0.477551</td>\n",
              "      <td>0.694728</td>\n",
              "      <td>0.822255</td>\n",
              "      <td>0.570132</td>\n",
              "      <td>398.982487</td>\n",
              "    </tr>\n",
              "    <tr>\n",
              "      <th>min</th>\n",
              "      <td>0.000000</td>\n",
              "      <td>0.000000</td>\n",
              "      <td>0.000000</td>\n",
              "      <td>0.000000</td>\n",
              "      <td>0.000000</td>\n",
              "      <td>0.000000</td>\n",
              "      <td>0.078000</td>\n",
              "      <td>21.000000</td>\n",
              "      <td>0.000000</td>\n",
              "      <td>0.000000</td>\n",
              "      <td>0.000000</td>\n",
              "      <td>0.000000</td>\n",
              "      <td>0.000000</td>\n",
              "    </tr>\n",
              "    <tr>\n",
              "      <th>25%</th>\n",
              "      <td>1.000000</td>\n",
              "      <td>99.000000</td>\n",
              "      <td>64.000000</td>\n",
              "      <td>0.000000</td>\n",
              "      <td>0.000000</td>\n",
              "      <td>27.400000</td>\n",
              "      <td>0.244000</td>\n",
              "      <td>24.000000</td>\n",
              "      <td>0.000000</td>\n",
              "      <td>1.891253</td>\n",
              "      <td>1.760000</td>\n",
              "      <td>0.000000</td>\n",
              "      <td>0.000000</td>\n",
              "    </tr>\n",
              "    <tr>\n",
              "      <th>50%</th>\n",
              "      <td>3.000000</td>\n",
              "      <td>117.000000</td>\n",
              "      <td>72.000000</td>\n",
              "      <td>23.000000</td>\n",
              "      <td>36.000000</td>\n",
              "      <td>32.200000</td>\n",
              "      <td>0.378000</td>\n",
              "      <td>29.000000</td>\n",
              "      <td>0.000000</td>\n",
              "      <td>2.222326</td>\n",
              "      <td>2.320000</td>\n",
              "      <td>0.720000</td>\n",
              "      <td>58.365759</td>\n",
              "    </tr>\n",
              "    <tr>\n",
              "      <th>75%</th>\n",
              "      <td>6.000000</td>\n",
              "      <td>141.000000</td>\n",
              "      <td>80.000000</td>\n",
              "      <td>32.000000</td>\n",
              "      <td>129.000000</td>\n",
              "      <td>36.600000</td>\n",
              "      <td>0.629000</td>\n",
              "      <td>41.000000</td>\n",
              "      <td>1.000000</td>\n",
              "      <td>2.580645</td>\n",
              "      <td>2.833333</td>\n",
              "      <td>1.130435</td>\n",
              "      <td>284.571429</td>\n",
              "    </tr>\n",
              "    <tr>\n",
              "      <th>max</th>\n",
              "      <td>17.000000</td>\n",
              "      <td>199.000000</td>\n",
              "      <td>122.000000</td>\n",
              "      <td>99.000000</td>\n",
              "      <td>846.000000</td>\n",
              "      <td>67.100000</td>\n",
              "      <td>2.420000</td>\n",
              "      <td>81.000000</td>\n",
              "      <td>1.000000</td>\n",
              "      <td>5.446429</td>\n",
              "      <td>4.571429</td>\n",
              "      <td>2.520000</td>\n",
              "      <td>3750.000000</td>\n",
              "    </tr>\n",
              "  </tbody>\n",
              "</table>\n",
              "</div>"
            ],
            "text/plain": [
              "       Pregnancies     Glucose  BloodPressure  SkinThickness     Insulin  \\\n",
              "count   761.000000  761.000000     761.000000     761.000000  761.000000   \n",
              "mean      3.840999  121.131406      69.741130      20.725361   80.533509   \n",
              "std       3.370491   31.989531      18.267674      15.902731  115.517596   \n",
              "min       0.000000    0.000000       0.000000       0.000000    0.000000   \n",
              "25%       1.000000   99.000000      64.000000       0.000000    0.000000   \n",
              "50%       3.000000  117.000000      72.000000      23.000000   36.000000   \n",
              "75%       6.000000  141.000000      80.000000      32.000000  129.000000   \n",
              "max      17.000000  199.000000     122.000000      99.000000  846.000000   \n",
              "\n",
              "              BMI  DiabetesPedigreeFunction         Age     Outcome  \\\n",
              "count  761.000000                761.000000  761.000000  761.000000   \n",
              "mean    32.286859                  0.474126   33.323259    0.350854   \n",
              "std      7.295107                  0.331947   11.779469    0.477551   \n",
              "min      0.000000                  0.078000   21.000000    0.000000   \n",
              "25%     27.400000                  0.244000   24.000000    0.000000   \n",
              "50%     32.200000                  0.378000   29.000000    0.000000   \n",
              "75%     36.600000                  0.629000   41.000000    1.000000   \n",
              "max     67.100000                  2.420000   81.000000    1.000000   \n",
              "\n",
              "        dav_k_ves   dav_k_age  skin_k_age  insulin_k_diabet  \n",
              "count  761.000000  761.000000  761.000000        761.000000  \n",
              "mean     2.222326    2.280414    0.705852        218.928673  \n",
              "std      0.694728    0.822255    0.570132        398.982487  \n",
              "min      0.000000    0.000000    0.000000          0.000000  \n",
              "25%      1.891253    1.760000    0.000000          0.000000  \n",
              "50%      2.222326    2.320000    0.720000         58.365759  \n",
              "75%      2.580645    2.833333    1.130435        284.571429  \n",
              "max      5.446429    4.571429    2.520000       3750.000000  "
            ]
          },
          "execution_count": 39,
          "metadata": {},
          "output_type": "execute_result"
        }
      ],
      "source": [
        "#Посмотреть минимальные и максимальные значения в таблице\n",
        "\n",
        "data.describe()\n",
        "\n",
        "# Кванти́ль в математической статистике — значение, которое заданная случайная величина не превышает с фиксированной вероятностью.\n",
        "# Если вероятность задана в процентах, то квантиль называется процентилем или перцентилем"
      ]
    },
    {
      "cell_type": "code",
      "execution_count": 35,
      "metadata": {
        "colab": {
          "base_uri": "https://localhost:8080/",
          "height": 638
        },
        "id": "1LqSsoCA9FBx",
        "outputId": "3aade614-8ca7-491c-d8e3-4d4fd381549d"
      },
      "outputs": [
        {
          "name": "stdout",
          "output_type": "stream",
          "text": [
            "528     0\n",
            "529     0\n",
            "531     0\n",
            "536     0\n",
            "537     0\n",
            "       ..\n",
            "86     13\n",
            "298    14\n",
            "455    14\n",
            "88     15\n",
            "159    17\n",
            "Name: Pregnancies, Length: 761, dtype: int64\n"
          ]
        },
        {
          "data": {
            "image/png": "[encoded data removed]",
            "text/plain": [
              "<Figure size 640x480 with 1 Axes>"
            ]
          },
          "metadata": {},
          "output_type": "display_data"
        }
      ],
      "source": [
        "# для анализа можно использовать наглядные методы. Например, построим гистограмму:\n",
        "\n",
        "import matplotlib.pyplot as plt\n",
        "import seaborn as sns\n",
        "\n",
        "a = data['Pregnancies'].sort_values()\n",
        "print(a)\n",
        "plt.plot(list(a))\n",
        "plt.show()"
      ]
    },
    {
      "cell_type": "code",
      "execution_count": 36,
      "metadata": {
        "colab": {
          "base_uri": "https://localhost:8080/",
          "height": 430
        },
        "id": "jF5kHyFn9FBy",
        "outputId": "5daf1e5e-c1ad-497b-8c15-e2b5823b4dec"
      },
      "outputs": [
        {
          "data": {
            "image/png": "[encoded data removed]",
            "text/plain": [
              "<Figure size 640x480 with 1 Axes>"
            ]
          },
          "metadata": {},
          "output_type": "display_data"
        }
      ],
      "source": [
        "\n",
        "data.Pregnancies.plot.box()\n",
        "plt.show()\n"
      ]
    },
    {
      "cell_type": "code",
      "execution_count": 38,
      "metadata": {
        "colab": {
          "base_uri": "https://localhost:8080/",
          "height": 459
        },
        "id": "kvqkNpxL9FBy",
        "outputId": "e68b9c2d-c19b-4595-bc91-d3f7918136f9"
      },
      "outputs": [
        {
          "data": {
            "text/plain": [
              "0      6.0\n",
              "1      1.0\n",
              "2      8.0\n",
              "3      1.0\n",
              "4      0.0\n",
              "      ... \n",
              "763    NaN\n",
              "764    2.0\n",
              "765    5.0\n",
              "766    1.0\n",
              "767    1.0\n",
              "Name: Pregnancies, Length: 761, dtype: float64"
            ]
          },
          "execution_count": 38,
          "metadata": {},
          "output_type": "execute_result"
        }
      ],
      "source": [
        "#Если и этого не достаточно, можно реализовать фильтр Хэмпеля\n",
        "def hampel(vals_orig):\n",
        "    '''Опишем функцию, которая заменяет на nan все значения,\n",
        "    у которых разница с медианой больше, чем три медианных абсолютных отклонения.'''\n",
        "    vals = vals_orig.copy()\n",
        "    difference = np.abs(vals.median()-vals)\n",
        "    median_abs_deviation = difference.median()\n",
        "    threshold = 3 * median_abs_deviation\n",
        "    outlier_idx = difference > threshold\n",
        "    vals[outlier_idx] = np.nan\n",
        "    return(vals)\n",
        "\n",
        "hampel(data['Pregnancies'])"
      ]
    },
    {
      "cell_type": "code",
      "execution_count": null,
      "metadata": {
        "id": "nirqYt7g9FBy",
        "outputId": "f2311d48-2f19-4746-fe24-dbc2a1b78620"
      },
      "outputs": [
        {
          "data": {
            "text/plain": [
              "0"
            ]
          },
          "execution_count": 128,
          "metadata": {},
          "output_type": "execute_result"
        }
      ],
      "source": [
        "# запустите фильтр Хемпеля на всех колонках датафрейма\n",
        "# есть ли плохие значения?\n"
      ]
    },
    {
      "cell_type": "markdown",
      "metadata": {
        "id": "CRigJ6ku9FBz"
      },
      "source": [
        "### Введение атрибутов\n",
        "\n",
        "Введение новых атрибутов — это метод использования необработанных, неструктурированных атрибутов для их потенциального использования в анализе. Изменение пространства атрибутов часто является обязательной процедурой, т. к. не- обработанное пространство атрибутов, как правило, переполнено неструктурированными и неважными данными, что часто приводит к шуму. Введение новых  атрибутов — важный этап, на котором используются знания эксперта с целью обработки множества исходных данных с учетом особенностей рассматриваемой предметной области."
      ]
    },
    {
      "cell_type": "markdown",
      "metadata": {
        "id": "cHcLPWBw9FBz"
      },
      "source": [
        "### Введенные вычислимые показатели\n",
        "\n",
        "Придумайте хотя бы два показателя, которые более понятно будут описывать данные, чем уже заданные"
      ]
    },
    {
      "cell_type": "code",
      "execution_count": 42,
      "metadata": {
        "colab": {
          "base_uri": "https://localhost:8080/",
          "height": 444
        },
        "id": "Ql69D6VK9FBz",
        "outputId": "c1e918b4-5e9f-4960-e490-b010e4997986"
      },
      "outputs": [
        {
          "name": "stdout",
          "output_type": "stream",
          "text": [
            "Pregnancies                 0\n",
            "Glucose                     0\n",
            "BloodPressure               0\n",
            "SkinThickness               0\n",
            "Insulin                     0\n",
            "BMI                         0\n",
            "DiabetesPedigreeFunction    0\n",
            "Age                         0\n",
            "Outcome                     0\n",
            "dav_k_ves                   4\n",
            "dav_k_age                   0\n",
            "skin_k_age                  0\n",
            "insulin_k_diabet            0\n",
            "dtype: int64\n"
          ]
        },
        {
          "data": {
            "text/html": [
              "<div>\n",
              "<style scoped>\n",
              "    .dataframe tbody tr th:only-of-type {\n",
              "        vertical-align: middle;\n",
              "    }\n",
              "\n",
              "    .dataframe tbody tr th {\n",
              "        vertical-align: top;\n",
              "    }\n",
              "\n",
              "    .dataframe thead th {\n",
              "        text-align: right;\n",
              "    }\n",
              "</style>\n",
              "<table border=\"1\" class=\"dataframe\">\n",
              "  <thead>\n",
              "    <tr style=\"text-align: right;\">\n",
              "      <th></th>\n",
              "      <th>Pregnancies</th>\n",
              "      <th>Glucose</th>\n",
              "      <th>BloodPressure</th>\n",
              "      <th>SkinThickness</th>\n",
              "      <th>Insulin</th>\n",
              "      <th>BMI</th>\n",
              "      <th>DiabetesPedigreeFunction</th>\n",
              "      <th>Age</th>\n",
              "      <th>Outcome</th>\n",
              "      <th>dav_k_ves</th>\n",
              "      <th>dav_k_age</th>\n",
              "      <th>skin_k_age</th>\n",
              "      <th>insulin_k_diabet</th>\n",
              "    </tr>\n",
              "  </thead>\n",
              "  <tbody>\n",
              "    <tr>\n",
              "      <th>count</th>\n",
              "      <td>761.000000</td>\n",
              "      <td>761.000000</td>\n",
              "      <td>761.000000</td>\n",
              "      <td>761.000000</td>\n",
              "      <td>761.000000</td>\n",
              "      <td>761.000000</td>\n",
              "      <td>761.000000</td>\n",
              "      <td>761.000000</td>\n",
              "      <td>761.000000</td>\n",
              "      <td>761.000000</td>\n",
              "      <td>761.000000</td>\n",
              "      <td>761.000000</td>\n",
              "      <td>761.000000</td>\n",
              "    </tr>\n",
              "    <tr>\n",
              "      <th>mean</th>\n",
              "      <td>3.840999</td>\n",
              "      <td>121.131406</td>\n",
              "      <td>69.741130</td>\n",
              "      <td>20.725361</td>\n",
              "      <td>80.533509</td>\n",
              "      <td>32.286859</td>\n",
              "      <td>0.474126</td>\n",
              "      <td>33.323259</td>\n",
              "      <td>0.350854</td>\n",
              "      <td>2.222326</td>\n",
              "      <td>2.280414</td>\n",
              "      <td>0.705852</td>\n",
              "      <td>218.928673</td>\n",
              "    </tr>\n",
              "    <tr>\n",
              "      <th>std</th>\n",
              "      <td>3.370491</td>\n",
              "      <td>31.989531</td>\n",
              "      <td>18.267674</td>\n",
              "      <td>15.902731</td>\n",
              "      <td>115.517596</td>\n",
              "      <td>7.295107</td>\n",
              "      <td>0.331947</td>\n",
              "      <td>11.779469</td>\n",
              "      <td>0.477551</td>\n",
              "      <td>0.694728</td>\n",
              "      <td>0.822255</td>\n",
              "      <td>0.570132</td>\n",
              "      <td>398.982487</td>\n",
              "    </tr>\n",
              "    <tr>\n",
              "      <th>min</th>\n",
              "      <td>0.000000</td>\n",
              "      <td>0.000000</td>\n",
              "      <td>0.000000</td>\n",
              "      <td>0.000000</td>\n",
              "      <td>0.000000</td>\n",
              "      <td>0.000000</td>\n",
              "      <td>0.078000</td>\n",
              "      <td>21.000000</td>\n",
              "      <td>0.000000</td>\n",
              "      <td>0.000000</td>\n",
              "      <td>0.000000</td>\n",
              "      <td>0.000000</td>\n",
              "      <td>0.000000</td>\n",
              "    </tr>\n",
              "    <tr>\n",
              "      <th>25%</th>\n",
              "      <td>1.000000</td>\n",
              "      <td>99.000000</td>\n",
              "      <td>64.000000</td>\n",
              "      <td>0.000000</td>\n",
              "      <td>0.000000</td>\n",
              "      <td>27.400000</td>\n",
              "      <td>0.244000</td>\n",
              "      <td>24.000000</td>\n",
              "      <td>0.000000</td>\n",
              "      <td>1.891253</td>\n",
              "      <td>1.760000</td>\n",
              "      <td>0.000000</td>\n",
              "      <td>0.000000</td>\n",
              "    </tr>\n",
              "    <tr>\n",
              "      <th>50%</th>\n",
              "      <td>3.000000</td>\n",
              "      <td>117.000000</td>\n",
              "      <td>72.000000</td>\n",
              "      <td>23.000000</td>\n",
              "      <td>36.000000</td>\n",
              "      <td>32.200000</td>\n",
              "      <td>0.378000</td>\n",
              "      <td>29.000000</td>\n",
              "      <td>0.000000</td>\n",
              "      <td>2.222326</td>\n",
              "      <td>2.320000</td>\n",
              "      <td>0.720000</td>\n",
              "      <td>58.365759</td>\n",
              "    </tr>\n",
              "    <tr>\n",
              "      <th>75%</th>\n",
              "      <td>6.000000</td>\n",
              "      <td>141.000000</td>\n",
              "      <td>80.000000</td>\n",
              "      <td>32.000000</td>\n",
              "      <td>129.000000</td>\n",
              "      <td>36.600000</td>\n",
              "      <td>0.629000</td>\n",
              "      <td>41.000000</td>\n",
              "      <td>1.000000</td>\n",
              "      <td>2.580645</td>\n",
              "      <td>2.833333</td>\n",
              "      <td>1.130435</td>\n",
              "      <td>284.571429</td>\n",
              "    </tr>\n",
              "    <tr>\n",
              "      <th>max</th>\n",
              "      <td>17.000000</td>\n",
              "      <td>199.000000</td>\n",
              "      <td>122.000000</td>\n",
              "      <td>99.000000</td>\n",
              "      <td>846.000000</td>\n",
              "      <td>67.100000</td>\n",
              "      <td>2.420000</td>\n",
              "      <td>81.000000</td>\n",
              "      <td>1.000000</td>\n",
              "      <td>5.446429</td>\n",
              "      <td>4.571429</td>\n",
              "      <td>2.520000</td>\n",
              "      <td>3750.000000</td>\n",
              "    </tr>\n",
              "  </tbody>\n",
              "</table>\n",
              "</div>"
            ],
            "text/plain": [
              "       Pregnancies     Glucose  BloodPressure  SkinThickness     Insulin  \\\n",
              "count   761.000000  761.000000     761.000000     761.000000  761.000000   \n",
              "mean      3.840999  121.131406      69.741130      20.725361   80.533509   \n",
              "std       3.370491   31.989531      18.267674      15.902731  115.517596   \n",
              "min       0.000000    0.000000       0.000000       0.000000    0.000000   \n",
              "25%       1.000000   99.000000      64.000000       0.000000    0.000000   \n",
              "50%       3.000000  117.000000      72.000000      23.000000   36.000000   \n",
              "75%       6.000000  141.000000      80.000000      32.000000  129.000000   \n",
              "max      17.000000  199.000000     122.000000      99.000000  846.000000   \n",
              "\n",
              "              BMI  DiabetesPedigreeFunction         Age     Outcome  \\\n",
              "count  761.000000                761.000000  761.000000  761.000000   \n",
              "mean    32.286859                  0.474126   33.323259    0.350854   \n",
              "std      7.295107                  0.331947   11.779469    0.477551   \n",
              "min      0.000000                  0.078000   21.000000    0.000000   \n",
              "25%     27.400000                  0.244000   24.000000    0.000000   \n",
              "50%     32.200000                  0.378000   29.000000    0.000000   \n",
              "75%     36.600000                  0.629000   41.000000    1.000000   \n",
              "max     67.100000                  2.420000   81.000000    1.000000   \n",
              "\n",
              "        dav_k_ves   dav_k_age  skin_k_age  insulin_k_diabet  \n",
              "count  761.000000  761.000000  761.000000        761.000000  \n",
              "mean     2.222326    2.280414    0.705852        218.928673  \n",
              "std      0.694728    0.822255    0.570132        398.982487  \n",
              "min      0.000000    0.000000    0.000000          0.000000  \n",
              "25%      1.891253    1.760000    0.000000          0.000000  \n",
              "50%      2.222326    2.320000    0.720000         58.365759  \n",
              "75%      2.580645    2.833333    1.130435        284.571429  \n",
              "max      5.446429    4.571429    2.520000       3750.000000  "
            ]
          },
          "execution_count": 42,
          "metadata": {},
          "output_type": "execute_result"
        }
      ],
      "source": [
        "data_mod = data.copy() #создадим новый датафрейм для работы с новыми показателями\n",
        "# data_mod[\"ne_otm\"] = data_mod[\"totalScanTimeInSeconds\"] * data_mod[\"scannedLineItemsPerSecond\"]\n",
        "# data_mod[\"otm_i_ne_otm\"] = data_mod[\"lineItemVoids\"] + data_mod[\"ne_otm\"]\n",
        "# data_mod[\"sec_na_1_udach_scan\"] = data_mod[\"totalScanTimeInSeconds\"] / data_mod[\"otm_i_ne_otm\"]\n",
        "# data_mod[\"udach_i_neudach_scan\"] = data_mod[\"otm_i_ne_otm\"] + data_mod[\"scansWithoutRegistration\"]\n",
        "# data_mod[\"dolya_neudach_scan\"] = data_mod[\"scansWithoutRegistration\"] / data_mod[\"udach_i_neudach_scan\"]\n",
        "# data_mod[\"sec_na_1_scan\"] = data_mod[\"totalScanTimeInSeconds\"] / data_mod[\"udach_i_neudach_scan\"]\n",
        "\n",
        "# отношение давления к весу\n",
        "data_mod[\"dav_k_ves\"] = data_mod[\"BloodPressure\"] / data_mod[\"BMI\"]\n",
        "data_mod[\"dav_k_age\"] = data_mod[\"BloodPressure\"]/ data_mod[\"Age\"]\n",
        "# отношение толщины кожи к возрасту\n",
        "data_mod['skin_k_age'] = data_mod[\"SkinThickness\"] / data_mod[\"Age\"]\n",
        "# отношение инсулина к проценту диабета\n",
        "data_mod['insulin_k_diabet'] = data_mod['Insulin'] / data_mod[\"DiabetesPedigreeFunction\"]\n",
        "\n",
        "data_mod.replace([np.inf, -np.inf], np.nan, inplace=True)\n",
        "print(data_mod.isnull().sum())\n",
        "data_mod.fillna(data_mod.mean(), inplace=True)\n",
        "data_mod.describe()\n",
        "\n",
        "\n"
      ]
    },
    {
      "cell_type": "markdown",
      "metadata": {
        "id": "1ejA-5AN9FBz"
      },
      "source": [
        "### Уменьшение размерности данных\n"
      ]
    },
    {
      "cell_type": "markdown",
      "metadata": {
        "id": "_Fetj2QY9FBz"
      },
      "source": [
        "Теперь попробуем удалить колонки, если между ними есть явная корреляция."
      ]
    },
    {
      "cell_type": "code",
      "execution_count": 43,
      "metadata": {
        "colab": {
          "base_uri": "https://localhost:8080/"
        },
        "id": "4lI0h9j79FBz",
        "outputId": "31264b79-9aea-436e-f033-181e759c8c9a"
      },
      "outputs": [
        {
          "name": "stdout",
          "output_type": "stream",
          "text": [
            "['SkinThickness', 'Insulin', 'skin_k_age', 'insulin_k_diabet']\n"
          ]
        }
      ],
      "source": [
        "# Убираем колонки с корреляцией >0.75\n",
        "correlation_matrix = data_mod.corr() #строим корреляционную матрицу\n",
        "\n",
        "high_correlation_columns = (correlation_matrix.abs() > 0.75).sum() > 1\n",
        "high_correlation_columns = high_correlation_columns[high_correlation_columns].index.tolist()\n",
        "print(high_correlation_columns)\n",
        "\n",
        "# data = data.drop(columns=...)\n",
        "# data"
      ]
    },
    {
      "cell_type": "markdown",
      "metadata": {
        "id": "uCO5b0wx9FBz"
      },
      "source": [
        "**Убираем колонки у которых дисперсия около нуля**\n",
        "\n",
        "В данном коде на Python мы используем класс VarianceThreshold из модуля sklearn.feature_selection для выявления и удаления признаков с низкой дисперсией.\n",
        "\n",
        "По умолчанию он удаляет все признаки с нулевой дисперсией, то есть признаки, которые имеют одинаковое значение во всех выборках.\n",
        "\n",
        "Значение порога 0.01 является всего лишь примером; вы можете настроить его в зависимости от вашего набора данных и конкретных потребностей. Выбранные имена признаков сохраняются в переменной important_feature_names, после чего набор данных фильтруется так, чтобы остались только эти важные признаки."
      ]
    },
    {
      "cell_type": "code",
      "execution_count": 44,
      "metadata": {},
      "outputs": [
        {
          "name": "stdout",
          "output_type": "stream",
          "text": [
            "Pregnancies                 0\n",
            "Glucose                     0\n",
            "BloodPressure               0\n",
            "SkinThickness               0\n",
            "Insulin                     0\n",
            "BMI                         0\n",
            "DiabetesPedigreeFunction    0\n",
            "Age                         0\n",
            "Outcome                     0\n",
            "dav_k_ves                   0\n",
            "dav_k_age                   0\n",
            "skin_k_age                  0\n",
            "insulin_k_diabet            0\n",
            "dtype: int64\n"
          ]
        }
      ],
      "source": [
        "import numpy as np\n",
        "\n",
        "# Проверяем, есть ли в данных inf или -inf\n",
        "print(np.isinf(data_mod).sum())\n",
        "data_mod.dropna(inplace=True)\n",
        "data_mod.fillna(data_mod.mean(), inplace=True)\n",
        "\n",
        "\n"
      ]
    },
    {
      "cell_type": "code",
      "execution_count": 45,
      "metadata": {
        "colab": {
          "base_uri": "https://localhost:8080/",
          "height": 444
        },
        "id": "o0P2cbjh9FBz",
        "outputId": "3a80182d-9164-4bc4-cf79-219bbed43fb3"
      },
      "outputs": [
        {
          "data": {
            "text/html": [
              "<div>\n",
              "<style scoped>\n",
              "    .dataframe tbody tr th:only-of-type {\n",
              "        vertical-align: middle;\n",
              "    }\n",
              "\n",
              "    .dataframe tbody tr th {\n",
              "        vertical-align: top;\n",
              "    }\n",
              "\n",
              "    .dataframe thead th {\n",
              "        text-align: right;\n",
              "    }\n",
              "</style>\n",
              "<table border=\"1\" class=\"dataframe\">\n",
              "  <thead>\n",
              "    <tr style=\"text-align: right;\">\n",
              "      <th></th>\n",
              "      <th>Pregnancies</th>\n",
              "      <th>Glucose</th>\n",
              "      <th>BloodPressure</th>\n",
              "      <th>SkinThickness</th>\n",
              "      <th>Insulin</th>\n",
              "      <th>BMI</th>\n",
              "      <th>DiabetesPedigreeFunction</th>\n",
              "      <th>Age</th>\n",
              "      <th>Outcome</th>\n",
              "      <th>dav_k_ves</th>\n",
              "      <th>dav_k_age</th>\n",
              "      <th>skin_k_age</th>\n",
              "      <th>insulin_k_diabet</th>\n",
              "    </tr>\n",
              "  </thead>\n",
              "  <tbody>\n",
              "    <tr>\n",
              "      <th>0</th>\n",
              "      <td>6</td>\n",
              "      <td>148</td>\n",
              "      <td>72</td>\n",
              "      <td>35</td>\n",
              "      <td>0</td>\n",
              "      <td>33.6</td>\n",
              "      <td>0.627</td>\n",
              "      <td>50</td>\n",
              "      <td>1</td>\n",
              "      <td>2.142857</td>\n",
              "      <td>1.440000</td>\n",
              "      <td>0.700000</td>\n",
              "      <td>0.000000</td>\n",
              "    </tr>\n",
              "    <tr>\n",
              "      <th>1</th>\n",
              "      <td>1</td>\n",
              "      <td>85</td>\n",
              "      <td>66</td>\n",
              "      <td>29</td>\n",
              "      <td>0</td>\n",
              "      <td>26.6</td>\n",
              "      <td>0.351</td>\n",
              "      <td>31</td>\n",
              "      <td>0</td>\n",
              "      <td>2.481203</td>\n",
              "      <td>2.129032</td>\n",
              "      <td>0.935484</td>\n",
              "      <td>0.000000</td>\n",
              "    </tr>\n",
              "    <tr>\n",
              "      <th>2</th>\n",
              "      <td>8</td>\n",
              "      <td>183</td>\n",
              "      <td>64</td>\n",
              "      <td>0</td>\n",
              "      <td>0</td>\n",
              "      <td>23.3</td>\n",
              "      <td>0.672</td>\n",
              "      <td>32</td>\n",
              "      <td>1</td>\n",
              "      <td>2.746781</td>\n",
              "      <td>2.000000</td>\n",
              "      <td>0.000000</td>\n",
              "      <td>0.000000</td>\n",
              "    </tr>\n",
              "    <tr>\n",
              "      <th>3</th>\n",
              "      <td>1</td>\n",
              "      <td>89</td>\n",
              "      <td>66</td>\n",
              "      <td>23</td>\n",
              "      <td>94</td>\n",
              "      <td>28.1</td>\n",
              "      <td>0.167</td>\n",
              "      <td>21</td>\n",
              "      <td>0</td>\n",
              "      <td>2.348754</td>\n",
              "      <td>3.142857</td>\n",
              "      <td>1.095238</td>\n",
              "      <td>562.874251</td>\n",
              "    </tr>\n",
              "    <tr>\n",
              "      <th>4</th>\n",
              "      <td>0</td>\n",
              "      <td>137</td>\n",
              "      <td>40</td>\n",
              "      <td>35</td>\n",
              "      <td>168</td>\n",
              "      <td>43.1</td>\n",
              "      <td>2.288</td>\n",
              "      <td>33</td>\n",
              "      <td>1</td>\n",
              "      <td>0.928074</td>\n",
              "      <td>1.212121</td>\n",
              "      <td>1.060606</td>\n",
              "      <td>73.426573</td>\n",
              "    </tr>\n",
              "    <tr>\n",
              "      <th>...</th>\n",
              "      <td>...</td>\n",
              "      <td>...</td>\n",
              "      <td>...</td>\n",
              "      <td>...</td>\n",
              "      <td>...</td>\n",
              "      <td>...</td>\n",
              "      <td>...</td>\n",
              "      <td>...</td>\n",
              "      <td>...</td>\n",
              "      <td>...</td>\n",
              "      <td>...</td>\n",
              "      <td>...</td>\n",
              "      <td>...</td>\n",
              "    </tr>\n",
              "    <tr>\n",
              "      <th>763</th>\n",
              "      <td>10</td>\n",
              "      <td>101</td>\n",
              "      <td>76</td>\n",
              "      <td>48</td>\n",
              "      <td>180</td>\n",
              "      <td>32.9</td>\n",
              "      <td>0.171</td>\n",
              "      <td>63</td>\n",
              "      <td>0</td>\n",
              "      <td>2.310030</td>\n",
              "      <td>1.206349</td>\n",
              "      <td>0.761905</td>\n",
              "      <td>1052.631579</td>\n",
              "    </tr>\n",
              "    <tr>\n",
              "      <th>764</th>\n",
              "      <td>2</td>\n",
              "      <td>122</td>\n",
              "      <td>70</td>\n",
              "      <td>27</td>\n",
              "      <td>0</td>\n",
              "      <td>36.8</td>\n",
              "      <td>0.340</td>\n",
              "      <td>27</td>\n",
              "      <td>0</td>\n",
              "      <td>1.902174</td>\n",
              "      <td>2.592593</td>\n",
              "      <td>1.000000</td>\n",
              "      <td>0.000000</td>\n",
              "    </tr>\n",
              "    <tr>\n",
              "      <th>765</th>\n",
              "      <td>5</td>\n",
              "      <td>121</td>\n",
              "      <td>72</td>\n",
              "      <td>23</td>\n",
              "      <td>112</td>\n",
              "      <td>26.2</td>\n",
              "      <td>0.245</td>\n",
              "      <td>30</td>\n",
              "      <td>0</td>\n",
              "      <td>2.748092</td>\n",
              "      <td>2.400000</td>\n",
              "      <td>0.766667</td>\n",
              "      <td>457.142857</td>\n",
              "    </tr>\n",
              "    <tr>\n",
              "      <th>766</th>\n",
              "      <td>1</td>\n",
              "      <td>126</td>\n",
              "      <td>60</td>\n",
              "      <td>0</td>\n",
              "      <td>0</td>\n",
              "      <td>30.1</td>\n",
              "      <td>0.349</td>\n",
              "      <td>47</td>\n",
              "      <td>1</td>\n",
              "      <td>1.993355</td>\n",
              "      <td>1.276596</td>\n",
              "      <td>0.000000</td>\n",
              "      <td>0.000000</td>\n",
              "    </tr>\n",
              "    <tr>\n",
              "      <th>767</th>\n",
              "      <td>1</td>\n",
              "      <td>93</td>\n",
              "      <td>70</td>\n",
              "      <td>31</td>\n",
              "      <td>0</td>\n",
              "      <td>30.4</td>\n",
              "      <td>0.315</td>\n",
              "      <td>23</td>\n",
              "      <td>0</td>\n",
              "      <td>2.302632</td>\n",
              "      <td>3.043478</td>\n",
              "      <td>1.347826</td>\n",
              "      <td>0.000000</td>\n",
              "    </tr>\n",
              "  </tbody>\n",
              "</table>\n",
              "<p>761 rows × 13 columns</p>\n",
              "</div>"
            ],
            "text/plain": [
              "     Pregnancies  Glucose  BloodPressure  SkinThickness  Insulin   BMI  \\\n",
              "0              6      148             72             35        0  33.6   \n",
              "1              1       85             66             29        0  26.6   \n",
              "2              8      183             64              0        0  23.3   \n",
              "3              1       89             66             23       94  28.1   \n",
              "4              0      137             40             35      168  43.1   \n",
              "..           ...      ...            ...            ...      ...   ...   \n",
              "763           10      101             76             48      180  32.9   \n",
              "764            2      122             70             27        0  36.8   \n",
              "765            5      121             72             23      112  26.2   \n",
              "766            1      126             60              0        0  30.1   \n",
              "767            1       93             70             31        0  30.4   \n",
              "\n",
              "     DiabetesPedigreeFunction  Age  Outcome  dav_k_ves  dav_k_age  skin_k_age  \\\n",
              "0                       0.627   50        1   2.142857   1.440000    0.700000   \n",
              "1                       0.351   31        0   2.481203   2.129032    0.935484   \n",
              "2                       0.672   32        1   2.746781   2.000000    0.000000   \n",
              "3                       0.167   21        0   2.348754   3.142857    1.095238   \n",
              "4                       2.288   33        1   0.928074   1.212121    1.060606   \n",
              "..                        ...  ...      ...        ...        ...         ...   \n",
              "763                     0.171   63        0   2.310030   1.206349    0.761905   \n",
              "764                     0.340   27        0   1.902174   2.592593    1.000000   \n",
              "765                     0.245   30        0   2.748092   2.400000    0.766667   \n",
              "766                     0.349   47        1   1.993355   1.276596    0.000000   \n",
              "767                     0.315   23        0   2.302632   3.043478    1.347826   \n",
              "\n",
              "     insulin_k_diabet  \n",
              "0            0.000000  \n",
              "1            0.000000  \n",
              "2            0.000000  \n",
              "3          562.874251  \n",
              "4           73.426573  \n",
              "..                ...  \n",
              "763       1052.631579  \n",
              "764          0.000000  \n",
              "765        457.142857  \n",
              "766          0.000000  \n",
              "767          0.000000  \n",
              "\n",
              "[761 rows x 13 columns]"
            ]
          },
          "execution_count": 45,
          "metadata": {},
          "output_type": "execute_result"
        }
      ],
      "source": [
        "from sklearn.feature_selection import VarianceThreshold\n",
        "\n",
        "data = data_mod.copy()\n",
        "\n",
        "nImportant = VarianceThreshold(threshold=0.01)\n",
        "nImportant.fit(data)\n",
        "\n",
        "# Получаем название колонок, с значащами признаками\n",
        "important_feature_names = data.columns[nImportant.get_support()]\n",
        "#get_support - получение маски или целочисленного индекса выбранных элементов\n",
        "\n",
        "# Отфильтруйте набор данных, чтобы включить в него только важные характеристики\n",
        "data = data[important_feature_names]\n",
        "data"
      ]
    },
    {
      "cell_type": "markdown",
      "metadata": {
        "id": "2HGkYVR19FBz"
      },
      "source": [
        "### Проверка значимости качества данных\n",
        "\n",
        "Для того, чтобы воочию увидеть результаты проделанной нами работы, построим на наших данных модель и сравним качество модели на исходных данных и на модифицированных."
      ]
    },
    {
      "cell_type": "markdown",
      "metadata": {
        "id": "L36Yc7x69FB0"
      },
      "source": [
        "Используем метод опорных векторов(SVM)."
      ]
    },
    {
      "cell_type": "markdown",
      "metadata": {
        "id": "oc0clAYR9FB0"
      },
      "source": [
        "##### Support Vector Machine\n",
        "\n",
        "svm.LinearSVC([penalty, loss, dual, tol, C, ...])\n",
        "\n",
        "**Метод опорных векторов** (англ. support vector machine, SVM) — один из наиболее популярных методов обучения, который применяется для решения задач классификации и регрессии. Основная идея метода заключается в построении гиперплоскости, разделяющей объекты выборки оптимальным способом (как и у многих других подобных методов).\n",
        "\n",
        "Алгоритм работает в предположении, что чем больше расстояние (зазор) между разделяющей гиперплоскостью и объектами разделяемых классов, тем меньше будет средняя ошибка классификатора.\n",
        "\n",
        "Подробнее о моделях мы поговорим на семинаре 4.\n",
        "\n",
        "Строгий вывод постановки задачи SVM можно прочитать [тут](https://www.mit.edu/~9.520/spring08/Classes/class05.pdf) или в [лекции К.В. Воронцова.](http://machinelearning.ru/wiki/images/archive/a/a0/20150316112120!Voron-ML-Lin-SVM.pdf)\n"
      ]
    },
    {
      "cell_type": "markdown",
      "metadata": {
        "id": "ra4xOjSt9FB0"
      },
      "source": [
        "В нашей задаче мы проделаем классификацию по колонке \"fraud\", которая имеет только 2 класса: 0 и 1.\n",
        "Соответственно, мы обсуждаем с вами обсуждаем **двухклассовую** классификацию."
      ]
    },
    {
      "cell_type": "markdown",
      "metadata": {
        "id": "qrTcpuRu9FB0"
      },
      "source": [
        "Напомним, что входные переменные, описывающие рассматриваемые объекты, называют **предикторами** (независимыми переменными) и обозначают *X1,X2, ...,Xp*.\n",
        "\n",
        "Предикторы также часто называют признаками, а конкретные их значения чаще обозначают маленькими буквами *x1, x2, ..., xp.*\n",
        "\n",
        "Выходную переменную, основывающуюся на некоторых значениях предикторов, называют **откликом** или **зависимой переменной** и обозначают *Y*.\n"
      ]
    },
    {
      "cell_type": "code",
      "execution_count": 47,
      "metadata": {
        "id": "8X3rSHJQ9FB0"
      },
      "outputs": [],
      "source": [
        "n = data.shape[0] #количество строк в датафрейме\n",
        "t = round(n * 0.8)\n",
        "X = data.drop(columns=[\"Outcome\"]) #убираем колонку fraud\n",
        "y = data[\"Outcome\"] #и выделяем в отдельную переменную. X - признаки, Y - это наш отклик.\n",
        "X_mod = data_mod.drop(columns=[\"Outcome\"])\n",
        "y_mod = data_mod[\"Outcome\"]\n",
        "\n",
        "#Разбиваем данные на обучающую и тестовую выборки в отношении 80/20\n",
        "#Если это делать вручную, то получится что-то такое:\n",
        "# data_train = X[:t]\n",
        "# data_test = X[t:]\n",
        "# y_train = y[:t]\n",
        "# y_test = y[t:]\n",
        "\n",
        "# data_train_mod = X_mod[:t]\n",
        "# data_test_mod = X_mod[t:]\n",
        "# y_train_mod = y_mod[:t]\n",
        "# y_test_mod = y_mod[t:]"
      ]
    },
    {
      "cell_type": "code",
      "execution_count": null,
      "metadata": {
        "id": "5oQW6RpK9FB0"
      },
      "outputs": [],
      "source": [
        "#но можно сделать проще:\n",
        "\n",
        "from sklearn.model_selection import train_test_split\n",
        "\n",
        "X_train, X_test, y_train, y_test = train_test_split(X, y, test_size=0.2, random_state=42)\n",
        "# проделайте то же самое для data_mod\n",
        "\n",
        "X_mod_train, X_mod_test, y_mod_train, y_mod_test = train_test_split(X_mod, y_mod, test_size=0.2, random_state=42)"
      ]
    },
    {
      "cell_type": "markdown",
      "metadata": {
        "id": "OxdAOG1V9FB0"
      },
      "source": [
        "#### Метод опорных векторов в задаче классификации\n",
        "\n"
      ]
    },
    {
      "cell_type": "code",
      "execution_count": null,
      "metadata": {
        "colab": {
          "base_uri": "https://localhost:8080/",
          "height": 164
        },
        "id": "nymvIrCX9FB0",
        "outputId": "bf1c2649-6a2f-4d91-8d15-749ce0afab95"
      },
      "outputs": [
        {
          "name": "stderr",
          "output_type": "stream",
          "text": [
            "/usr/local/lib/python3.10/dist-packages/sklearn/svm/_classes.py:32: FutureWarning: The default value of `dual` will change from `True` to `'auto'` in 1.5. Set the value of `dual` explicitly to suppress the warning.\n",
            "  warnings.warn(\n",
            "/usr/local/lib/python3.10/dist-packages/sklearn/svm/_base.py:1250: ConvergenceWarning: Liblinear failed to converge, increase the number of iterations.\n",
            "  warnings.warn(\n"
          ]
        },
        {
          "data": {
            "text/html": [
              "<style>#sk-container-id-1 {color: black;}#sk-container-id-1 pre{padding: 0;}#sk-container-id-1 div.sk-toggleable {background-color: white;}#sk-container-id-1 label.sk-toggleable__label {cursor: pointer;display: block;width: 100%;margin-bottom: 0;padding: 0.3em;box-sizing: border-box;text-align: center;}#sk-container-id-1 label.sk-toggleable__label-arrow:before {content: \"▸\";float: left;margin-right: 0.25em;color: #696969;}#sk-container-id-1 label.sk-toggleable__label-arrow:hover:before {color: black;}#sk-container-id-1 div.sk-estimator:hover label.sk-toggleable__label-arrow:before {color: black;}#sk-container-id-1 div.sk-toggleable__content {max-height: 0;max-width: 0;overflow: hidden;text-align: left;background-color: #f0f8ff;}#sk-container-id-1 div.sk-toggleable__content pre {margin: 0.2em;color: black;border-radius: 0.25em;background-color: #f0f8ff;}#sk-container-id-1 input.sk-toggleable__control:checked~div.sk-toggleable__content {max-height: 200px;max-width: 100%;overflow: auto;}#sk-container-id-1 input.sk-toggleable__control:checked~label.sk-toggleable__label-arrow:before {content: \"▾\";}#sk-container-id-1 div.sk-estimator input.sk-toggleable__control:checked~label.sk-toggleable__label {background-color: #d4ebff;}#sk-container-id-1 div.sk-label input.sk-toggleable__control:checked~label.sk-toggleable__label {background-color: #d4ebff;}#sk-container-id-1 input.sk-hidden--visually {border: 0;clip: rect(1px 1px 1px 1px);clip: rect(1px, 1px, 1px, 1px);height: 1px;margin: -1px;overflow: hidden;padding: 0;position: absolute;width: 1px;}#sk-container-id-1 div.sk-estimator {font-family: monospace;background-color: #f0f8ff;border: 1px dotted black;border-radius: 0.25em;box-sizing: border-box;margin-bottom: 0.5em;}#sk-container-id-1 div.sk-estimator:hover {background-color: #d4ebff;}#sk-container-id-1 div.sk-parallel-item::after {content: \"\";width: 100%;border-bottom: 1px solid gray;flex-grow: 1;}#sk-container-id-1 div.sk-label:hover label.sk-toggleable__label {background-color: #d4ebff;}#sk-container-id-1 div.sk-serial::before {content: \"\";position: absolute;border-left: 1px solid gray;box-sizing: border-box;top: 0;bottom: 0;left: 50%;z-index: 0;}#sk-container-id-1 div.sk-serial {display: flex;flex-direction: column;align-items: center;background-color: white;padding-right: 0.2em;padding-left: 0.2em;position: relative;}#sk-container-id-1 div.sk-item {position: relative;z-index: 1;}#sk-container-id-1 div.sk-parallel {display: flex;align-items: stretch;justify-content: center;background-color: white;position: relative;}#sk-container-id-1 div.sk-item::before, #sk-container-id-1 div.sk-parallel-item::before {content: \"\";position: absolute;border-left: 1px solid gray;box-sizing: border-box;top: 0;bottom: 0;left: 50%;z-index: -1;}#sk-container-id-1 div.sk-parallel-item {display: flex;flex-direction: column;z-index: 1;position: relative;background-color: white;}#sk-container-id-1 div.sk-parallel-item:first-child::after {align-self: flex-end;width: 50%;}#sk-container-id-1 div.sk-parallel-item:last-child::after {align-self: flex-start;width: 50%;}#sk-container-id-1 div.sk-parallel-item:only-child::after {width: 0;}#sk-container-id-1 div.sk-dashed-wrapped {border: 1px dashed gray;margin: 0 0.4em 0.5em 0.4em;box-sizing: border-box;padding-bottom: 0.4em;background-color: white;}#sk-container-id-1 div.sk-label label {font-family: monospace;font-weight: bold;display: inline-block;line-height: 1.2em;}#sk-container-id-1 div.sk-label-container {text-align: center;}#sk-container-id-1 div.sk-container {/* jupyter's `normalize.less` sets `[hidden] { display: none; }` but bootstrap.min.css set `[hidden] { display: none !important; }` so we also need the `!important` here to be able to override the default hidden behavior on the sphinx rendered scikit-learn.org. See: https://github.com/scikit-learn/scikit-learn/issues/21755 */display: inline-block !important;position: relative;}#sk-container-id-1 div.sk-text-repr-fallback {display: none;}</style><div id=\"sk-container-id-1\" class=\"sk-top-container\"><div class=\"sk-text-repr-fallback\"><pre>LinearSVC()</pre><b>In a Jupyter environment, please rerun this cell to show the HTML representation or trust the notebook. <br />On GitHub, the HTML representation is unable to render, please try loading this page with nbviewer.org.</b></div><div class=\"sk-container\" hidden><div class=\"sk-item\"><div class=\"sk-estimator sk-toggleable\"><input class=\"sk-toggleable__control sk-hidden--visually\" id=\"sk-estimator-id-1\" type=\"checkbox\" checked><label for=\"sk-estimator-id-1\" class=\"sk-toggleable__label sk-toggleable__label-arrow\">LinearSVC</label><div class=\"sk-toggleable__content\"><pre>LinearSVC()</pre></div></div></div></div></div>"
            ],
            "text/plain": [
              "LinearSVC()"
            ]
          },
          "execution_count": 67,
          "metadata": {},
          "output_type": "execute_result"
        }
      ],
      "source": [
        "from sklearn.svm import LinearSVC\n",
        "from sklearn.metrics import accuracy_score\n",
        "\n",
        "svm_classifier = LinearSVC()\n",
        "svm_classifier.fit(X_train, y_train)"
      ]
    },
    {
      "cell_type": "markdown",
      "metadata": {
        "id": "I67Nb0dp9FB0"
      },
      "source": [
        "Теперь применим нашу модель к тестовой выборке"
      ]
    },
    {
      "cell_type": "code",
      "execution_count": null,
      "metadata": {
        "colab": {
          "base_uri": "https://localhost:8080/"
        },
        "id": "soP8Ck4k9FB1",
        "outputId": "0aabe851-5827-44e3-cacf-42a873a692af"
      },
      "outputs": [
        {
          "data": {
            "text/plain": [
              "array([0, 0, 0, 0, 0, 0, 0, 0, 0, 0, 0, 0, 0, 0, 0, 0, 0, 0, 0, 0, 0, 0,\n",
              "       0, 0, 0, 0, 0, 0, 0, 0, 0, 0, 0, 0, 0, 0, 0, 0, 0, 0, 0, 0, 0, 0,\n",
              "       0, 0, 0, 0, 0, 0, 0, 0, 0, 0, 0, 0, 0, 0, 0, 0, 0, 0, 0, 0, 0, 0,\n",
              "       0, 0, 0, 0, 0, 0, 0, 0, 0, 0, 0, 0, 0, 0, 0, 0, 0, 0, 0, 0, 0, 0,\n",
              "       0, 0, 0, 0, 0, 0, 0, 0, 0, 0, 0, 0, 0, 0, 0, 0, 0, 0, 0, 0, 0, 0,\n",
              "       0, 0, 0, 0, 0, 0, 0, 0, 0, 0, 0, 0, 0, 0, 0, 0, 0, 0, 0, 0, 0, 0,\n",
              "       0, 0, 0, 0, 0, 0, 0, 0, 0, 0, 0, 0, 0, 0, 0, 0, 0, 0, 1, 0, 0, 0,\n",
              "       0, 0, 0, 0, 0, 0, 0, 0, 0, 0, 0, 0, 0, 0, 0, 0, 0, 0, 0, 0, 0, 0,\n",
              "       0, 0, 0, 0, 0, 0, 0, 0, 0, 0, 0, 0, 0, 0, 0, 0, 0, 0, 0, 0, 0, 0,\n",
              "       0, 0, 0, 0, 0, 0, 0, 0, 0, 0, 0, 0, 0, 0, 0, 0, 0, 0, 0, 0, 0, 0,\n",
              "       0, 0, 0, 0, 0, 0, 0, 0, 0, 0, 0, 0, 0, 0, 0, 0, 0, 0, 0, 0, 0, 0,\n",
              "       0, 0, 0, 0, 0, 0, 0, 0, 0, 0, 0, 0, 0, 0, 0, 0, 0, 0, 0, 0, 0, 0,\n",
              "       0, 0, 0, 0, 0, 0, 0, 0, 0, 0, 0, 0, 0, 0, 0, 0, 0, 0, 0, 0, 0, 0,\n",
              "       0, 0, 0, 0, 0, 0, 0, 0, 0, 0, 0, 0, 0, 0, 0, 0, 0, 0, 0, 0, 0, 0,\n",
              "       0, 0, 0, 0, 0, 0, 0, 0, 0, 0, 0, 0, 0, 0, 0, 0, 0, 0, 0, 0, 0, 0,\n",
              "       0, 0, 0, 0, 0, 0, 0, 0, 0, 0, 0, 0, 0, 0, 0, 0, 0, 0, 0, 0, 0, 0,\n",
              "       0, 0, 0, 0, 0, 0, 0, 0, 0, 0, 0, 0, 0, 0, 0, 0, 0, 0, 0, 0, 0, 0,\n",
              "       0, 0])"
            ]
          },
          "execution_count": 68,
          "metadata": {},
          "output_type": "execute_result"
        }
      ],
      "source": [
        "res_raw_data = svm_classifier.predict(X_test)\n",
        "res_raw_data"
      ]
    },
    {
      "cell_type": "markdown",
      "metadata": {
        "id": "EYRGiTKF9FB1"
      },
      "source": [
        "Оценим качество работы модели.\n",
        "В данном случае мы используем самую простую метрику оценки качества модели - Accuracy.\n",
        "\n",
        "Что такое Accuracy наглядно:\n",
        "\n",
        "![image.png](attachment:image.png)\n",
        "\n",
        "$accuracy = \\frac {TP + TN} {TP + TN + FP + FN}$\n",
        "\n",
        "Другие метрики мы рассмотрим на следующих практических занятиях."
      ]
    },
    {
      "cell_type": "code",
      "execution_count": null,
      "metadata": {
        "colab": {
          "base_uri": "https://localhost:8080/"
        },
        "id": "QHbjYtXZ9FB5",
        "outputId": "34763f7d-a39d-43a7-beef-5e5a1a3494b2"
      },
      "outputs": [
        {
          "name": "stdout",
          "output_type": "stream",
          "text": [
            "Accuracy on raw data: 0.9574468085106383\n"
          ]
        }
      ],
      "source": [
        "accuracy_raw = accuracy_score(y_test, res_raw_data)\n",
        "print(\"Accuracy on raw data:\", accuracy_raw)"
      ]
    },
    {
      "cell_type": "markdown",
      "metadata": {
        "id": "9cg0Lk919FB5"
      },
      "source": [
        "А теперь, проделаем то же самое, но на модифицированных данных:"
      ]
    },
    {
      "cell_type": "code",
      "execution_count": null,
      "metadata": {
        "colab": {
          "base_uri": "https://localhost:8080/"
        },
        "id": "MHI0YXrC9FB5",
        "outputId": "88e0b56c-d995-4688-acdb-773273a4d3b6"
      },
      "outputs": [
        {
          "name": "stderr",
          "output_type": "stream",
          "text": [
            "/usr/local/lib/python3.10/dist-packages/sklearn/svm/_classes.py:32: FutureWarning: The default value of `dual` will change from `True` to `'auto'` in 1.5. Set the value of `dual` explicitly to suppress the warning.\n",
            "  warnings.warn(\n",
            "/usr/local/lib/python3.10/dist-packages/sklearn/svm/_base.py:1250: ConvergenceWarning: Liblinear failed to converge, increase the number of iterations.\n",
            "  warnings.warn(\n"
          ]
        },
        {
          "data": {
            "text/plain": [
              "array([0, 0, 0, 0, 0, 0, 0, 0, 0, 0, 0, 0, 0, 0, 0, 0, 0, 0, 0, 0, 0, 0,\n",
              "       0, 0, 0, 0, 0, 0, 0, 0, 0, 0, 0, 0, 0, 0, 0, 0, 0, 0, 0, 0, 0, 0,\n",
              "       0, 0, 0, 0, 0, 0, 0, 0, 0, 0, 0, 0, 0, 0, 0, 0, 0, 0, 0, 0, 0, 0,\n",
              "       0, 0, 0, 0, 0, 0, 0, 0, 0, 0, 0, 0, 0, 0, 0, 0, 0, 0, 0, 0, 0, 0,\n",
              "       0, 0, 0, 0, 0, 0, 0, 0, 0, 0, 0, 0, 0, 0, 0, 0, 0, 0, 0, 0, 0, 0,\n",
              "       0, 0, 0, 0, 0, 0, 0, 0, 0, 0, 0, 0, 0, 0, 0, 0, 0, 0, 0, 0, 0, 0,\n",
              "       0, 0, 0, 0, 0, 0, 0, 0, 0, 0, 0, 0, 0, 0, 0, 0, 0, 0, 1, 0, 0, 0,\n",
              "       0, 0, 0, 0, 0, 0, 0, 0, 0, 0, 0, 0, 0, 0, 0, 0, 0, 0, 0, 0, 0, 0,\n",
              "       0, 0, 0, 0, 0, 0, 0, 0, 1, 0, 0, 0, 0, 0, 0, 0, 0, 0, 0, 0, 0, 0,\n",
              "       0, 0, 0, 0, 0, 0, 0, 0, 0, 0, 0, 0, 0, 0, 0, 0, 0, 0, 0, 0, 0, 0,\n",
              "       0, 0, 0, 0, 0, 0, 0, 0, 0, 0, 0, 0, 0, 0, 0, 0, 0, 0, 0, 0, 0, 0,\n",
              "       0, 0, 0, 0, 0, 0, 0, 0, 0, 0, 0, 0, 0, 0, 0, 0, 0, 0, 0, 0, 0, 0,\n",
              "       0, 0, 0, 0, 0, 0, 0, 0, 0, 0, 0, 0, 0, 0, 0, 0, 0, 0, 0, 0, 0, 0,\n",
              "       0, 0, 0, 0, 0, 0, 0, 0, 0, 0, 0, 0, 0, 0, 0, 0, 0, 0, 0, 0, 0, 0,\n",
              "       0, 0, 0, 0, 0, 0, 0, 0, 0, 0, 0, 0, 0, 0, 0, 0, 0, 0, 0, 0, 0, 0,\n",
              "       0, 0, 0, 0, 0, 0, 0, 0, 0, 0, 0, 0, 0, 0, 0, 0, 0, 0, 0, 0, 0, 0,\n",
              "       0, 0, 0, 0, 0, 0, 0, 0, 0, 0, 0, 0, 0, 0, 0, 0, 0, 0, 0, 0, 0, 0,\n",
              "       0, 0])"
            ]
          },
          "execution_count": 71,
          "metadata": {},
          "output_type": "execute_result"
        }
      ],
      "source": [
        "# проделайте самостоятельно\n",
        "...\n",
        "svm_classifier.fit(X_mod_train, y_mod_train)\n",
        "res_mod_data = svm_classifier.predict(X_mod_test)\n",
        "\n",
        "res_mod_data"
      ]
    },
    {
      "cell_type": "code",
      "execution_count": null,
      "metadata": {
        "colab": {
          "base_uri": "https://localhost:8080/"
        },
        "id": "S6hL1j619FB5",
        "outputId": "b4cfa173-2a58-4637-970c-6ea4e0f01dd4"
      },
      "outputs": [
        {
          "name": "stdout",
          "output_type": "stream",
          "text": [
            "Accuracy on modified data: 0.9601063829787234\n"
          ]
        }
      ],
      "source": [
        "accuracy_mod = accuracy_score(y_mod_test, res_mod_data)\n",
        "print(\"Accuracy on modified data:\", accuracy_mod)"
      ]
    },
    {
      "cell_type": "markdown",
      "metadata": {
        "id": "alKEUjdI9FB6"
      },
      "source": [
        "Теперь попробуйте проделать то же самое сами на другом датасете!\n",
        "\n",
        "(задание см. в Readme https://github.com/annaprovorova/HSE_ML_course_2024-2025/tree/main)"
      ]
    }
  ],
  "metadata": {
    "colab": {
      "provenance": []
    },
    "kernelspec": {
      "display_name": "MNE_env",
      "language": "python",
      "name": "python3"
    },
    "language_info": {
      "codemirror_mode": {
        "name": "ipython",
        "version": 3
      },
      "file_extension": ".py",
      "mimetype": "text/x-python",
      "name": "python",
      "nbconvert_exporter": "python",
      "pygments_lexer": "ipython3",
      "version": "3.12.6"
    },
    "orig_nbformat": 4
  },
  "nbformat": 4,
  "nbformat_minor": 0
}
